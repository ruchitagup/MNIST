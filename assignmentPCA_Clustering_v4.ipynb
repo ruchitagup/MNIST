{
 "cells": [
  {
   "cell_type": "markdown",
   "metadata": {
    "collapsed": true
   },
   "source": [
    "## To correctly classify the handwritten digits 0-9 from pixel data: SVM model with PCA"
   ]
  },
  {
   "cell_type": "markdown",
   "metadata": {},
   "source": [
    "### Importing Data"
   ]
  },
  {
   "cell_type": "code",
   "execution_count": 1,
   "metadata": {},
   "outputs": [],
   "source": [
    "# Importing Pandas and NumPy\n",
    "import pandas as pd\n",
    "import numpy as np\n",
    "import matplotlib.pyplot as plt\n",
    "import seaborn as sns"
   ]
  },
  {
   "cell_type": "code",
   "execution_count": 2,
   "metadata": {},
   "outputs": [],
   "source": [
    "# Importing all datasets\n",
    "train = pd.read_csv(\"train.csv\")"
   ]
  },
  {
   "cell_type": "code",
   "execution_count": 3,
   "metadata": {
    "scrolled": true
   },
   "outputs": [
    {
     "data": {
      "text/html": [
       "<div>\n",
       "<style scoped>\n",
       "    .dataframe tbody tr th:only-of-type {\n",
       "        vertical-align: middle;\n",
       "    }\n",
       "\n",
       "    .dataframe tbody tr th {\n",
       "        vertical-align: top;\n",
       "    }\n",
       "\n",
       "    .dataframe thead th {\n",
       "        text-align: right;\n",
       "    }\n",
       "</style>\n",
       "<table border=\"1\" class=\"dataframe\">\n",
       "  <thead>\n",
       "    <tr style=\"text-align: right;\">\n",
       "      <th></th>\n",
       "      <th>label</th>\n",
       "      <th>pixel0</th>\n",
       "      <th>pixel1</th>\n",
       "      <th>pixel2</th>\n",
       "      <th>pixel3</th>\n",
       "      <th>pixel4</th>\n",
       "      <th>pixel5</th>\n",
       "      <th>pixel6</th>\n",
       "      <th>pixel7</th>\n",
       "      <th>pixel8</th>\n",
       "      <th>...</th>\n",
       "      <th>pixel774</th>\n",
       "      <th>pixel775</th>\n",
       "      <th>pixel776</th>\n",
       "      <th>pixel777</th>\n",
       "      <th>pixel778</th>\n",
       "      <th>pixel779</th>\n",
       "      <th>pixel780</th>\n",
       "      <th>pixel781</th>\n",
       "      <th>pixel782</th>\n",
       "      <th>pixel783</th>\n",
       "    </tr>\n",
       "  </thead>\n",
       "  <tbody>\n",
       "    <tr>\n",
       "      <th>0</th>\n",
       "      <td>1</td>\n",
       "      <td>0</td>\n",
       "      <td>0</td>\n",
       "      <td>0</td>\n",
       "      <td>0</td>\n",
       "      <td>0</td>\n",
       "      <td>0</td>\n",
       "      <td>0</td>\n",
       "      <td>0</td>\n",
       "      <td>0</td>\n",
       "      <td>...</td>\n",
       "      <td>0</td>\n",
       "      <td>0</td>\n",
       "      <td>0</td>\n",
       "      <td>0</td>\n",
       "      <td>0</td>\n",
       "      <td>0</td>\n",
       "      <td>0</td>\n",
       "      <td>0</td>\n",
       "      <td>0</td>\n",
       "      <td>0</td>\n",
       "    </tr>\n",
       "    <tr>\n",
       "      <th>1</th>\n",
       "      <td>0</td>\n",
       "      <td>0</td>\n",
       "      <td>0</td>\n",
       "      <td>0</td>\n",
       "      <td>0</td>\n",
       "      <td>0</td>\n",
       "      <td>0</td>\n",
       "      <td>0</td>\n",
       "      <td>0</td>\n",
       "      <td>0</td>\n",
       "      <td>...</td>\n",
       "      <td>0</td>\n",
       "      <td>0</td>\n",
       "      <td>0</td>\n",
       "      <td>0</td>\n",
       "      <td>0</td>\n",
       "      <td>0</td>\n",
       "      <td>0</td>\n",
       "      <td>0</td>\n",
       "      <td>0</td>\n",
       "      <td>0</td>\n",
       "    </tr>\n",
       "    <tr>\n",
       "      <th>2</th>\n",
       "      <td>1</td>\n",
       "      <td>0</td>\n",
       "      <td>0</td>\n",
       "      <td>0</td>\n",
       "      <td>0</td>\n",
       "      <td>0</td>\n",
       "      <td>0</td>\n",
       "      <td>0</td>\n",
       "      <td>0</td>\n",
       "      <td>0</td>\n",
       "      <td>...</td>\n",
       "      <td>0</td>\n",
       "      <td>0</td>\n",
       "      <td>0</td>\n",
       "      <td>0</td>\n",
       "      <td>0</td>\n",
       "      <td>0</td>\n",
       "      <td>0</td>\n",
       "      <td>0</td>\n",
       "      <td>0</td>\n",
       "      <td>0</td>\n",
       "    </tr>\n",
       "    <tr>\n",
       "      <th>3</th>\n",
       "      <td>4</td>\n",
       "      <td>0</td>\n",
       "      <td>0</td>\n",
       "      <td>0</td>\n",
       "      <td>0</td>\n",
       "      <td>0</td>\n",
       "      <td>0</td>\n",
       "      <td>0</td>\n",
       "      <td>0</td>\n",
       "      <td>0</td>\n",
       "      <td>...</td>\n",
       "      <td>0</td>\n",
       "      <td>0</td>\n",
       "      <td>0</td>\n",
       "      <td>0</td>\n",
       "      <td>0</td>\n",
       "      <td>0</td>\n",
       "      <td>0</td>\n",
       "      <td>0</td>\n",
       "      <td>0</td>\n",
       "      <td>0</td>\n",
       "    </tr>\n",
       "    <tr>\n",
       "      <th>4</th>\n",
       "      <td>0</td>\n",
       "      <td>0</td>\n",
       "      <td>0</td>\n",
       "      <td>0</td>\n",
       "      <td>0</td>\n",
       "      <td>0</td>\n",
       "      <td>0</td>\n",
       "      <td>0</td>\n",
       "      <td>0</td>\n",
       "      <td>0</td>\n",
       "      <td>...</td>\n",
       "      <td>0</td>\n",
       "      <td>0</td>\n",
       "      <td>0</td>\n",
       "      <td>0</td>\n",
       "      <td>0</td>\n",
       "      <td>0</td>\n",
       "      <td>0</td>\n",
       "      <td>0</td>\n",
       "      <td>0</td>\n",
       "      <td>0</td>\n",
       "    </tr>\n",
       "  </tbody>\n",
       "</table>\n",
       "<p>5 rows × 785 columns</p>\n",
       "</div>"
      ],
      "text/plain": [
       "   label  pixel0  pixel1  pixel2  pixel3  pixel4  pixel5  pixel6  pixel7  \\\n",
       "0      1       0       0       0       0       0       0       0       0   \n",
       "1      0       0       0       0       0       0       0       0       0   \n",
       "2      1       0       0       0       0       0       0       0       0   \n",
       "3      4       0       0       0       0       0       0       0       0   \n",
       "4      0       0       0       0       0       0       0       0       0   \n",
       "\n",
       "   pixel8    ...     pixel774  pixel775  pixel776  pixel777  pixel778  \\\n",
       "0       0    ...            0         0         0         0         0   \n",
       "1       0    ...            0         0         0         0         0   \n",
       "2       0    ...            0         0         0         0         0   \n",
       "3       0    ...            0         0         0         0         0   \n",
       "4       0    ...            0         0         0         0         0   \n",
       "\n",
       "   pixel779  pixel780  pixel781  pixel782  pixel783  \n",
       "0         0         0         0         0         0  \n",
       "1         0         0         0         0         0  \n",
       "2         0         0         0         0         0  \n",
       "3         0         0         0         0         0  \n",
       "4         0         0         0         0         0  \n",
       "\n",
       "[5 rows x 785 columns]"
      ]
     },
     "execution_count": 3,
     "metadata": {},
     "output_type": "execute_result"
    }
   ],
   "source": [
    "train.head()"
   ]
  },
  {
   "cell_type": "code",
   "execution_count": 4,
   "metadata": {},
   "outputs": [
    {
     "name": "stdout",
     "output_type": "stream",
     "text": [
      "42000\n"
     ]
    }
   ],
   "source": [
    "print(len(train))"
   ]
  },
  {
   "cell_type": "markdown",
   "metadata": {},
   "source": [
    "### Let's understand the structure of our dataframe"
   ]
  },
  {
   "cell_type": "code",
   "execution_count": 6,
   "metadata": {},
   "outputs": [
    {
     "name": "stdout",
     "output_type": "stream",
     "text": [
      "<class 'pandas.core.frame.DataFrame'>\n",
      "RangeIndex: 42000 entries, 0 to 41999\n",
      "Columns: 785 entries, label to pixel783\n",
      "dtypes: int64(785)\n",
      "memory usage: 251.5 MB\n"
     ]
    }
   ],
   "source": [
    "train.info()"
   ]
  },
  {
   "cell_type": "code",
   "execution_count": 12,
   "metadata": {},
   "outputs": [
    {
     "name": "stdout",
     "output_type": "stream",
     "text": [
      "label       0\n",
      "pixel0      0\n",
      "pixel1      0\n",
      "pixel2      0\n",
      "pixel3      0\n",
      "pixel4      0\n",
      "pixel5      0\n",
      "pixel6      0\n",
      "pixel7      0\n",
      "pixel8      0\n",
      "pixel9      0\n",
      "pixel10     0\n",
      "pixel11     0\n",
      "pixel12     0\n",
      "pixel13     0\n",
      "pixel14     0\n",
      "pixel15     0\n",
      "pixel16     0\n",
      "pixel17     0\n",
      "pixel18     0\n",
      "pixel19     0\n",
      "pixel20     0\n",
      "pixel21     0\n",
      "pixel22     0\n",
      "pixel23     0\n",
      "pixel24     0\n",
      "pixel25     0\n",
      "pixel26     0\n",
      "pixel27     0\n",
      "pixel28     0\n",
      "           ..\n",
      "pixel754    0\n",
      "pixel755    0\n",
      "pixel756    0\n",
      "pixel757    0\n",
      "pixel758    0\n",
      "pixel759    0\n",
      "pixel760    0\n",
      "pixel761    0\n",
      "pixel762    0\n",
      "pixel763    0\n",
      "pixel764    0\n",
      "pixel765    0\n",
      "pixel766    0\n",
      "pixel767    0\n",
      "pixel768    0\n",
      "pixel769    0\n",
      "pixel770    0\n",
      "pixel771    0\n",
      "pixel772    0\n",
      "pixel773    0\n",
      "pixel774    0\n",
      "pixel775    0\n",
      "pixel776    0\n",
      "pixel777    0\n",
      "pixel778    0\n",
      "pixel779    0\n",
      "pixel780    0\n",
      "pixel781    0\n",
      "pixel782    0\n",
      "pixel783    0\n",
      "Length: 785, dtype: int64\n"
     ]
    }
   ],
   "source": [
    "print(train.isnull().sum())"
   ]
  },
  {
   "cell_type": "markdown",
   "metadata": {},
   "source": [
    "### Data Preparation"
   ]
  },
  {
   "cell_type": "code",
   "execution_count": null,
   "metadata": {},
   "outputs": [],
   "source": [
    "#Remove the label column"
   ]
  },
  {
   "cell_type": "code",
   "execution_count": 13,
   "metadata": {},
   "outputs": [],
   "source": [
    "y_train=train[\"label\"]"
   ]
  },
  {
   "cell_type": "code",
   "execution_count": 14,
   "metadata": {},
   "outputs": [
    {
     "data": {
      "text/plain": [
       "0    1\n",
       "1    0\n",
       "2    1\n",
       "3    4\n",
       "4    0\n",
       "Name: label, dtype: int64"
      ]
     },
     "execution_count": 14,
     "metadata": {},
     "output_type": "execute_result"
    }
   ],
   "source": [
    "y_train.head()"
   ]
  },
  {
   "cell_type": "code",
   "execution_count": 15,
   "metadata": {},
   "outputs": [],
   "source": [
    "train = train.drop([\"label\"], axis=1)"
   ]
  },
  {
   "cell_type": "code",
   "execution_count": 16,
   "metadata": {},
   "outputs": [
    {
     "data": {
      "text/html": [
       "<div>\n",
       "<style scoped>\n",
       "    .dataframe tbody tr th:only-of-type {\n",
       "        vertical-align: middle;\n",
       "    }\n",
       "\n",
       "    .dataframe tbody tr th {\n",
       "        vertical-align: top;\n",
       "    }\n",
       "\n",
       "    .dataframe thead th {\n",
       "        text-align: right;\n",
       "    }\n",
       "</style>\n",
       "<table border=\"1\" class=\"dataframe\">\n",
       "  <thead>\n",
       "    <tr style=\"text-align: right;\">\n",
       "      <th></th>\n",
       "      <th>pixel0</th>\n",
       "      <th>pixel1</th>\n",
       "      <th>pixel2</th>\n",
       "      <th>pixel3</th>\n",
       "      <th>pixel4</th>\n",
       "      <th>pixel5</th>\n",
       "      <th>pixel6</th>\n",
       "      <th>pixel7</th>\n",
       "      <th>pixel8</th>\n",
       "      <th>pixel9</th>\n",
       "      <th>...</th>\n",
       "      <th>pixel774</th>\n",
       "      <th>pixel775</th>\n",
       "      <th>pixel776</th>\n",
       "      <th>pixel777</th>\n",
       "      <th>pixel778</th>\n",
       "      <th>pixel779</th>\n",
       "      <th>pixel780</th>\n",
       "      <th>pixel781</th>\n",
       "      <th>pixel782</th>\n",
       "      <th>pixel783</th>\n",
       "    </tr>\n",
       "  </thead>\n",
       "  <tbody>\n",
       "    <tr>\n",
       "      <th>0</th>\n",
       "      <td>0</td>\n",
       "      <td>0</td>\n",
       "      <td>0</td>\n",
       "      <td>0</td>\n",
       "      <td>0</td>\n",
       "      <td>0</td>\n",
       "      <td>0</td>\n",
       "      <td>0</td>\n",
       "      <td>0</td>\n",
       "      <td>0</td>\n",
       "      <td>...</td>\n",
       "      <td>0</td>\n",
       "      <td>0</td>\n",
       "      <td>0</td>\n",
       "      <td>0</td>\n",
       "      <td>0</td>\n",
       "      <td>0</td>\n",
       "      <td>0</td>\n",
       "      <td>0</td>\n",
       "      <td>0</td>\n",
       "      <td>0</td>\n",
       "    </tr>\n",
       "    <tr>\n",
       "      <th>1</th>\n",
       "      <td>0</td>\n",
       "      <td>0</td>\n",
       "      <td>0</td>\n",
       "      <td>0</td>\n",
       "      <td>0</td>\n",
       "      <td>0</td>\n",
       "      <td>0</td>\n",
       "      <td>0</td>\n",
       "      <td>0</td>\n",
       "      <td>0</td>\n",
       "      <td>...</td>\n",
       "      <td>0</td>\n",
       "      <td>0</td>\n",
       "      <td>0</td>\n",
       "      <td>0</td>\n",
       "      <td>0</td>\n",
       "      <td>0</td>\n",
       "      <td>0</td>\n",
       "      <td>0</td>\n",
       "      <td>0</td>\n",
       "      <td>0</td>\n",
       "    </tr>\n",
       "    <tr>\n",
       "      <th>2</th>\n",
       "      <td>0</td>\n",
       "      <td>0</td>\n",
       "      <td>0</td>\n",
       "      <td>0</td>\n",
       "      <td>0</td>\n",
       "      <td>0</td>\n",
       "      <td>0</td>\n",
       "      <td>0</td>\n",
       "      <td>0</td>\n",
       "      <td>0</td>\n",
       "      <td>...</td>\n",
       "      <td>0</td>\n",
       "      <td>0</td>\n",
       "      <td>0</td>\n",
       "      <td>0</td>\n",
       "      <td>0</td>\n",
       "      <td>0</td>\n",
       "      <td>0</td>\n",
       "      <td>0</td>\n",
       "      <td>0</td>\n",
       "      <td>0</td>\n",
       "    </tr>\n",
       "    <tr>\n",
       "      <th>3</th>\n",
       "      <td>0</td>\n",
       "      <td>0</td>\n",
       "      <td>0</td>\n",
       "      <td>0</td>\n",
       "      <td>0</td>\n",
       "      <td>0</td>\n",
       "      <td>0</td>\n",
       "      <td>0</td>\n",
       "      <td>0</td>\n",
       "      <td>0</td>\n",
       "      <td>...</td>\n",
       "      <td>0</td>\n",
       "      <td>0</td>\n",
       "      <td>0</td>\n",
       "      <td>0</td>\n",
       "      <td>0</td>\n",
       "      <td>0</td>\n",
       "      <td>0</td>\n",
       "      <td>0</td>\n",
       "      <td>0</td>\n",
       "      <td>0</td>\n",
       "    </tr>\n",
       "    <tr>\n",
       "      <th>4</th>\n",
       "      <td>0</td>\n",
       "      <td>0</td>\n",
       "      <td>0</td>\n",
       "      <td>0</td>\n",
       "      <td>0</td>\n",
       "      <td>0</td>\n",
       "      <td>0</td>\n",
       "      <td>0</td>\n",
       "      <td>0</td>\n",
       "      <td>0</td>\n",
       "      <td>...</td>\n",
       "      <td>0</td>\n",
       "      <td>0</td>\n",
       "      <td>0</td>\n",
       "      <td>0</td>\n",
       "      <td>0</td>\n",
       "      <td>0</td>\n",
       "      <td>0</td>\n",
       "      <td>0</td>\n",
       "      <td>0</td>\n",
       "      <td>0</td>\n",
       "    </tr>\n",
       "  </tbody>\n",
       "</table>\n",
       "<p>5 rows × 784 columns</p>\n",
       "</div>"
      ],
      "text/plain": [
       "   pixel0  pixel1  pixel2  pixel3  pixel4  pixel5  pixel6  pixel7  pixel8  \\\n",
       "0       0       0       0       0       0       0       0       0       0   \n",
       "1       0       0       0       0       0       0       0       0       0   \n",
       "2       0       0       0       0       0       0       0       0       0   \n",
       "3       0       0       0       0       0       0       0       0       0   \n",
       "4       0       0       0       0       0       0       0       0       0   \n",
       "\n",
       "   pixel9    ...     pixel774  pixel775  pixel776  pixel777  pixel778  \\\n",
       "0       0    ...            0         0         0         0         0   \n",
       "1       0    ...            0         0         0         0         0   \n",
       "2       0    ...            0         0         0         0         0   \n",
       "3       0    ...            0         0         0         0         0   \n",
       "4       0    ...            0         0         0         0         0   \n",
       "\n",
       "   pixel779  pixel780  pixel781  pixel782  pixel783  \n",
       "0         0         0         0         0         0  \n",
       "1         0         0         0         0         0  \n",
       "2         0         0         0         0         0  \n",
       "3         0         0         0         0         0  \n",
       "4         0         0         0         0         0  \n",
       "\n",
       "[5 rows x 784 columns]"
      ]
     },
     "execution_count": 16,
     "metadata": {},
     "output_type": "execute_result"
    }
   ],
   "source": [
    "train.head()"
   ]
  },
  {
   "cell_type": "markdown",
   "metadata": {},
   "source": [
    "### PCA on the data"
   ]
  },
  {
   "cell_type": "code",
   "execution_count": 17,
   "metadata": {},
   "outputs": [],
   "source": [
    "#Improting the PCA module\n",
    "from sklearn.decomposition import PCA\n",
    "pca = PCA(svd_solver='randomized', random_state=42)"
   ]
  },
  {
   "cell_type": "code",
   "execution_count": 18,
   "metadata": {},
   "outputs": [
    {
     "data": {
      "text/plain": [
       "PCA(copy=True, iterated_power='auto', n_components=None, random_state=42,\n",
       "  svd_solver='randomized', tol=0.0, whiten=False)"
      ]
     },
     "execution_count": 18,
     "metadata": {},
     "output_type": "execute_result"
    }
   ],
   "source": [
    "#Doing the PCA on the train data\n",
    "pca.fit(train)"
   ]
  },
  {
   "cell_type": "code",
   "execution_count": 19,
   "metadata": {},
   "outputs": [
    {
     "data": {
      "text/plain": [
       "array([[ 9.96535248e-17,  0.00000000e+00,  0.00000000e+00, ...,\n",
       "         0.00000000e+00,  0.00000000e+00,  0.00000000e+00],\n",
       "       [ 6.47969138e-18,  4.09394740e-16, -0.00000000e+00, ...,\n",
       "        -0.00000000e+00, -0.00000000e+00, -0.00000000e+00],\n",
       "       [-3.95984274e-19,  1.95156391e-17,  2.77555756e-16, ...,\n",
       "         0.00000000e+00,  0.00000000e+00,  0.00000000e+00],\n",
       "       ...,\n",
       "       [ 0.00000000e+00,  0.00000000e+00,  0.00000000e+00, ...,\n",
       "         0.00000000e+00,  1.00000000e+00,  0.00000000e+00],\n",
       "       [-0.00000000e+00, -0.00000000e+00, -0.00000000e+00, ...,\n",
       "        -0.00000000e+00, -0.00000000e+00, -1.00000000e+00],\n",
       "       [ 9.99999726e-01,  9.72764459e-05, -5.32654187e-05, ...,\n",
       "         0.00000000e+00,  0.00000000e+00,  0.00000000e+00]])"
      ]
     },
     "execution_count": 19,
     "metadata": {},
     "output_type": "execute_result"
    }
   ],
   "source": [
    "pca.components_"
   ]
  },
  {
   "cell_type": "markdown",
   "metadata": {},
   "source": [
    "#### Looking at the screeplot to assess the number of principal components needed"
   ]
  },
  {
   "cell_type": "code",
   "execution_count": 20,
   "metadata": {},
   "outputs": [
    {
     "data": {
      "text/plain": [
       "array([9.74893769e-02, 7.16026628e-02, 6.14590336e-02, 5.37930200e-02,\n",
       "       4.89426213e-02, 4.30321399e-02, 3.27705076e-02, 2.89210317e-02,\n",
       "       2.76690235e-02, 2.34887103e-02, 2.09932543e-02, 2.05900116e-02,\n",
       "       1.70255350e-02, 1.69278702e-02, 1.58112641e-02, 1.48323962e-02,\n",
       "       1.31968789e-02, 1.28272708e-02, 1.18797614e-02, 1.15275473e-02,\n",
       "       1.07219122e-02, 1.01519930e-02, 9.64902259e-03, 9.12846068e-03,\n",
       "       8.87640859e-03, 8.38766308e-03, 8.11855855e-03, 7.77405747e-03,\n",
       "       7.40635116e-03, 6.86661489e-03, 6.57982211e-03, 6.38798611e-03,\n",
       "       5.99367016e-03, 5.88913410e-03, 5.64335178e-03, 5.40967048e-03,\n",
       "       5.09221943e-03, 4.87504936e-03, 4.75569422e-03, 4.66544724e-03,\n",
       "       4.52952464e-03, 4.44989164e-03, 4.18255277e-03, 3.97505755e-03,\n",
       "       3.84541993e-03, 3.74919479e-03, 3.61013219e-03, 3.48522166e-03,\n",
       "       3.36487802e-03, 3.20738135e-03, 3.15467117e-03, 3.09145543e-03,\n",
       "       2.93709181e-03, 2.86541339e-03, 2.80759437e-03, 2.69618435e-03,\n",
       "       2.65831383e-03, 2.56298604e-03, 2.53821090e-03, 2.46178252e-03,\n",
       "       2.39716188e-03, 2.38739578e-03, 2.27591447e-03, 2.21518444e-03,\n",
       "       2.13933611e-03, 2.06133397e-03, 2.02851149e-03, 1.95976714e-03,\n",
       "       1.93638614e-03, 1.88485334e-03, 1.86750994e-03, 1.81670044e-03,\n",
       "       1.76891254e-03, 1.72592413e-03, 1.66120849e-03, 1.63309544e-03,\n",
       "       1.60601340e-03, 1.54472396e-03, 1.46849742e-03, 1.42375935e-03,\n",
       "       1.41098458e-03, 1.40228444e-03, 1.38834819e-03, 1.35417334e-03,\n",
       "       1.32307196e-03, 1.30779914e-03, 1.29673803e-03, 1.24240433e-03,\n",
       "       1.22249140e-03, 1.19624452e-03, 1.15840263e-03, 1.13858990e-03,\n",
       "       1.12263468e-03, 1.10475151e-03, 1.08133084e-03, 1.07412608e-03,\n",
       "       1.03865632e-03, 1.03321996e-03, 1.01494630e-03, 9.99965034e-04,\n",
       "       9.74818997e-04, 9.45057663e-04, 9.38641819e-04, 9.12221022e-04,\n",
       "       9.07313503e-04, 8.88871636e-04, 8.63699685e-04, 8.44234992e-04,\n",
       "       8.35541599e-04, 8.16652064e-04, 7.87681237e-04, 7.81559589e-04,\n",
       "       7.77464583e-04, 7.71933701e-04, 7.57842341e-04, 7.50215590e-04,\n",
       "       7.34475822e-04, 7.25772099e-04, 7.15322651e-04, 7.00324985e-04,\n",
       "       6.93049551e-04, 6.85741080e-04, 6.79933115e-04, 6.65718665e-04,\n",
       "       6.56138536e-04, 6.44801786e-04, 6.35391815e-04, 6.26124921e-04,\n",
       "       6.18514205e-04, 6.05741253e-04, 6.03854818e-04, 5.91452693e-04,\n",
       "       5.85898805e-04, 5.84633227e-04, 5.75481878e-04, 5.69716770e-04,\n",
       "       5.64497121e-04, 5.53174076e-04, 5.34344674e-04, 5.25777062e-04,\n",
       "       5.21965550e-04, 5.11193757e-04, 5.05144243e-04, 4.99924977e-04,\n",
       "       4.95323722e-04, 4.92348603e-04, 4.84395053e-04, 4.76686157e-04,\n",
       "       4.74666022e-04, 4.67890879e-04, 4.65296674e-04, 4.61362258e-04,\n",
       "       4.56336500e-04, 4.51756208e-04, 4.49488582e-04, 4.41357426e-04,\n",
       "       4.38790136e-04, 4.24389337e-04, 4.20314615e-04, 4.16355388e-04,\n",
       "       4.13830324e-04, 4.07099288e-04, 3.98548359e-04, 3.94359111e-04,\n",
       "       3.94067067e-04, 3.91401338e-04, 3.81665552e-04, 3.79230943e-04,\n",
       "       3.75536313e-04, 3.73831733e-04, 3.66337737e-04, 3.63074114e-04,\n",
       "       3.59307646e-04, 3.57031988e-04, 3.53028613e-04, 3.52754592e-04,\n",
       "       3.45302385e-04, 3.43276944e-04, 3.41890978e-04, 3.39165911e-04,\n",
       "       3.34861511e-04, 3.29842492e-04, 3.25506437e-04, 3.24703554e-04,\n",
       "       3.21013848e-04, 3.20432900e-04, 3.17194700e-04, 3.16819126e-04,\n",
       "       3.10916530e-04, 3.10172960e-04, 3.06832953e-04, 3.03823171e-04,\n",
       "       2.99708860e-04, 2.98327092e-04, 2.94093162e-04, 2.93391967e-04,\n",
       "       2.92977220e-04, 2.89276406e-04, 2.84988966e-04, 2.83697252e-04,\n",
       "       2.81082198e-04, 2.76258374e-04, 2.74103534e-04, 2.71602045e-04,\n",
       "       2.67522376e-04, 2.66793948e-04, 2.62892231e-04, 2.62046588e-04,\n",
       "       2.61487226e-04, 2.58253585e-04, 2.56603941e-04, 2.55387243e-04,\n",
       "       2.54111610e-04, 2.52813861e-04, 2.50912463e-04, 2.48286117e-04,\n",
       "       2.47615906e-04, 2.44461417e-04, 2.43286700e-04, 2.40992431e-04,\n",
       "       2.40275940e-04, 2.39364452e-04, 2.38594369e-04, 2.36466045e-04,\n",
       "       2.32057655e-04, 2.30987543e-04, 2.28982689e-04, 2.27286585e-04,\n",
       "       2.25966858e-04, 2.24781908e-04, 2.20978300e-04, 2.19452970e-04,\n",
       "       2.17383853e-04, 2.15927541e-04, 2.14951024e-04, 2.13614894e-04,\n",
       "       2.11488233e-04, 2.10864069e-04, 2.08113405e-04, 2.05170657e-04,\n",
       "       2.03746234e-04, 2.03271829e-04, 2.01784402e-04, 1.99666140e-04,\n",
       "       1.97984405e-04, 1.96806855e-04, 1.94817073e-04, 1.93717714e-04,\n",
       "       1.92666851e-04, 1.92124444e-04, 1.90249869e-04, 1.88388929e-04,\n",
       "       1.86830011e-04, 1.84989673e-04, 1.84696295e-04, 1.84100838e-04,\n",
       "       1.82788107e-04, 1.82323561e-04, 1.81392213e-04, 1.79612820e-04,\n",
       "       1.76710787e-04, 1.75616351e-04, 1.74856503e-04, 1.73483732e-04,\n",
       "       1.72524134e-04, 1.71476473e-04, 1.71133230e-04, 1.68773037e-04,\n",
       "       1.68133359e-04, 1.67692755e-04, 1.66268327e-04, 1.64293501e-04,\n",
       "       1.63902711e-04, 1.63026129e-04, 1.62247316e-04, 1.60434310e-04,\n",
       "       1.60275519e-04, 1.58847778e-04, 1.58391347e-04, 1.57249091e-04,\n",
       "       1.55421237e-04, 1.54449408e-04, 1.53626081e-04, 1.51833111e-04,\n",
       "       1.50882402e-04, 1.50402146e-04, 1.49037531e-04, 1.48289379e-04,\n",
       "       1.46698235e-04, 1.45918092e-04, 1.43470327e-04, 1.43413774e-04,\n",
       "       1.42947318e-04, 1.41864032e-04, 1.41434477e-04, 1.40322317e-04,\n",
       "       1.38342618e-04, 1.37446491e-04, 1.36378533e-04, 1.35450484e-04,\n",
       "       1.35159928e-04, 1.34404079e-04, 1.33398331e-04, 1.32286985e-04,\n",
       "       1.30752860e-04, 1.29890675e-04, 1.28535326e-04, 1.27848949e-04,\n",
       "       1.26974506e-04, 1.26608300e-04, 1.25883934e-04, 1.25152668e-04,\n",
       "       1.24026915e-04, 1.22541516e-04, 1.22323565e-04, 1.21184565e-04,\n",
       "       1.20866127e-04, 1.20081813e-04, 1.19016518e-04, 1.18237887e-04,\n",
       "       1.17234394e-04, 1.15741060e-04, 1.15360173e-04, 1.14560564e-04,\n",
       "       1.13626694e-04, 1.13185761e-04, 1.11755777e-04, 1.10293511e-04,\n",
       "       1.09960628e-04, 1.09349459e-04, 1.09176791e-04, 1.08477414e-04,\n",
       "       1.07797530e-04, 1.06917463e-04, 1.06723498e-04, 1.06078717e-04,\n",
       "       1.04464449e-04, 1.04396182e-04, 1.03069185e-04, 1.02214865e-04,\n",
       "       1.01370888e-04, 1.00594605e-04, 9.97668874e-05, 9.94406703e-05,\n",
       "       9.85829071e-05, 9.70159912e-05, 9.69784480e-05, 9.62936132e-05,\n",
       "       9.46109643e-05, 9.41285257e-05, 9.30440801e-05, 9.25721602e-05,\n",
       "       9.15809295e-05, 9.10792854e-05, 9.05018130e-05, 9.00300633e-05,\n",
       "       8.96154897e-05, 8.89815850e-05, 8.83200096e-05, 8.75293892e-05,\n",
       "       8.71255281e-05, 8.58975989e-05, 8.50483843e-05, 8.50402016e-05,\n",
       "       8.46365570e-05, 8.38305712e-05, 8.27317681e-05, 8.25052090e-05,\n",
       "       8.21602774e-05, 8.08585475e-05, 7.97090483e-05, 7.90024624e-05,\n",
       "       7.83814628e-05, 7.80376415e-05, 7.74542297e-05, 7.66036440e-05,\n",
       "       7.57515173e-05, 7.49309265e-05, 7.42332732e-05, 7.31760201e-05,\n",
       "       7.30081526e-05, 7.25448153e-05, 7.22446811e-05, 7.17543752e-05,\n",
       "       7.12784494e-05, 6.95487883e-05, 6.91951187e-05, 6.85545873e-05,\n",
       "       6.78617549e-05, 6.70218240e-05, 6.64953450e-05, 6.58433865e-05,\n",
       "       6.50054685e-05, 6.38837828e-05, 6.29081344e-05, 6.26693521e-05,\n",
       "       6.13135178e-05, 6.07608686e-05, 6.02728272e-05, 5.94850515e-05,\n",
       "       5.87997056e-05, 5.82619606e-05, 5.77536736e-05, 5.75026597e-05,\n",
       "       5.62728232e-05, 5.60929317e-05, 5.49943468e-05, 5.44626534e-05,\n",
       "       5.39581719e-05, 5.38260803e-05, 5.31310281e-05, 5.27592102e-05,\n",
       "       5.21973100e-05, 5.13744317e-05, 5.12553126e-05, 5.06478383e-05,\n",
       "       5.00844177e-05, 4.93501955e-05, 4.92647947e-05, 4.82612708e-05,\n",
       "       4.72140977e-05, 4.68473649e-05, 4.61151761e-05, 4.59442191e-05,\n",
       "       4.55818624e-05, 4.43711934e-05, 4.36168913e-05, 4.29144876e-05,\n",
       "       4.26011409e-05, 4.24296094e-05, 4.18206054e-05, 4.11144641e-05,\n",
       "       4.04988438e-05, 4.04029594e-05, 4.01015274e-05, 3.83703745e-05,\n",
       "       3.79170304e-05, 3.76753121e-05, 3.74813570e-05, 3.72080430e-05,\n",
       "       3.64897111e-05, 3.60866387e-05, 3.53090549e-05, 3.51349536e-05,\n",
       "       3.47655497e-05, 3.44335233e-05, 3.40203237e-05, 3.37243003e-05,\n",
       "       3.32093564e-05, 3.31208467e-05, 3.21412705e-05, 3.15566243e-05,\n",
       "       3.12964929e-05, 3.08217792e-05, 3.01572208e-05, 2.98200940e-05,\n",
       "       2.94476550e-05, 2.90894814e-05, 2.88892248e-05, 2.84426321e-05,\n",
       "       2.82594076e-05, 2.78967823e-05, 2.68922180e-05, 2.66827861e-05,\n",
       "       2.56238145e-05, 2.55681319e-05, 2.54091853e-05, 2.48281586e-05,\n",
       "       2.47355902e-05, 2.43807400e-05, 2.42382680e-05, 2.40330977e-05,\n",
       "       2.36180668e-05, 2.30583790e-05, 2.26794263e-05, 2.23684088e-05,\n",
       "       2.17724416e-05, 2.13798456e-05, 2.12153679e-05, 2.11152854e-05,\n",
       "       2.07851172e-05, 2.06477626e-05, 2.03117057e-05, 1.99614129e-05,\n",
       "       1.97835385e-05, 1.94761131e-05, 1.89066352e-05, 1.88458128e-05,\n",
       "       1.85580652e-05, 1.81787242e-05, 1.78865726e-05, 1.77108085e-05,\n",
       "       1.74304017e-05, 1.72514805e-05, 1.61139955e-05, 1.58081384e-05,\n",
       "       1.56945648e-05, 1.56593373e-05, 1.52931470e-05, 1.51817393e-05,\n",
       "       1.50089148e-05, 1.47441220e-05, 1.44596323e-05, 1.43003593e-05,\n",
       "       1.42052714e-05, 1.38929736e-05, 1.38569022e-05, 1.36791660e-05,\n",
       "       1.34103769e-05, 1.32478815e-05, 1.31665557e-05, 1.25216577e-05,\n",
       "       1.23306897e-05, 1.23143056e-05, 1.22392185e-05, 1.18470995e-05,\n",
       "       1.16582089e-05, 1.16300724e-05, 1.15909253e-05, 1.14678450e-05,\n",
       "       1.10729133e-05, 1.09294401e-05, 1.06581560e-05, 1.04485923e-05,\n",
       "       1.03734264e-05, 1.03039169e-05, 9.85828293e-06, 9.49977979e-06,\n",
       "       9.29870702e-06, 9.18567847e-06, 9.06529763e-06, 8.97446419e-06,\n",
       "       8.91525355e-06, 8.57253818e-06, 8.51033741e-06, 8.18911115e-06,\n",
       "       8.00253458e-06, 7.90484671e-06, 7.71865758e-06, 7.67024080e-06,\n",
       "       7.44964443e-06, 7.39801923e-06, 7.27733058e-06, 7.05396957e-06,\n",
       "       6.93978440e-06, 6.68594350e-06, 6.62761346e-06, 6.47609424e-06,\n",
       "       6.44052795e-06, 6.08193709e-06, 6.02389863e-06, 5.83558228e-06,\n",
       "       5.66293660e-06, 5.53890794e-06, 5.43930825e-06, 5.33622499e-06,\n",
       "       5.20355108e-06, 5.17964590e-06, 5.10443954e-06, 5.00824157e-06,\n",
       "       4.92763488e-06, 4.80114108e-06, 4.75510301e-06, 4.53930170e-06,\n",
       "       4.35932679e-06, 4.28365458e-06, 4.21179602e-06, 4.04870947e-06,\n",
       "       3.99717942e-06, 3.97306836e-06, 3.83255918e-06, 3.81301603e-06,\n",
       "       3.77969020e-06, 3.55692331e-06, 3.40942146e-06, 3.37260841e-06,\n",
       "       3.26669849e-06, 3.12204702e-06, 3.04952023e-06, 3.03881292e-06,\n",
       "       2.98708906e-06, 2.83049255e-06, 2.70911629e-06, 2.66480551e-06,\n",
       "       2.61840024e-06, 2.60619222e-06, 2.54442560e-06, 2.51639178e-06,\n",
       "       2.44946063e-06, 2.36887034e-06, 2.31100440e-06, 2.26502791e-06,\n",
       "       2.23470204e-06, 2.19711710e-06, 2.13734280e-06, 2.05838450e-06,\n",
       "       1.94994618e-06, 1.87678350e-06, 1.78273495e-06, 1.76236299e-06,\n",
       "       1.75750490e-06, 1.65331239e-06, 1.60778556e-06, 1.59117332e-06,\n",
       "       1.57452615e-06, 1.48016712e-06, 1.43458910e-06, 1.39282403e-06,\n",
       "       1.38289913e-06, 1.28228842e-06, 1.27857777e-06, 1.23930942e-06,\n",
       "       1.20641201e-06, 1.18137630e-06, 1.13585335e-06, 1.08274212e-06,\n",
       "       1.06559794e-06, 1.00410298e-06, 9.46188614e-07, 9.21884750e-07,\n",
       "       8.72395784e-07, 8.61663770e-07, 8.36293489e-07, 8.27512338e-07,\n",
       "       7.99545480e-07, 7.82822304e-07, 7.65897330e-07, 7.18126792e-07,\n",
       "       6.98537214e-07, 6.95459660e-07, 6.91682829e-07, 6.53324249e-07,\n",
       "       6.38094022e-07, 6.20802128e-07, 6.00107597e-07, 5.54533139e-07,\n",
       "       5.44160769e-07, 5.19432084e-07, 5.11079815e-07, 4.95744841e-07,\n",
       "       4.90011066e-07, 4.81912032e-07, 3.79703221e-07, 3.72190443e-07,\n",
       "       3.62763214e-07, 3.52954381e-07, 3.23837840e-07, 3.23511964e-07,\n",
       "       3.17446979e-07, 3.06885792e-07, 3.00230515e-07, 2.81547407e-07,\n",
       "       2.48534247e-07, 2.45784501e-07, 2.33911869e-07, 2.30243100e-07,\n",
       "       2.19018717e-07, 2.05624555e-07, 1.97663263e-07, 1.89810489e-07,\n",
       "       1.89405730e-07, 1.86077809e-07, 1.75320734e-07, 1.70914908e-07,\n",
       "       1.65198969e-07, 1.12310192e-07, 1.09654469e-07, 9.06587795e-08,\n",
       "       8.72785660e-08, 7.50262391e-08, 7.48048733e-08, 6.89133157e-08,\n",
       "       6.81449434e-08, 5.14838724e-08, 4.80326922e-08, 4.60969153e-08,\n",
       "       4.27106616e-08, 3.94060178e-08, 3.80199097e-08, 3.23771252e-08,\n",
       "       2.35171960e-08, 2.21403398e-08, 2.06834620e-08, 1.97134213e-08,\n",
       "       1.93395216e-08, 1.76272370e-08, 1.70960746e-08, 1.51962633e-08,\n",
       "       1.31700356e-08, 1.18156375e-08, 9.80662761e-09, 7.42553028e-09,\n",
       "       7.07545401e-09, 5.75569441e-09, 3.81252053e-09, 3.30953194e-09,\n",
       "       2.01269723e-09, 1.85705367e-09, 8.67397773e-10, 1.62308331e-10,\n",
       "       1.06413966e-10, 8.86919537e-11, 1.75779111e-11, 1.60149185e-11,\n",
       "       1.92717066e-32, 9.72100779e-34, 9.72100779e-34, 9.72100779e-34,\n",
       "       9.72100779e-34, 9.72100779e-34, 9.72100779e-34, 9.72100779e-34,\n",
       "       9.72100779e-34, 9.72100779e-34, 9.72100779e-34, 9.72100779e-34,\n",
       "       9.72100779e-34, 9.72100779e-34, 9.72100779e-34, 9.72100779e-34,\n",
       "       9.72100779e-34, 9.72100779e-34, 9.72100779e-34, 9.72100779e-34,\n",
       "       9.72100779e-34, 9.72100779e-34, 9.72100779e-34, 9.72100779e-34,\n",
       "       9.72100779e-34, 9.72100779e-34, 9.72100779e-34, 9.72100779e-34,\n",
       "       9.72100779e-34, 9.72100779e-34, 9.72100779e-34, 9.72100779e-34,\n",
       "       9.72100779e-34, 9.72100779e-34, 9.72100779e-34, 9.72100779e-34,\n",
       "       9.72100779e-34, 9.72100779e-34, 9.72100779e-34, 9.72100779e-34,\n",
       "       9.72100779e-34, 9.72100779e-34, 9.72100779e-34, 9.72100779e-34,\n",
       "       9.72100779e-34, 9.72100779e-34, 9.72100779e-34, 9.72100779e-34,\n",
       "       9.72100779e-34, 9.72100779e-34, 9.72100779e-34, 9.72100779e-34,\n",
       "       9.72100779e-34, 9.72100779e-34, 9.72100779e-34, 9.72100779e-34,\n",
       "       9.72100779e-34, 9.72100779e-34, 9.72100779e-34, 9.72100779e-34,\n",
       "       9.72100779e-34, 9.72100779e-34, 9.72100779e-34, 9.72100779e-34,\n",
       "       9.72100779e-34, 9.72100779e-34, 9.72100779e-34, 9.72100779e-34,\n",
       "       9.72100779e-34, 9.72100779e-34, 9.72100779e-34, 9.72100779e-34,\n",
       "       9.72100779e-34, 9.72100779e-34, 9.72100779e-34, 9.72100779e-34,\n",
       "       9.72100779e-34, 9.72100779e-34, 9.72100779e-34, 4.48739950e-36])"
      ]
     },
     "execution_count": 20,
     "metadata": {},
     "output_type": "execute_result"
    }
   ],
   "source": [
    "pca.explained_variance_ratio_"
   ]
  },
  {
   "cell_type": "code",
   "execution_count": 23,
   "metadata": {},
   "outputs": [
    {
     "data": {
      "image/png": "[encoded data removed]",
      "text/plain": [
       "<Figure size 864x576 with 1 Axes>"
      ]
     },
     "metadata": {
      "needs_background": "light"
     },
     "output_type": "display_data"
    }
   ],
   "source": [
    "#Making the screeplot - plotting the cumulative variance against the number of components\n",
    "%matplotlib inline\n",
    "fig = plt.figure(figsize = (12,8))\n",
    "plt.plot(np.cumsum(pca.explained_variance_ratio_))\n",
    "plt.title('Scree Plot')\n",
    "plt.xlabel('number of components')\n",
    "plt.xticks(np.arange(0, 400, step=25))\n",
    "plt.ylabel('cumulative explained variance')\n",
    "plt.show()"
   ]
  },
  {
   "cell_type": "markdown",
   "metadata": {},
   "source": [
    "#### Looks like 150 components are enough to describe 95% of the variance in the dataset\n",
    "- We'll choose 4 components for our modeling\n",
    "- Incremental PCA is beneficial in case of large datasets. For this, PCA is a better choice."
   ]
  },
  {
   "cell_type": "code",
   "execution_count": 24,
   "metadata": {},
   "outputs": [],
   "source": [
    "#Using incremental PCA for efficiency - saves a lot of time on larger datasets\n",
    "from sklearn.decomposition import IncrementalPCA\n",
    "pca_final = IncrementalPCA(n_components=150)"
   ]
  },
  {
   "cell_type": "markdown",
   "metadata": {},
   "source": [
    "#### Basis transformation - getting the data onto our PCs"
   ]
  },
  {
   "cell_type": "code",
   "execution_count": 25,
   "metadata": {
    "scrolled": true
   },
   "outputs": [
    {
     "data": {
      "text/plain": [
       "(42000, 150)"
      ]
     },
     "execution_count": 25,
     "metadata": {},
     "output_type": "execute_result"
    }
   ],
   "source": [
    "df_pca = pca_final.fit_transform(train)\n",
    "df_pca.shape"
   ]
  },
  {
   "cell_type": "code",
   "execution_count": 26,
   "metadata": {},
   "outputs": [
    {
     "data": {
      "text/html": [
       "<div>\n",
       "<style scoped>\n",
       "    .dataframe tbody tr th:only-of-type {\n",
       "        vertical-align: middle;\n",
       "    }\n",
       "\n",
       "    .dataframe tbody tr th {\n",
       "        vertical-align: top;\n",
       "    }\n",
       "\n",
       "    .dataframe thead th {\n",
       "        text-align: right;\n",
       "    }\n",
       "</style>\n",
       "<table border=\"1\" class=\"dataframe\">\n",
       "  <thead>\n",
       "    <tr style=\"text-align: right;\">\n",
       "      <th></th>\n",
       "      <th>PC1</th>\n",
       "      <th>PC2</th>\n",
       "      <th>PC3</th>\n",
       "      <th>PC4</th>\n",
       "      <th>Feature</th>\n",
       "    </tr>\n",
       "  </thead>\n",
       "  <tbody>\n",
       "    <tr>\n",
       "      <th>0</th>\n",
       "      <td>-7.232140e-18</td>\n",
       "      <td>1.040322e-17</td>\n",
       "      <td>-2.844132e-18</td>\n",
       "      <td>-2.086755e-18</td>\n",
       "      <td>pixel0</td>\n",
       "    </tr>\n",
       "    <tr>\n",
       "      <th>1</th>\n",
       "      <td>-4.440892e-16</td>\n",
       "      <td>1.665335e-16</td>\n",
       "      <td>-1.249001e-16</td>\n",
       "      <td>-2.289835e-16</td>\n",
       "      <td>pixel1</td>\n",
       "    </tr>\n",
       "    <tr>\n",
       "      <th>2</th>\n",
       "      <td>-5.551115e-16</td>\n",
       "      <td>-4.996004e-16</td>\n",
       "      <td>2.914335e-16</td>\n",
       "      <td>-1.873501e-16</td>\n",
       "      <td>pixel2</td>\n",
       "    </tr>\n",
       "    <tr>\n",
       "      <th>3</th>\n",
       "      <td>1.110223e-16</td>\n",
       "      <td>3.330669e-16</td>\n",
       "      <td>-2.359224e-16</td>\n",
       "      <td>9.714451e-17</td>\n",
       "      <td>pixel3</td>\n",
       "    </tr>\n",
       "    <tr>\n",
       "      <th>4</th>\n",
       "      <td>-0.000000e+00</td>\n",
       "      <td>1.110223e-16</td>\n",
       "      <td>-5.551115e-16</td>\n",
       "      <td>-1.873501e-16</td>\n",
       "      <td>pixel4</td>\n",
       "    </tr>\n",
       "    <tr>\n",
       "      <th>5</th>\n",
       "      <td>2.775558e-17</td>\n",
       "      <td>1.110223e-16</td>\n",
       "      <td>-2.359224e-16</td>\n",
       "      <td>1.804112e-16</td>\n",
       "      <td>pixel5</td>\n",
       "    </tr>\n",
       "    <tr>\n",
       "      <th>6</th>\n",
       "      <td>-1.387779e-17</td>\n",
       "      <td>-8.326673e-17</td>\n",
       "      <td>-1.665335e-16</td>\n",
       "      <td>-3.053113e-16</td>\n",
       "      <td>pixel6</td>\n",
       "    </tr>\n",
       "    <tr>\n",
       "      <th>7</th>\n",
       "      <td>1.734723e-18</td>\n",
       "      <td>1.526557e-16</td>\n",
       "      <td>8.881784e-16</td>\n",
       "      <td>-5.551115e-17</td>\n",
       "      <td>pixel7</td>\n",
       "    </tr>\n",
       "    <tr>\n",
       "      <th>8</th>\n",
       "      <td>-0.000000e+00</td>\n",
       "      <td>2.081668e-17</td>\n",
       "      <td>-1.110223e-16</td>\n",
       "      <td>-2.706169e-16</td>\n",
       "      <td>pixel8</td>\n",
       "    </tr>\n",
       "    <tr>\n",
       "      <th>9</th>\n",
       "      <td>-1.626303e-19</td>\n",
       "      <td>3.469447e-18</td>\n",
       "      <td>-0.000000e+00</td>\n",
       "      <td>5.551115e-17</td>\n",
       "      <td>pixel9</td>\n",
       "    </tr>\n",
       "  </tbody>\n",
       "</table>\n",
       "</div>"
      ],
      "text/plain": [
       "            PC1           PC2           PC3           PC4 Feature\n",
       "0 -7.232140e-18  1.040322e-17 -2.844132e-18 -2.086755e-18  pixel0\n",
       "1 -4.440892e-16  1.665335e-16 -1.249001e-16 -2.289835e-16  pixel1\n",
       "2 -5.551115e-16 -4.996004e-16  2.914335e-16 -1.873501e-16  pixel2\n",
       "3  1.110223e-16  3.330669e-16 -2.359224e-16  9.714451e-17  pixel3\n",
       "4 -0.000000e+00  1.110223e-16 -5.551115e-16 -1.873501e-16  pixel4\n",
       "5  2.775558e-17  1.110223e-16 -2.359224e-16  1.804112e-16  pixel5\n",
       "6 -1.387779e-17 -8.326673e-17 -1.665335e-16 -3.053113e-16  pixel6\n",
       "7  1.734723e-18  1.526557e-16  8.881784e-16 -5.551115e-17  pixel7\n",
       "8 -0.000000e+00  2.081668e-17 -1.110223e-16 -2.706169e-16  pixel8\n",
       "9 -1.626303e-19  3.469447e-18 -0.000000e+00  5.551115e-17  pixel9"
      ]
     },
     "execution_count": 26,
     "metadata": {},
     "output_type": "execute_result"
    }
   ],
   "source": [
    "#converting components(eigen vectors) into a dataframe\n",
    "colnames = list(train.columns)\n",
    "eigen_df = pd.DataFrame({'PC1':pca_final.components_[0],'PC2':pca_final.components_[1], 'PC3':pca_final.components_[2],'PC4':pca_final.components_[3],'Feature':colnames})\n",
    "eigen_df.head(10)"
   ]
  },
  {
   "cell_type": "code",
   "execution_count": 27,
   "metadata": {},
   "outputs": [
    {
     "data": {
      "image/png": "[encoded data removed]",
      "text/plain": [
       "<Figure size 576x432 with 1 Axes>"
      ]
     },
     "metadata": {
      "needs_background": "light"
     },
     "output_type": "display_data"
    }
   ],
   "source": [
    "%matplotlib inline\n",
    "fig = plt.figure(figsize = (8,6))\n",
    "plt.scatter(eigen_df.PC1, eigen_df.PC2)\n",
    "plt.xlabel('Principal Component 1')\n",
    "plt.ylabel('Principal Component 2')\n",
    "for i, txt in enumerate(eigen_df.Feature):\n",
    "    plt.annotate(txt, (eigen_df.PC1[i],eigen_df.PC2[i]))\n",
    "plt.tight_layout()\n",
    "plt.show()"
   ]
  },
  {
   "cell_type": "markdown",
   "metadata": {},
   "source": [
    "#### Creating correlation matrix for the principal components - we expect little to no correlation"
   ]
  },
  {
   "cell_type": "code",
   "execution_count": 28,
   "metadata": {},
   "outputs": [],
   "source": [
    "#creating correlation matrix for the principal components\n",
    "corrmat = np.corrcoef(df_pca.transpose())"
   ]
  },
  {
   "cell_type": "code",
   "execution_count": 31,
   "metadata": {},
   "outputs": [
    {
     "name": "stdout",
     "output_type": "stream",
     "text": [
      "max corr: 0.0017304583955808648 , min corr:  -0.0017662993708179831\n"
     ]
    }
   ],
   "source": [
    "# 1s -> 0s in diagonals\n",
    "corrmat_nodiag = corrmat - np.diagflat(corrmat.diagonal())\n",
    "print(\"max corr:\",corrmat_nodiag.max(), \", min corr: \", corrmat_nodiag.min(),)\n",
    "# we see that correlations are indeed very close to 0"
   ]
  },
  {
   "cell_type": "markdown",
   "metadata": {},
   "source": [
    "Lets visualise the PC1 and PC2"
   ]
  },
  {
   "cell_type": "code",
   "execution_count": 32,
   "metadata": {},
   "outputs": [
    {
     "data": {
      "image/png": "[encoded data removed]",
      "text/plain": [
       "<Figure size 576x432 with 1 Axes>"
      ]
     },
     "metadata": {
      "needs_background": "light"
     },
     "output_type": "display_data"
    }
   ],
   "source": [
    "%matplotlib inline\n",
    "fig = plt.figure(figsize = (8,6))\n",
    "plt.scatter(df_pca[:,0], df_pca[:,1])\n",
    "plt.xlabel('Principal Component 1')\n",
    "plt.ylabel('Principal Component 2')\n",
    "plt.tight_layout()\n",
    "plt.show()"
   ]
  },
  {
   "cell_type": "markdown",
   "metadata": {},
   "source": [
    "Hopkins Statistics:\n",
    "\n",
    "The Hopkins statistic, is a statistic which gives a value which indicates the cluster tendency, in other words: how well the data can be clustered.\n",
    "\n",
    "    If the value is between {0.01, ...,0.3}, the data is regularly spaced.\n",
    "\n",
    "    If the value is around 0.5, it is random.\n",
    "\n",
    "    If the value is between {0.7, ..., 0.99}, it has a high tendency to cluster.\n",
    "\n"
   ]
  },
  {
   "cell_type": "code",
   "execution_count": 33,
   "metadata": {},
   "outputs": [],
   "source": [
    "from sklearn.neighbors import NearestNeighbors\n",
    "from random import sample\n",
    "from numpy.random import uniform\n",
    "import numpy as np\n",
    "from math import isnan\n",
    " \n",
    "def hopkins(X):\n",
    "    d = X.shape[1]\n",
    "    #d = len(vars) # columns\n",
    "    n = len(X) # rows\n",
    "    m = int(0.1 * n) \n",
    "    nbrs = NearestNeighbors(n_neighbors=1).fit(X.values)\n",
    " \n",
    "    rand_X = sample(range(0, n, 1), m)\n",
    " \n",
    "    ujd = []\n",
    "    wjd = []\n",
    "    for j in range(0, m):\n",
    "        u_dist, _ = nbrs.kneighbors(uniform(np.amin(X,axis=0),np.amax(X,axis=0),d).reshape(1, -1), 2, return_distance=True)\n",
    "        ujd.append(u_dist[0][1])\n",
    "        w_dist, _ = nbrs.kneighbors(X.iloc[rand_X[j]].values.reshape(1, -1), 2, return_distance=True)\n",
    "        wjd.append(w_dist[0][1])\n",
    " \n",
    "    H = sum(ujd) / (sum(ujd) + sum(wjd))\n",
    "    if isnan(H):\n",
    "        print(ujd, wjd)\n",
    "        H = 0\n",
    " \n",
    "    return H"
   ]
  },
  {
   "cell_type": "code",
   "execution_count": 34,
   "metadata": {},
   "outputs": [
    {
     "data": {
      "text/html": [
       "<div>\n",
       "<style scoped>\n",
       "    .dataframe tbody tr th:only-of-type {\n",
       "        vertical-align: middle;\n",
       "    }\n",
       "\n",
       "    .dataframe tbody tr th {\n",
       "        vertical-align: top;\n",
       "    }\n",
       "\n",
       "    .dataframe thead th {\n",
       "        text-align: right;\n",
       "    }\n",
       "</style>\n",
       "<table border=\"1\" class=\"dataframe\">\n",
       "  <thead>\n",
       "    <tr style=\"text-align: right;\">\n",
       "      <th></th>\n",
       "      <th>PC1</th>\n",
       "      <th>PC2</th>\n",
       "      <th>PC3</th>\n",
       "      <th>PC4</th>\n",
       "    </tr>\n",
       "  </thead>\n",
       "  <tbody>\n",
       "    <tr>\n",
       "      <th>0</th>\n",
       "      <td>-661.595454</td>\n",
       "      <td>699.311536</td>\n",
       "      <td>-183.282451</td>\n",
       "      <td>-120.611384</td>\n",
       "    </tr>\n",
       "    <tr>\n",
       "      <th>1</th>\n",
       "      <td>1701.451454</td>\n",
       "      <td>360.550932</td>\n",
       "      <td>501.804777</td>\n",
       "      <td>-335.423940</td>\n",
       "    </tr>\n",
       "    <tr>\n",
       "      <th>2</th>\n",
       "      <td>-886.894610</td>\n",
       "      <td>293.765622</td>\n",
       "      <td>-67.155090</td>\n",
       "      <td>-78.263340</td>\n",
       "    </tr>\n",
       "    <tr>\n",
       "      <th>3</th>\n",
       "      <td>-165.755269</td>\n",
       "      <td>-300.184351</td>\n",
       "      <td>64.145997</td>\n",
       "      <td>-759.706196</td>\n",
       "    </tr>\n",
       "    <tr>\n",
       "      <th>4</th>\n",
       "      <td>1923.710300</td>\n",
       "      <td>449.153306</td>\n",
       "      <td>548.613806</td>\n",
       "      <td>-188.556618</td>\n",
       "    </tr>\n",
       "    <tr>\n",
       "      <th>5</th>\n",
       "      <td>487.751994</td>\n",
       "      <td>-192.752451</td>\n",
       "      <td>6.435644</td>\n",
       "      <td>40.855601</td>\n",
       "    </tr>\n",
       "    <tr>\n",
       "      <th>6</th>\n",
       "      <td>-672.323573</td>\n",
       "      <td>-464.803874</td>\n",
       "      <td>313.659892</td>\n",
       "      <td>136.131626</td>\n",
       "    </tr>\n",
       "    <tr>\n",
       "      <th>7</th>\n",
       "      <td>-114.382080</td>\n",
       "      <td>20.726875</td>\n",
       "      <td>504.583164</td>\n",
       "      <td>89.648238</td>\n",
       "    </tr>\n",
       "    <tr>\n",
       "      <th>8</th>\n",
       "      <td>350.229398</td>\n",
       "      <td>-141.013439</td>\n",
       "      <td>389.029819</td>\n",
       "      <td>619.260157</td>\n",
       "    </tr>\n",
       "    <tr>\n",
       "      <th>9</th>\n",
       "      <td>297.392337</td>\n",
       "      <td>807.412111</td>\n",
       "      <td>39.372566</td>\n",
       "      <td>51.967017</td>\n",
       "    </tr>\n",
       "  </tbody>\n",
       "</table>\n",
       "</div>"
      ],
      "text/plain": [
       "           PC1         PC2         PC3         PC4\n",
       "0  -661.595454  699.311536 -183.282451 -120.611384\n",
       "1  1701.451454  360.550932  501.804777 -335.423940\n",
       "2  -886.894610  293.765622  -67.155090  -78.263340\n",
       "3  -165.755269 -300.184351   64.145997 -759.706196\n",
       "4  1923.710300  449.153306  548.613806 -188.556618\n",
       "5   487.751994 -192.752451    6.435644   40.855601\n",
       "6  -672.323573 -464.803874  313.659892  136.131626\n",
       "7  -114.382080   20.726875  504.583164   89.648238\n",
       "8   350.229398 -141.013439  389.029819  619.260157\n",
       "9   297.392337  807.412111   39.372566   51.967017"
      ]
     },
     "execution_count": 34,
     "metadata": {},
     "output_type": "execute_result"
    }
   ],
   "source": [
    "pcs_df = pd.DataFrame({'PC1':df_pca[:,0],'PC2':df_pca[:,1], 'PC3':df_pca[:,2],'PC4':df_pca[:,3]})\n",
    "pcs_df.head(10)"
   ]
  },
  {
   "cell_type": "code",
   "execution_count": 35,
   "metadata": {},
   "outputs": [
    {
     "data": {
      "text/plain": [
       "0.8802261452567209"
      ]
     },
     "execution_count": 35,
     "metadata": {},
     "output_type": "execute_result"
    }
   ],
   "source": [
    "hopkins(pcs_df)"
   ]
  },
  {
   "cell_type": "markdown",
   "metadata": {},
   "source": [
    "Data shows high tendency of clustering. Lets check for Outliers."
   ]
  },
  {
   "cell_type": "code",
   "execution_count": 36,
   "metadata": {},
   "outputs": [
    {
     "data": {
      "image/png": "[encoded data removed]",
      "text/plain": [
       "<Figure size 1440x720 with 4 Axes>"
      ]
     },
     "metadata": {
      "needs_background": "light"
     },
     "output_type": "display_data"
    }
   ],
   "source": [
    "%matplotlib inline\n",
    "plt.figure(figsize=(20,10))\n",
    "plt.subplot(2,2,1)\n",
    "sns.boxplot(pcs_df['PC1'])\n",
    "plt.title('Distribution of PC1')\n",
    "\n",
    "plt.subplot(2,2,2)\n",
    "sns.boxplot(pcs_df['PC2'])\n",
    "plt.title('Distribution of PC2')\n",
    "\n",
    "plt.subplot(2,2,3)\n",
    "sns.boxplot(pcs_df['PC3'])\n",
    "plt.title('Distribution of PC3')\n",
    "\n",
    "plt.subplot(2,2,4)\n",
    "sns.boxplot(pcs_df['PC4'])\n",
    "plt.title('Distribution of PC4')\n",
    "plt.show()"
   ]
  },
  {
   "cell_type": "markdown",
   "metadata": {},
   "source": [
    "Find the Inter Quantile range for outlier removal."
   ]
  },
  {
   "cell_type": "code",
   "execution_count": 37,
   "metadata": {},
   "outputs": [
    {
     "name": "stdout",
     "output_type": "stream",
     "text": [
      "PC1    738.321090\n",
      "PC2    749.133260\n",
      "PC3    645.182153\n",
      "PC4    578.299182\n",
      "dtype: float64\n"
     ]
    }
   ],
   "source": [
    "Q1 = pcs_df.quantile(0.25)\n",
    "Q3 = pcs_df.quantile(0.75)\n",
    "IQR = Q3 - Q1\n",
    "print(IQR)"
   ]
  },
  {
   "cell_type": "code",
   "execution_count": 38,
   "metadata": {},
   "outputs": [
    {
     "data": {
      "text/plain": [
       "1102"
      ]
     },
     "execution_count": 38,
     "metadata": {},
     "output_type": "execute_result"
    }
   ],
   "source": [
    "#Outliers df\n",
    "out = pcs_df[((pcs_df < (Q1 - 1.5*IQR)) | (pcs_df > (Q3 + 1.5*IQR))).any(axis=1)]\n",
    "len(out)"
   ]
  },
  {
   "cell_type": "markdown",
   "metadata": {},
   "source": [
    "There are about 1102 rows which have the outlier values"
   ]
  },
  {
   "cell_type": "code",
   "execution_count": 39,
   "metadata": {},
   "outputs": [
    {
     "data": {
      "text/plain": [
       "2.623809523809524"
      ]
     },
     "execution_count": 39,
     "metadata": {},
     "output_type": "execute_result"
    }
   ],
   "source": [
    "len(out)*100/len(pcs_df)"
   ]
  },
  {
   "cell_type": "code",
   "execution_count": 40,
   "metadata": {},
   "outputs": [
    {
     "data": {
      "text/plain": [
       "42000"
      ]
     },
     "execution_count": 40,
     "metadata": {},
     "output_type": "execute_result"
    }
   ],
   "source": [
    "len(pcs_df)"
   ]
  },
  {
   "cell_type": "code",
   "execution_count": 41,
   "metadata": {},
   "outputs": [],
   "source": [
    "pcs_out = pcs_df[((pcs_df >= (Q1 - 1.5*IQR)) & (pcs_df <= (Q3 + 1.5*IQR))).all(axis=1)]"
   ]
  },
  {
   "cell_type": "code",
   "execution_count": 42,
   "metadata": {},
   "outputs": [
    {
     "data": {
      "text/plain": [
       "40898"
      ]
     },
     "execution_count": 42,
     "metadata": {},
     "output_type": "execute_result"
    }
   ],
   "source": [
    "len(pcs_out)"
   ]
  },
  {
   "cell_type": "code",
   "execution_count": 43,
   "metadata": {},
   "outputs": [
    {
     "data": {
      "text/plain": [
       "0.8282973805174553"
      ]
     },
     "execution_count": 43,
     "metadata": {},
     "output_type": "execute_result"
    }
   ],
   "source": [
    "hopkins(pcs_out)"
   ]
  },
  {
   "cell_type": "markdown",
   "metadata": {},
   "source": [
    "The hopkins statistics have dropped after removing the outliers. Moreover we are loosing 25% of the valuable data. And may miss out on countries requiring aids. So lets not remove the outliers."
   ]
  },
  {
   "cell_type": "markdown",
   "metadata": {},
   "source": [
    "Now we can do the Clustering using K-means"
   ]
  },
  {
   "cell_type": "markdown",
   "metadata": {},
   "source": [
    "## K-Means with some K"
   ]
  },
  {
   "cell_type": "code",
   "execution_count": 805,
   "metadata": {},
   "outputs": [],
   "source": [
    "# To perform KMeans clustering \n",
    "from sklearn.cluster import KMeans\n",
    "\n",
    "# To perform Hierarchical clustering\n",
    "from scipy.cluster.hierarchy import linkage\n",
    "from scipy.cluster.hierarchy import dendrogram\n",
    "from scipy.cluster.hierarchy import cut_tree"
   ]
  },
  {
   "cell_type": "markdown",
   "metadata": {},
   "source": [
    "## Silhouette Analysis\n",
    "Silhouette score will help us to choose an appropriate value of k"
   ]
  },
  {
   "cell_type": "code",
   "execution_count": 806,
   "metadata": {},
   "outputs": [],
   "source": [
    "from sklearn.metrics import silhouette_score\n",
    "sse_ = []\n",
    "for k in range(2, 10):\n",
    "    kmeans = KMeans(n_clusters=k).fit(pcs_df)\n",
    "    sse_.append([k, silhouette_score(pcs_df, kmeans.labels_)])"
   ]
  },
  {
   "cell_type": "code",
   "execution_count": 807,
   "metadata": {},
   "outputs": [
    {
     "data": {
      "image/png": "[encoded data removed]",
      "text/plain": [
       "<Figure size 432x288 with 1 Axes>"
      ]
     },
     "metadata": {
      "needs_background": "light"
     },
     "output_type": "display_data"
    }
   ],
   "source": [
    "plt.plot(pd.DataFrame(sse_)[0], pd.DataFrame(sse_)[1])\n",
    "plt.show()"
   ]
  },
  {
   "cell_type": "markdown",
   "metadata": {},
   "source": [
    "According to Silhouette score plot we can see that both k=4 and k=5 are good."
   ]
  },
  {
   "cell_type": "markdown",
   "metadata": {},
   "source": [
    "## Sum of Squared Distances"
   ]
  },
  {
   "cell_type": "code",
   "execution_count": 808,
   "metadata": {},
   "outputs": [
    {
     "data": {
      "text/plain": [
       "[<matplotlib.lines.Line2D at 0xc8014cca90>]"
      ]
     },
     "execution_count": 808,
     "metadata": {},
     "output_type": "execute_result"
    },
    {
     "data": {
      "image/png": "[encoded data removed]",
      "text/plain": [
       "<Figure size 432x288 with 1 Axes>"
      ]
     },
     "metadata": {
      "needs_background": "light"
     },
     "output_type": "display_data"
    }
   ],
   "source": [
    "# sum of squared distances\n",
    "ssd = []\n",
    "for num_clusters in list(range(2,10)):\n",
    "    model_clus = KMeans(n_clusters = num_clusters, max_iter=50)\n",
    "    model_clus.fit(pcs_df)\n",
    "    ssd.append(model_clus.inertia_)\n",
    "\n",
    "plt.plot(ssd)"
   ]
  },
  {
   "cell_type": "markdown",
   "metadata": {},
   "source": [
    "The smaller the value of sum of square distances, the better it is. So we can choose either 4 or 5. So lets choose k=4."
   ]
  },
  {
   "cell_type": "code",
   "execution_count": 809,
   "metadata": {},
   "outputs": [
    {
     "data": {
      "text/plain": [
       "KMeans(algorithm='auto', copy_x=True, init='k-means++', max_iter=50,\n",
       "    n_clusters=4, n_init=10, n_jobs=1, precompute_distances='auto',\n",
       "    random_state=0, tol=0.0001, verbose=0)"
      ]
     },
     "execution_count": 809,
     "metadata": {},
     "output_type": "execute_result"
    }
   ],
   "source": [
    "# Kmeans with K=4\n",
    "model_clus4 = KMeans(n_clusters = 4, max_iter=50, random_state=0)\n",
    "model_clus4.fit(pcs_df)"
   ]
  },
  {
   "cell_type": "code",
   "execution_count": 810,
   "metadata": {},
   "outputs": [
    {
     "data": {
      "text/plain": [
       "array([3, 0, 0, 3, 0, 0, 0, 1, 1, 0, 0, 0, 0, 0, 0, 1, 0, 3, 0, 0, 0, 3,\n",
       "       0, 1, 0, 3, 3, 0, 3, 1, 0, 3, 3, 0, 0, 0, 3, 3, 3, 0, 3, 0, 1, 0,\n",
       "       1, 0, 0, 0, 0, 3, 3, 0, 0, 1, 1, 3, 3, 0, 1, 3, 0, 0, 0, 3, 3, 0,\n",
       "       3, 0, 1, 0, 0, 0, 0, 1, 0, 1, 0, 1, 0, 0, 3, 3, 1, 0, 3, 0, 0, 3,\n",
       "       3, 0, 0, 2, 0, 3, 3, 0, 0, 3, 1, 3, 0, 0, 0, 0, 0, 0, 3, 0, 3, 0,\n",
       "       1, 1, 3, 3, 1, 0, 3, 0, 0, 0, 0, 0, 0, 1, 0, 0, 3, 0, 0, 3, 0, 0,\n",
       "       3, 1, 0, 0, 3, 3, 0, 1, 0, 0, 3, 0, 1, 1, 0, 3, 0, 3, 3, 0, 0, 0,\n",
       "       0, 3, 0, 1, 1, 1, 0, 0, 0, 0, 0, 3, 3])"
      ]
     },
     "execution_count": 810,
     "metadata": {},
     "output_type": "execute_result"
    }
   ],
   "source": [
    "model_clus4.labels_"
   ]
  },
  {
   "cell_type": "code",
   "execution_count": 811,
   "metadata": {},
   "outputs": [
    {
     "name": "stdout",
     "output_type": "stream",
     "text": [
      "<class 'pandas.core.frame.DataFrame'>\n",
      "RangeIndex: 167 entries, 0 to 166\n",
      "Data columns (total 4 columns):\n",
      "PC1    167 non-null float64\n",
      "PC2    167 non-null float64\n",
      "PC3    167 non-null float64\n",
      "PC4    167 non-null float64\n",
      "dtypes: float64(4)\n",
      "memory usage: 5.3 KB\n"
     ]
    }
   ],
   "source": [
    "pcs_df.info()"
   ]
  },
  {
   "cell_type": "code",
   "execution_count": 812,
   "metadata": {},
   "outputs": [
    {
     "name": "stdout",
     "output_type": "stream",
     "text": [
      "<class 'pandas.core.frame.DataFrame'>\n",
      "RangeIndex: 167 entries, 0 to 166\n",
      "Data columns (total 10 columns):\n",
      "country       167 non-null object\n",
      "child_mort    167 non-null float64\n",
      "exports       167 non-null float64\n",
      "health        167 non-null float64\n",
      "imports       167 non-null float64\n",
      "income        167 non-null float64\n",
      "inflation     167 non-null float64\n",
      "life_expec    167 non-null float64\n",
      "total_fer     167 non-null float64\n",
      "gdpp          167 non-null float64\n",
      "dtypes: float64(9), object(1)\n",
      "memory usage: 13.1+ KB\n"
     ]
    }
   ],
   "source": [
    "df.info()"
   ]
  },
  {
   "cell_type": "markdown",
   "metadata": {},
   "source": [
    "concatenate the original dataframe with the PCA dataframe."
   ]
  },
  {
   "cell_type": "code",
   "execution_count": 813,
   "metadata": {},
   "outputs": [],
   "source": [
    "df1 = pd.concat([df,pcs_df], axis=1)"
   ]
  },
  {
   "cell_type": "code",
   "execution_count": 814,
   "metadata": {},
   "outputs": [
    {
     "name": "stdout",
     "output_type": "stream",
     "text": [
      "<class 'pandas.core.frame.DataFrame'>\n",
      "RangeIndex: 167 entries, 0 to 166\n",
      "Data columns (total 14 columns):\n",
      "country       167 non-null object\n",
      "child_mort    167 non-null float64\n",
      "exports       167 non-null float64\n",
      "health        167 non-null float64\n",
      "imports       167 non-null float64\n",
      "income        167 non-null float64\n",
      "inflation     167 non-null float64\n",
      "life_expec    167 non-null float64\n",
      "total_fer     167 non-null float64\n",
      "gdpp          167 non-null float64\n",
      "PC1           167 non-null float64\n",
      "PC2           167 non-null float64\n",
      "PC3           167 non-null float64\n",
      "PC4           167 non-null float64\n",
      "dtypes: float64(13), object(1)\n",
      "memory usage: 18.3+ KB\n"
     ]
    }
   ],
   "source": [
    "df1.info()"
   ]
  },
  {
   "cell_type": "code",
   "execution_count": 815,
   "metadata": {},
   "outputs": [],
   "source": [
    "# analysis of clusters formed\n",
    "#Add the Cluster number\n",
    "final_df = pd.concat([df1, pd.Series(model_clus4.labels_).rename('ClusterID')], axis=1)"
   ]
  },
  {
   "cell_type": "code",
   "execution_count": 816,
   "metadata": {},
   "outputs": [
    {
     "data": {
      "text/html": [
       "<div>\n",
       "<style scoped>\n",
       "    .dataframe tbody tr th:only-of-type {\n",
       "        vertical-align: middle;\n",
       "    }\n",
       "\n",
       "    .dataframe tbody tr th {\n",
       "        vertical-align: top;\n",
       "    }\n",
       "\n",
       "    .dataframe thead th {\n",
       "        text-align: right;\n",
       "    }\n",
       "</style>\n",
       "<table border=\"1\" class=\"dataframe\">\n",
       "  <thead>\n",
       "    <tr style=\"text-align: right;\">\n",
       "      <th></th>\n",
       "      <th>country</th>\n",
       "      <th>child_mort</th>\n",
       "      <th>exports</th>\n",
       "      <th>health</th>\n",
       "      <th>imports</th>\n",
       "      <th>income</th>\n",
       "      <th>inflation</th>\n",
       "      <th>life_expec</th>\n",
       "      <th>total_fer</th>\n",
       "      <th>gdpp</th>\n",
       "      <th>PC1</th>\n",
       "      <th>PC2</th>\n",
       "      <th>PC3</th>\n",
       "      <th>PC4</th>\n",
       "      <th>ClusterID</th>\n",
       "    </tr>\n",
       "  </thead>\n",
       "  <tbody>\n",
       "    <tr>\n",
       "      <th>0</th>\n",
       "      <td>Afghanistan</td>\n",
       "      <td>1.287660</td>\n",
       "      <td>-0.409779</td>\n",
       "      <td>-0.563346</td>\n",
       "      <td>-0.430979</td>\n",
       "      <td>-0.805822</td>\n",
       "      <td>-0.463617</td>\n",
       "      <td>-1.614237</td>\n",
       "      <td>1.897176</td>\n",
       "      <td>-0.677143</td>\n",
       "      <td>-2.644408</td>\n",
       "      <td>1.575935</td>\n",
       "      <td>-0.249473</td>\n",
       "      <td>-0.261199</td>\n",
       "      <td>3</td>\n",
       "    </tr>\n",
       "    <tr>\n",
       "      <th>1</th>\n",
       "      <td>Albania</td>\n",
       "      <td>-0.537333</td>\n",
       "      <td>-0.349141</td>\n",
       "      <td>-0.437901</td>\n",
       "      <td>-0.312737</td>\n",
       "      <td>-0.374243</td>\n",
       "      <td>-0.348601</td>\n",
       "      <td>0.645924</td>\n",
       "      <td>-0.857394</td>\n",
       "      <td>-0.484167</td>\n",
       "      <td>-0.163437</td>\n",
       "      <td>-1.435221</td>\n",
       "      <td>-0.092994</td>\n",
       "      <td>0.416566</td>\n",
       "      <td>0</td>\n",
       "    </tr>\n",
       "    <tr>\n",
       "      <th>2</th>\n",
       "      <td>Algeria</td>\n",
       "      <td>-0.272015</td>\n",
       "      <td>-0.317571</td>\n",
       "      <td>-0.483372</td>\n",
       "      <td>-0.352660</td>\n",
       "      <td>-0.220182</td>\n",
       "      <td>0.119046</td>\n",
       "      <td>0.668413</td>\n",
       "      <td>-0.038289</td>\n",
       "      <td>-0.463980</td>\n",
       "      <td>-0.330999</td>\n",
       "      <td>-0.789770</td>\n",
       "      <td>0.373888</td>\n",
       "      <td>0.265957</td>\n",
       "      <td>0</td>\n",
       "    </tr>\n",
       "    <tr>\n",
       "      <th>3</th>\n",
       "      <td>Angola</td>\n",
       "      <td>2.001787</td>\n",
       "      <td>-0.290501</td>\n",
       "      <td>-0.530767</td>\n",
       "      <td>-0.344915</td>\n",
       "      <td>-0.583289</td>\n",
       "      <td>0.182628</td>\n",
       "      <td>-1.175698</td>\n",
       "      <td>2.121770</td>\n",
       "      <td>-0.514720</td>\n",
       "      <td>-2.417752</td>\n",
       "      <td>2.141078</td>\n",
       "      <td>0.285958</td>\n",
       "      <td>-0.367783</td>\n",
       "      <td>3</td>\n",
       "    </tr>\n",
       "    <tr>\n",
       "      <th>4</th>\n",
       "      <td>Antigua and Barbuda</td>\n",
       "      <td>-0.693548</td>\n",
       "      <td>-0.104019</td>\n",
       "      <td>-0.178234</td>\n",
       "      <td>0.040613</td>\n",
       "      <td>0.101427</td>\n",
       "      <td>-0.355568</td>\n",
       "      <td>0.702147</td>\n",
       "      <td>-0.540321</td>\n",
       "      <td>-0.041692</td>\n",
       "      <td>0.469776</td>\n",
       "      <td>-1.021416</td>\n",
       "      <td>-0.205063</td>\n",
       "      <td>0.260684</td>\n",
       "      <td>0</td>\n",
       "    </tr>\n",
       "  </tbody>\n",
       "</table>\n",
       "</div>"
      ],
      "text/plain": [
       "               country  child_mort   exports    health   imports    income  \\\n",
       "0          Afghanistan    1.287660 -0.409779 -0.563346 -0.430979 -0.805822   \n",
       "1              Albania   -0.537333 -0.349141 -0.437901 -0.312737 -0.374243   \n",
       "2              Algeria   -0.272015 -0.317571 -0.483372 -0.352660 -0.220182   \n",
       "3               Angola    2.001787 -0.290501 -0.530767 -0.344915 -0.583289   \n",
       "4  Antigua and Barbuda   -0.693548 -0.104019 -0.178234  0.040613  0.101427   \n",
       "\n",
       "   inflation  life_expec  total_fer      gdpp       PC1       PC2       PC3  \\\n",
       "0  -0.463617   -1.614237   1.897176 -0.677143 -2.644408  1.575935 -0.249473   \n",
       "1  -0.348601    0.645924  -0.857394 -0.484167 -0.163437 -1.435221 -0.092994   \n",
       "2   0.119046    0.668413  -0.038289 -0.463980 -0.330999 -0.789770  0.373888   \n",
       "3   0.182628   -1.175698   2.121770 -0.514720 -2.417752  2.141078  0.285958   \n",
       "4  -0.355568    0.702147  -0.540321 -0.041692  0.469776 -1.021416 -0.205063   \n",
       "\n",
       "        PC4  ClusterID  \n",
       "0 -0.261199          3  \n",
       "1  0.416566          0  \n",
       "2  0.265957          0  \n",
       "3 -0.367783          3  \n",
       "4  0.260684          0  "
      ]
     },
     "execution_count": 816,
     "metadata": {},
     "output_type": "execute_result"
    }
   ],
   "source": [
    "final_df.head()"
   ]
  },
  {
   "cell_type": "code",
   "execution_count": 817,
   "metadata": {},
   "outputs": [
    {
     "name": "stdout",
     "output_type": "stream",
     "text": [
      "<class 'pandas.core.frame.DataFrame'>\n",
      "RangeIndex: 167 entries, 0 to 166\n",
      "Data columns (total 15 columns):\n",
      "country       167 non-null object\n",
      "child_mort    167 non-null float64\n",
      "exports       167 non-null float64\n",
      "health        167 non-null float64\n",
      "imports       167 non-null float64\n",
      "income        167 non-null float64\n",
      "inflation     167 non-null float64\n",
      "life_expec    167 non-null float64\n",
      "total_fer     167 non-null float64\n",
      "gdpp          167 non-null float64\n",
      "PC1           167 non-null float64\n",
      "PC2           167 non-null float64\n",
      "PC3           167 non-null float64\n",
      "PC4           167 non-null float64\n",
      "ClusterID     167 non-null int32\n",
      "dtypes: float64(13), int32(1), object(1)\n",
      "memory usage: 19.0+ KB\n"
     ]
    }
   ],
   "source": [
    "final_df.info()"
   ]
  },
  {
   "cell_type": "code",
   "execution_count": 818,
   "metadata": {},
   "outputs": [
    {
     "data": {
      "image/png": "[encoded data removed]",
      "text/plain": [
       "<Figure size 576x432 with 1 Axes>"
      ]
     },
     "metadata": {
      "needs_background": "light"
     },
     "output_type": "display_data"
    }
   ],
   "source": [
    "%matplotlib inline\n",
    "fig = plt.figure(figsize = (8,6))\n",
    "sns.scatterplot(final_df['PC1'], final_df['PC2'], hue=final_df['ClusterID'], palette=\"Dark2\")\n",
    "plt.xlabel('Principal Component 1')\n",
    "plt.ylabel('Principal Component 2')\n",
    "plt.tight_layout()\n",
    "plt.show()"
   ]
  },
  {
   "cell_type": "markdown",
   "metadata": {},
   "source": [
    "#### From the scatter plot cluster 3 seems to be our choice having low PC1 and high PC2.  Lets analyse it further on the basis of mean. Cluster 2 seems to be an outlier with only one country."
   ]
  },
  {
   "cell_type": "code",
   "execution_count": 819,
   "metadata": {},
   "outputs": [
    {
     "data": {
      "text/html": [
       "<div>\n",
       "<style scoped>\n",
       "    .dataframe tbody tr th:only-of-type {\n",
       "        vertical-align: middle;\n",
       "    }\n",
       "\n",
       "    .dataframe tbody tr th {\n",
       "        vertical-align: top;\n",
       "    }\n",
       "\n",
       "    .dataframe thead th {\n",
       "        text-align: right;\n",
       "    }\n",
       "</style>\n",
       "<table border=\"1\" class=\"dataframe\">\n",
       "  <thead>\n",
       "    <tr style=\"text-align: right;\">\n",
       "      <th></th>\n",
       "      <th>country</th>\n",
       "      <th>child_mort</th>\n",
       "      <th>exports</th>\n",
       "      <th>health</th>\n",
       "      <th>imports</th>\n",
       "      <th>income</th>\n",
       "      <th>inflation</th>\n",
       "      <th>life_expec</th>\n",
       "      <th>total_fer</th>\n",
       "      <th>gdpp</th>\n",
       "      <th>PC1</th>\n",
       "      <th>PC2</th>\n",
       "      <th>PC3</th>\n",
       "      <th>PC4</th>\n",
       "      <th>ClusterID</th>\n",
       "    </tr>\n",
       "  </thead>\n",
       "  <tbody>\n",
       "    <tr>\n",
       "      <th>91</th>\n",
       "      <td>Luxembourg</td>\n",
       "      <td>-0.879519</td>\n",
       "      <td>9.810309</td>\n",
       "      <td>3.94234</td>\n",
       "      <td>9.687546</td>\n",
       "      <td>3.867364</td>\n",
       "      <td>2.816798</td>\n",
       "      <td>1.208153</td>\n",
       "      <td>-0.870606</td>\n",
       "      <td>5.021405</td>\n",
       "      <td>13.092921</td>\n",
       "      <td>7.644253</td>\n",
       "      <td>-2.848881</td>\n",
       "      <td>4.08324</td>\n",
       "      <td>2</td>\n",
       "    </tr>\n",
       "  </tbody>\n",
       "</table>\n",
       "</div>"
      ],
      "text/plain": [
       "       country  child_mort   exports   health   imports    income  inflation  \\\n",
       "91  Luxembourg   -0.879519  9.810309  3.94234  9.687546  3.867364   2.816798   \n",
       "\n",
       "    life_expec  total_fer      gdpp        PC1       PC2       PC3      PC4  \\\n",
       "91    1.208153  -0.870606  5.021405  13.092921  7.644253 -2.848881  4.08324   \n",
       "\n",
       "    ClusterID  \n",
       "91          2  "
      ]
     },
     "execution_count": 819,
     "metadata": {},
     "output_type": "execute_result"
    }
   ],
   "source": [
    "final_df[(final_df['ClusterID']==2)]"
   ]
  },
  {
   "cell_type": "code",
   "execution_count": 820,
   "metadata": {},
   "outputs": [],
   "source": [
    "km_clust_PC1 = pd.DataFrame(final_df.groupby([\"ClusterID\"]).PC1.mean())\n",
    "km_clust_PC2 = pd.DataFrame(final_df.groupby([\"ClusterID\"]).PC2.mean())\n",
    "km_clust_PC3 = pd.DataFrame(final_df.groupby([\"ClusterID\"]).PC3.mean())\n",
    "km_clust_PC4 = pd.DataFrame(final_df.groupby([\"ClusterID\"]).PC4.mean())\n",
    "km_clust_child_mort = pd.DataFrame(final_df.groupby([\"ClusterID\"]).child_mort.mean())\n",
    "km_clust_health = pd.DataFrame(final_df.groupby([\"ClusterID\"]).health.mean())\n",
    "km_clust_total_fer =  pd.DataFrame(final_df.groupby([\"ClusterID\"]).total_fer.mean())\n",
    "km_clust_income = pd.DataFrame(final_df.groupby([\"ClusterID\"]).income.mean())\n",
    "km_clust_life_expec = pd.DataFrame(final_df.groupby([\"ClusterID\"]).life_expec.mean())"
   ]
  },
  {
   "cell_type": "code",
   "execution_count": 821,
   "metadata": {},
   "outputs": [
    {
     "data": {
      "text/html": [
       "<div>\n",
       "<style scoped>\n",
       "    .dataframe tbody tr th:only-of-type {\n",
       "        vertical-align: middle;\n",
       "    }\n",
       "\n",
       "    .dataframe tbody tr th {\n",
       "        vertical-align: top;\n",
       "    }\n",
       "\n",
       "    .dataframe thead th {\n",
       "        text-align: right;\n",
       "    }\n",
       "</style>\n",
       "<table border=\"1\" class=\"dataframe\">\n",
       "  <thead>\n",
       "    <tr style=\"text-align: right;\">\n",
       "      <th></th>\n",
       "      <th>ClusterID</th>\n",
       "      <th>PC1_mean</th>\n",
       "      <th>PC2_mean</th>\n",
       "      <th>PC3_mean</th>\n",
       "      <th>PC4_mean</th>\n",
       "    </tr>\n",
       "  </thead>\n",
       "  <tbody>\n",
       "    <tr>\n",
       "      <th>0</th>\n",
       "      <td>0</td>\n",
       "      <td>-0.063013</td>\n",
       "      <td>-0.834976</td>\n",
       "      <td>0.066467</td>\n",
       "      <td>0.264901</td>\n",
       "    </tr>\n",
       "    <tr>\n",
       "      <th>1</th>\n",
       "      <td>1</td>\n",
       "      <td>3.634639</td>\n",
       "      <td>0.265412</td>\n",
       "      <td>0.007653</td>\n",
       "      <td>-0.756610</td>\n",
       "    </tr>\n",
       "    <tr>\n",
       "      <th>2</th>\n",
       "      <td>2</td>\n",
       "      <td>13.092921</td>\n",
       "      <td>7.644253</td>\n",
       "      <td>-2.848881</td>\n",
       "      <td>4.083240</td>\n",
       "    </tr>\n",
       "    <tr>\n",
       "      <th>3</th>\n",
       "      <td>3</td>\n",
       "      <td>-2.243213</td>\n",
       "      <td>1.319307</td>\n",
       "      <td>-0.073887</td>\n",
       "      <td>-0.170759</td>\n",
       "    </tr>\n",
       "  </tbody>\n",
       "</table>\n",
       "</div>"
      ],
      "text/plain": [
       "   ClusterID   PC1_mean  PC2_mean  PC3_mean  PC4_mean\n",
       "0          0  -0.063013 -0.834976  0.066467  0.264901\n",
       "1          1   3.634639  0.265412  0.007653 -0.756610\n",
       "2          2  13.092921  7.644253 -2.848881  4.083240\n",
       "3          3  -2.243213  1.319307 -0.073887 -0.170759"
      ]
     },
     "execution_count": 821,
     "metadata": {},
     "output_type": "execute_result"
    }
   ],
   "source": [
    "df1 = pd.concat([pd.Series([0,1,2,3]), km_clust_PC1, km_clust_PC2,km_clust_PC3,km_clust_PC4], axis=1)\n",
    "df1.columns = [\"ClusterID\", \"PC1_mean\", \"PC2_mean\",\"PC3_mean\",\"PC4_mean\"]\n",
    "df1"
   ]
  },
  {
   "cell_type": "code",
   "execution_count": 822,
   "metadata": {},
   "outputs": [
    {
     "data": {
      "text/html": [
       "<div>\n",
       "<style scoped>\n",
       "    .dataframe tbody tr th:only-of-type {\n",
       "        vertical-align: middle;\n",
       "    }\n",
       "\n",
       "    .dataframe tbody tr th {\n",
       "        vertical-align: top;\n",
       "    }\n",
       "\n",
       "    .dataframe thead th {\n",
       "        text-align: right;\n",
       "    }\n",
       "</style>\n",
       "<table border=\"1\" class=\"dataframe\">\n",
       "  <thead>\n",
       "    <tr style=\"text-align: right;\">\n",
       "      <th></th>\n",
       "      <th>ClusterID</th>\n",
       "      <th>child_mort_mean</th>\n",
       "      <th>health_mean</th>\n",
       "      <th>total_fer_mean</th>\n",
       "      <th>income_mean</th>\n",
       "      <th>life_expec_mean</th>\n",
       "    </tr>\n",
       "  </thead>\n",
       "  <tbody>\n",
       "    <tr>\n",
       "      <th>0</th>\n",
       "      <td>0</td>\n",
       "      <td>-0.439712</td>\n",
       "      <td>-0.283827</td>\n",
       "      <td>-0.454232</td>\n",
       "      <td>-0.165496</td>\n",
       "      <td>0.318975</td>\n",
       "    </tr>\n",
       "    <tr>\n",
       "      <th>1</th>\n",
       "      <td>1</td>\n",
       "      <td>-0.821753</td>\n",
       "      <td>1.736712</td>\n",
       "      <td>-0.781062</td>\n",
       "      <td>1.633776</td>\n",
       "      <td>1.116530</td>\n",
       "    </tr>\n",
       "    <tr>\n",
       "      <th>2</th>\n",
       "      <td>2</td>\n",
       "      <td>-0.879519</td>\n",
       "      <td>3.942340</td>\n",
       "      <td>-0.870606</td>\n",
       "      <td>3.867364</td>\n",
       "      <td>1.208153</td>\n",
       "    </tr>\n",
       "    <tr>\n",
       "      <th>3</th>\n",
       "      <td>3</td>\n",
       "      <td>1.351496</td>\n",
       "      <td>-0.525989</td>\n",
       "      <td>1.356354</td>\n",
       "      <td>-0.696886</td>\n",
       "      <td>-1.291494</td>\n",
       "    </tr>\n",
       "  </tbody>\n",
       "</table>\n",
       "</div>"
      ],
      "text/plain": [
       "   ClusterID  child_mort_mean  health_mean  total_fer_mean  income_mean  \\\n",
       "0          0        -0.439712    -0.283827       -0.454232    -0.165496   \n",
       "1          1        -0.821753     1.736712       -0.781062     1.633776   \n",
       "2          2        -0.879519     3.942340       -0.870606     3.867364   \n",
       "3          3         1.351496    -0.525989        1.356354    -0.696886   \n",
       "\n",
       "   life_expec_mean  \n",
       "0         0.318975  \n",
       "1         1.116530  \n",
       "2         1.208153  \n",
       "3        -1.291494  "
      ]
     },
     "execution_count": 822,
     "metadata": {},
     "output_type": "execute_result"
    }
   ],
   "source": [
    "df2 = pd.concat([pd.Series([0,1,2,3]),km_clust_child_mort,km_clust_health,km_clust_total_fer,km_clust_income,km_clust_life_expec], axis=1)\n",
    "df2.columns = [\"ClusterID\",\"child_mort_mean\",\"health_mean\",\"total_fer_mean\",\"income_mean\",\"life_expec_mean\"]\n",
    "df2"
   ]
  },
  {
   "cell_type": "code",
   "execution_count": 823,
   "metadata": {},
   "outputs": [
    {
     "data": {
      "text/plain": [
       "<matplotlib.axes._subplots.AxesSubplot at 0xc8016b2128>"
      ]
     },
     "execution_count": 823,
     "metadata": {},
     "output_type": "execute_result"
    },
    {
     "data": {
      "image/png": "[encoded data removed]",
      "text/plain": [
       "<Figure size 432x288 with 1 Axes>"
      ]
     },
     "metadata": {
      "needs_background": "light"
     },
     "output_type": "display_data"
    }
   ],
   "source": [
    "sns.barplot(x=df1.ClusterID, y=df1.PC1_mean)"
   ]
  },
  {
   "cell_type": "code",
   "execution_count": 824,
   "metadata": {},
   "outputs": [
    {
     "data": {
      "text/plain": [
       "<matplotlib.axes._subplots.AxesSubplot at 0xc801b14ba8>"
      ]
     },
     "execution_count": 824,
     "metadata": {},
     "output_type": "execute_result"
    },
    {
     "data": {
      "image/png": "[encoded data removed]",
      "text/plain": [
       "<Figure size 432x288 with 1 Axes>"
      ]
     },
     "metadata": {
      "needs_background": "light"
     },
     "output_type": "display_data"
    }
   ],
   "source": [
    "sns.barplot(x=df1.ClusterID, y=df1.PC2_mean)"
   ]
  },
  {
   "cell_type": "code",
   "execution_count": 825,
   "metadata": {},
   "outputs": [
    {
     "data": {
      "text/plain": [
       "<matplotlib.axes._subplots.AxesSubplot at 0xc802cbd208>"
      ]
     },
     "execution_count": 825,
     "metadata": {},
     "output_type": "execute_result"
    },
    {
     "data": {
      "image/png": "[encoded data removed]",
      "text/plain": [
       "<Figure size 432x288 with 1 Axes>"
      ]
     },
     "metadata": {
      "needs_background": "light"
     },
     "output_type": "display_data"
    }
   ],
   "source": [
    "sns.barplot(x=df1.ClusterID, y=df1.PC3_mean)"
   ]
  },
  {
   "cell_type": "code",
   "execution_count": 826,
   "metadata": {},
   "outputs": [
    {
     "data": {
      "text/plain": [
       "<matplotlib.axes._subplots.AxesSubplot at 0xc802d17a58>"
      ]
     },
     "execution_count": 826,
     "metadata": {},
     "output_type": "execute_result"
    },
    {
     "data": {
      "image/png": "[encoded data removed]",
      "text/plain": [
       "<Figure size 432x288 with 1 Axes>"
      ]
     },
     "metadata": {
      "needs_background": "light"
     },
     "output_type": "display_data"
    }
   ],
   "source": [
    "sns.barplot(x=df1.ClusterID, y=df1.PC4_mean)"
   ]
  },
  {
   "cell_type": "code",
   "execution_count": 827,
   "metadata": {},
   "outputs": [],
   "source": [
    "#sns.barplot(x=df1.ClusterID, y=df1.PC5_mean)"
   ]
  },
  {
   "cell_type": "code",
   "execution_count": 828,
   "metadata": {},
   "outputs": [
    {
     "data": {
      "text/plain": [
       "<matplotlib.axes._subplots.AxesSubplot at 0xc802d5fe10>"
      ]
     },
     "execution_count": 828,
     "metadata": {},
     "output_type": "execute_result"
    },
    {
     "data": {
      "image/png": "[encoded data removed]",
      "text/plain": [
       "<Figure size 432x288 with 1 Axes>"
      ]
     },
     "metadata": {
      "needs_background": "light"
     },
     "output_type": "display_data"
    }
   ],
   "source": [
    "sns.barplot(x=df2.ClusterID, y=df2.child_mort_mean)"
   ]
  },
  {
   "cell_type": "code",
   "execution_count": 829,
   "metadata": {},
   "outputs": [
    {
     "data": {
      "text/plain": [
       "<matplotlib.axes._subplots.AxesSubplot at 0xc802dbe8d0>"
      ]
     },
     "execution_count": 829,
     "metadata": {},
     "output_type": "execute_result"
    },
    {
     "data": {
      "image/png": "[encoded data removed]",
      "text/plain": [
       "<Figure size 432x288 with 1 Axes>"
      ]
     },
     "metadata": {
      "needs_background": "light"
     },
     "output_type": "display_data"
    }
   ],
   "source": [
    "sns.barplot(x=df2.ClusterID, y=df2.health_mean)"
   ]
  },
  {
   "cell_type": "code",
   "execution_count": 830,
   "metadata": {},
   "outputs": [
    {
     "data": {
      "text/plain": [
       "<matplotlib.axes._subplots.AxesSubplot at 0xc802e2ea58>"
      ]
     },
     "execution_count": 830,
     "metadata": {},
     "output_type": "execute_result"
    },
    {
     "data": {
      "image/png": "[encoded data removed]",
      "text/plain": [
       "<Figure size 432x288 with 1 Axes>"
      ]
     },
     "metadata": {
      "needs_background": "light"
     },
     "output_type": "display_data"
    }
   ],
   "source": [
    "sns.barplot(x=df2.ClusterID, y=df2.total_fer_mean)"
   ]
  },
  {
   "cell_type": "code",
   "execution_count": 831,
   "metadata": {},
   "outputs": [
    {
     "data": {
      "text/plain": [
       "<matplotlib.axes._subplots.AxesSubplot at 0xc802e76ef0>"
      ]
     },
     "execution_count": 831,
     "metadata": {},
     "output_type": "execute_result"
    },
    {
     "data": {
      "image/png": "[encoded data removed]",
      "text/plain": [
       "<Figure size 432x288 with 1 Axes>"
      ]
     },
     "metadata": {
      "needs_background": "light"
     },
     "output_type": "display_data"
    }
   ],
   "source": [
    "sns.barplot(x=df2.ClusterID, y=df2.income_mean)"
   ]
  },
  {
   "cell_type": "code",
   "execution_count": 832,
   "metadata": {},
   "outputs": [
    {
     "data": {
      "text/plain": [
       "<matplotlib.axes._subplots.AxesSubplot at 0xc802ed2ba8>"
      ]
     },
     "execution_count": 832,
     "metadata": {},
     "output_type": "execute_result"
    },
    {
     "data": {
      "image/png": "[encoded data removed]",
      "text/plain": [
       "<Figure size 432x288 with 1 Axes>"
      ]
     },
     "metadata": {
      "needs_background": "light"
     },
     "output_type": "display_data"
    }
   ],
   "source": [
    "sns.barplot(x=df2.ClusterID, y=df2.life_expec_mean)"
   ]
  },
  {
   "cell_type": "markdown",
   "metadata": {},
   "source": [
    "On Analysing the barplots we can clearly see that Cluster 3 has high child_mort and total_fert but low health, income and life_expec. So Cluster 3 is our preferred cluster for aids."
   ]
  },
  {
   "cell_type": "code",
   "execution_count": 833,
   "metadata": {},
   "outputs": [],
   "source": [
    "df_reqd4=final_df[(final_df.ClusterID==3)]"
   ]
  },
  {
   "cell_type": "code",
   "execution_count": 834,
   "metadata": {},
   "outputs": [
    {
     "data": {
      "text/plain": [
       "47"
      ]
     },
     "execution_count": 834,
     "metadata": {},
     "output_type": "execute_result"
    }
   ],
   "source": [
    "len(df_reqd4)"
   ]
  },
  {
   "cell_type": "code",
   "execution_count": 835,
   "metadata": {},
   "outputs": [
    {
     "data": {
      "text/html": [
       "<div>\n",
       "<style scoped>\n",
       "    .dataframe tbody tr th:only-of-type {\n",
       "        vertical-align: middle;\n",
       "    }\n",
       "\n",
       "    .dataframe tbody tr th {\n",
       "        vertical-align: top;\n",
       "    }\n",
       "\n",
       "    .dataframe thead th {\n",
       "        text-align: right;\n",
       "    }\n",
       "</style>\n",
       "<table border=\"1\" class=\"dataframe\">\n",
       "  <thead>\n",
       "    <tr style=\"text-align: right;\">\n",
       "      <th></th>\n",
       "      <th>country</th>\n",
       "      <th>child_mort</th>\n",
       "      <th>exports</th>\n",
       "      <th>health</th>\n",
       "      <th>imports</th>\n",
       "      <th>income</th>\n",
       "      <th>inflation</th>\n",
       "      <th>life_expec</th>\n",
       "      <th>total_fer</th>\n",
       "      <th>gdpp</th>\n",
       "      <th>PC1</th>\n",
       "      <th>PC2</th>\n",
       "      <th>PC3</th>\n",
       "      <th>PC4</th>\n",
       "      <th>ClusterID</th>\n",
       "    </tr>\n",
       "  </thead>\n",
       "  <tbody>\n",
       "    <tr>\n",
       "      <th>0</th>\n",
       "      <td>Afghanistan</td>\n",
       "      <td>1.287660</td>\n",
       "      <td>-0.409779</td>\n",
       "      <td>-0.563346</td>\n",
       "      <td>-0.430979</td>\n",
       "      <td>-0.805822</td>\n",
       "      <td>-0.463617</td>\n",
       "      <td>-1.614237</td>\n",
       "      <td>1.897176</td>\n",
       "      <td>-0.677143</td>\n",
       "      <td>-2.644408</td>\n",
       "      <td>1.575935</td>\n",
       "      <td>-0.249473</td>\n",
       "      <td>-0.261199</td>\n",
       "      <td>3</td>\n",
       "    </tr>\n",
       "    <tr>\n",
       "      <th>3</th>\n",
       "      <td>Angola</td>\n",
       "      <td>2.001787</td>\n",
       "      <td>-0.290501</td>\n",
       "      <td>-0.530767</td>\n",
       "      <td>-0.344915</td>\n",
       "      <td>-0.583289</td>\n",
       "      <td>0.182628</td>\n",
       "      <td>-1.175698</td>\n",
       "      <td>2.121770</td>\n",
       "      <td>-0.514720</td>\n",
       "      <td>-2.417752</td>\n",
       "      <td>2.141078</td>\n",
       "      <td>0.285958</td>\n",
       "      <td>-0.367783</td>\n",
       "      <td>3</td>\n",
       "    </tr>\n",
       "    <tr>\n",
       "      <th>17</th>\n",
       "      <td>Benin</td>\n",
       "      <td>1.803418</td>\n",
       "      <td>-0.402819</td>\n",
       "      <td>-0.569363</td>\n",
       "      <td>-0.428690</td>\n",
       "      <td>-0.794929</td>\n",
       "      <td>-0.503428</td>\n",
       "      <td>-0.984541</td>\n",
       "      <td>1.593315</td>\n",
       "      <td>-0.665958</td>\n",
       "      <td>-2.501027</td>\n",
       "      <td>1.427697</td>\n",
       "      <td>-0.292876</td>\n",
       "      <td>-0.288600</td>\n",
       "      <td>3</td>\n",
       "    </tr>\n",
       "    <tr>\n",
       "      <th>21</th>\n",
       "      <td>Botswana</td>\n",
       "      <td>0.352847</td>\n",
       "      <td>-0.258821</td>\n",
       "      <td>-0.294038</td>\n",
       "      <td>-0.226419</td>\n",
       "      <td>-0.199433</td>\n",
       "      <td>-0.013647</td>\n",
       "      <td>-1.513036</td>\n",
       "      <td>-0.044895</td>\n",
       "      <td>-0.360863</td>\n",
       "      <td>-1.096249</td>\n",
       "      <td>0.490077</td>\n",
       "      <td>0.102767</td>\n",
       "      <td>0.118712</td>\n",
       "      <td>3</td>\n",
       "    </tr>\n",
       "    <tr>\n",
       "      <th>25</th>\n",
       "      <td>Burkina Faso</td>\n",
       "      <td>1.927399</td>\n",
       "      <td>-0.406713</td>\n",
       "      <td>-0.565101</td>\n",
       "      <td>-0.436288</td>\n",
       "      <td>-0.815159</td>\n",
       "      <td>-0.475033</td>\n",
       "      <td>-1.423079</td>\n",
       "      <td>1.930205</td>\n",
       "      <td>-0.675943</td>\n",
       "      <td>-2.791493</td>\n",
       "      <td>1.833528</td>\n",
       "      <td>-0.275499</td>\n",
       "      <td>-0.365727</td>\n",
       "      <td>3</td>\n",
       "    </tr>\n",
       "    <tr>\n",
       "      <th>26</th>\n",
       "      <td>Burundi</td>\n",
       "      <td>1.371966</td>\n",
       "      <td>-0.411709</td>\n",
       "      <td>-0.571740</td>\n",
       "      <td>-0.441702</td>\n",
       "      <td>-0.849706</td>\n",
       "      <td>-0.484435</td>\n",
       "      <td>-1.445568</td>\n",
       "      <td>2.187827</td>\n",
       "      <td>-0.694711</td>\n",
       "      <td>-2.733072</td>\n",
       "      <td>1.673460</td>\n",
       "      <td>-0.264246</td>\n",
       "      <td>-0.327126</td>\n",
       "      <td>3</td>\n",
       "    </tr>\n",
       "    <tr>\n",
       "      <th>28</th>\n",
       "      <td>Cameroon</td>\n",
       "      <td>1.729030</td>\n",
       "      <td>-0.396675</td>\n",
       "      <td>-0.549309</td>\n",
       "      <td>-0.423814</td>\n",
       "      <td>-0.751356</td>\n",
       "      <td>-0.487403</td>\n",
       "      <td>-1.490547</td>\n",
       "      <td>1.428173</td>\n",
       "      <td>-0.635842</td>\n",
       "      <td>-2.557005</td>\n",
       "      <td>1.536619</td>\n",
       "      <td>-0.288374</td>\n",
       "      <td>-0.256071</td>\n",
       "      <td>3</td>\n",
       "    </tr>\n",
       "    <tr>\n",
       "      <th>31</th>\n",
       "      <td>Central African Republic</td>\n",
       "      <td>2.745670</td>\n",
       "      <td>-0.409928</td>\n",
       "      <td>-0.576761</td>\n",
       "      <td>-0.439824</td>\n",
       "      <td>-0.843274</td>\n",
       "      <td>-0.501453</td>\n",
       "      <td>-2.592516</td>\n",
       "      <td>1.494230</td>\n",
       "      <td>-0.682981</td>\n",
       "      <td>-3.331588</td>\n",
       "      <td>2.500083</td>\n",
       "      <td>-0.359718</td>\n",
       "      <td>-0.369074</td>\n",
       "      <td>3</td>\n",
       "    </tr>\n",
       "    <tr>\n",
       "      <th>32</th>\n",
       "      <td>Chad</td>\n",
       "      <td>2.770466</td>\n",
       "      <td>-0.394490</td>\n",
       "      <td>-0.564058</td>\n",
       "      <td>-0.421333</td>\n",
       "      <td>-0.789223</td>\n",
       "      <td>-0.459141</td>\n",
       "      <td>-1.580503</td>\n",
       "      <td>2.405814</td>\n",
       "      <td>-0.658375</td>\n",
       "      <td>-3.208073</td>\n",
       "      <td>2.576287</td>\n",
       "      <td>-0.281492</td>\n",
       "      <td>-0.577330</td>\n",
       "      <td>3</td>\n",
       "    </tr>\n",
       "    <tr>\n",
       "      <th>36</th>\n",
       "      <td>Comoros</td>\n",
       "      <td>1.238068</td>\n",
       "      <td>-0.405796</td>\n",
       "      <td>-0.567362</td>\n",
       "      <td>-0.420832</td>\n",
       "      <td>-0.816196</td>\n",
       "      <td>-0.483256</td>\n",
       "      <td>-0.523513</td>\n",
       "      <td>1.190368</td>\n",
       "      <td>-0.665358</td>\n",
       "      <td>-2.060010</td>\n",
       "      <td>0.759459</td>\n",
       "      <td>-0.266253</td>\n",
       "      <td>-0.130132</td>\n",
       "      <td>3</td>\n",
       "    </tr>\n",
       "    <tr>\n",
       "      <th>37</th>\n",
       "      <td>Congo, Dem. Rep.</td>\n",
       "      <td>1.927399</td>\n",
       "      <td>-0.405218</td>\n",
       "      <td>-0.571949</td>\n",
       "      <td>-0.436596</td>\n",
       "      <td>-0.857746</td>\n",
       "      <td>-0.448506</td>\n",
       "      <td>-1.468058</td>\n",
       "      <td>2.372786</td>\n",
       "      <td>-0.689092</td>\n",
       "      <td>-2.952898</td>\n",
       "      <td>2.066336</td>\n",
       "      <td>-0.251938</td>\n",
       "      <td>-0.438119</td>\n",
       "      <td>3</td>\n",
       "    </tr>\n",
       "    <tr>\n",
       "      <th>38</th>\n",
       "      <td>Congo, Rep.</td>\n",
       "      <td>0.635522</td>\n",
       "      <td>-0.283126</td>\n",
       "      <td>-0.549197</td>\n",
       "      <td>-0.345975</td>\n",
       "      <td>-0.620119</td>\n",
       "      <td>-0.012982</td>\n",
       "      <td>-1.141965</td>\n",
       "      <td>1.322482</td>\n",
       "      <td>-0.557822</td>\n",
       "      <td>-1.834585</td>\n",
       "      <td>0.989436</td>\n",
       "      <td>0.137533</td>\n",
       "      <td>0.006473</td>\n",
       "      <td>3</td>\n",
       "    </tr>\n",
       "    <tr>\n",
       "      <th>40</th>\n",
       "      <td>Cote d'Ivoire</td>\n",
       "      <td>1.803418</td>\n",
       "      <td>-0.378510</td>\n",
       "      <td>-0.550721</td>\n",
       "      <td>-0.411948</td>\n",
       "      <td>-0.749800</td>\n",
       "      <td>-0.451756</td>\n",
       "      <td>-1.602993</td>\n",
       "      <td>1.533864</td>\n",
       "      <td>-0.640752</td>\n",
       "      <td>-2.632248</td>\n",
       "      <td>1.689465</td>\n",
       "      <td>-0.266666</td>\n",
       "      <td>-0.267300</td>\n",
       "      <td>3</td>\n",
       "    </tr>\n",
       "    <tr>\n",
       "      <th>49</th>\n",
       "      <td>Equatorial Guinea</td>\n",
       "      <td>1.803418</td>\n",
       "      <td>0.403429</td>\n",
       "      <td>-0.161348</td>\n",
       "      <td>0.236802</td>\n",
       "      <td>0.858764</td>\n",
       "      <td>3.216612</td>\n",
       "      <td>-1.085742</td>\n",
       "      <td>1.494230</td>\n",
       "      <td>0.225648</td>\n",
       "      <td>-0.117133</td>\n",
       "      <td>3.153742</td>\n",
       "      <td>2.795850</td>\n",
       "      <td>-0.005877</td>\n",
       "      <td>3</td>\n",
       "    </tr>\n",
       "    <tr>\n",
       "      <th>50</th>\n",
       "      <td>Eritrea</td>\n",
       "      <td>0.419796</td>\n",
       "      <td>-0.411571</td>\n",
       "      <td>-0.579498</td>\n",
       "      <td>-0.440224</td>\n",
       "      <td>-0.815678</td>\n",
       "      <td>-0.460372</td>\n",
       "      <td>-0.995785</td>\n",
       "      <td>1.097889</td>\n",
       "      <td>-0.681017</td>\n",
       "      <td>-1.956749</td>\n",
       "      <td>0.486146</td>\n",
       "      <td>-0.221944</td>\n",
       "      <td>0.022529</td>\n",
       "      <td>3</td>\n",
       "    </tr>\n",
       "    <tr>\n",
       "      <th>55</th>\n",
       "      <td>Gabon</td>\n",
       "      <td>0.630563</td>\n",
       "      <td>-0.131962</td>\n",
       "      <td>-0.416609</td>\n",
       "      <td>-0.335441</td>\n",
       "      <td>-0.090501</td>\n",
       "      <td>0.761724</td>\n",
       "      <td>-0.860850</td>\n",
       "      <td>0.747787</td>\n",
       "      <td>-0.229921</td>\n",
       "      <td>-0.979230</td>\n",
       "      <td>0.956709</td>\n",
       "      <td>0.849288</td>\n",
       "      <td>0.014858</td>\n",
       "      <td>3</td>\n",
       "    </tr>\n",
       "    <tr>\n",
       "      <th>56</th>\n",
       "      <td>Gambia</td>\n",
       "      <td>1.042178</td>\n",
       "      <td>-0.405414</td>\n",
       "      <td>-0.568863</td>\n",
       "      <td>-0.431545</td>\n",
       "      <td>-0.803228</td>\n",
       "      <td>-0.488151</td>\n",
       "      <td>-0.568491</td>\n",
       "      <td>1.824514</td>\n",
       "      <td>-0.676652</td>\n",
       "      <td>-2.202978</td>\n",
       "      <td>0.983378</td>\n",
       "      <td>-0.242634</td>\n",
       "      <td>-0.228048</td>\n",
       "      <td>3</td>\n",
       "    </tr>\n",
       "    <tr>\n",
       "      <th>59</th>\n",
       "      <td>Ghana</td>\n",
       "      <td>0.903320</td>\n",
       "      <td>-0.391355</td>\n",
       "      <td>-0.548655</td>\n",
       "      <td>-0.406984</td>\n",
       "      <td>-0.730607</td>\n",
       "      <td>-0.319008</td>\n",
       "      <td>-0.939562</td>\n",
       "      <td>0.873295</td>\n",
       "      <td>-0.635842</td>\n",
       "      <td>-1.911793</td>\n",
       "      <td>0.669366</td>\n",
       "      <td>-0.122377</td>\n",
       "      <td>-0.011514</td>\n",
       "      <td>3</td>\n",
       "    </tr>\n",
       "    <tr>\n",
       "      <th>63</th>\n",
       "      <td>Guinea</td>\n",
       "      <td>1.753826</td>\n",
       "      <td>-0.401932</td>\n",
       "      <td>-0.568881</td>\n",
       "      <td>-0.428829</td>\n",
       "      <td>-0.827608</td>\n",
       "      <td>-0.418005</td>\n",
       "      <td>-1.411835</td>\n",
       "      <td>1.580104</td>\n",
       "      <td>-0.671960</td>\n",
       "      <td>-2.622918</td>\n",
       "      <td>1.585705</td>\n",
       "      <td>-0.235285</td>\n",
       "      <td>-0.258035</td>\n",
       "      <td>3</td>\n",
       "    </tr>\n",
       "    <tr>\n",
       "      <th>64</th>\n",
       "      <td>Guinea-Bissau</td>\n",
       "      <td>1.877807</td>\n",
       "      <td>-0.408321</td>\n",
       "      <td>-0.560804</td>\n",
       "      <td>-0.434769</td>\n",
       "      <td>-0.817234</td>\n",
       "      <td>-0.495082</td>\n",
       "      <td>-1.681705</td>\n",
       "      <td>1.388539</td>\n",
       "      <td>-0.677470</td>\n",
       "      <td>-2.710540</td>\n",
       "      <td>1.645229</td>\n",
       "      <td>-0.310929</td>\n",
       "      <td>-0.249210</td>\n",
       "      <td>3</td>\n",
       "    </tr>\n",
       "    <tr>\n",
       "      <th>66</th>\n",
       "      <td>Haiti</td>\n",
       "      <td>4.208640</td>\n",
       "      <td>-0.407220</td>\n",
       "      <td>-0.561221</td>\n",
       "      <td>-0.418742</td>\n",
       "      <td>-0.811528</td>\n",
       "      <td>-0.477727</td>\n",
       "      <td>-4.324181</td>\n",
       "      <td>0.252361</td>\n",
       "      <td>-0.671196</td>\n",
       "      <td>-3.962651</td>\n",
       "      <td>3.364705</td>\n",
       "      <td>-0.452650</td>\n",
       "      <td>-0.306463</td>\n",
       "      <td>3</td>\n",
       "    </tr>\n",
       "    <tr>\n",
       "      <th>80</th>\n",
       "      <td>Kenya</td>\n",
       "      <td>0.593369</td>\n",
       "      <td>-0.401719</td>\n",
       "      <td>-0.561117</td>\n",
       "      <td>-0.425771</td>\n",
       "      <td>-0.760693</td>\n",
       "      <td>-0.491613</td>\n",
       "      <td>-0.872095</td>\n",
       "      <td>0.939352</td>\n",
       "      <td>-0.654556</td>\n",
       "      <td>-1.881766</td>\n",
       "      <td>0.460307</td>\n",
       "      <td>-0.253441</td>\n",
       "      <td>0.008139</td>\n",
       "      <td>3</td>\n",
       "    </tr>\n",
       "    <tr>\n",
       "      <th>81</th>\n",
       "      <td>Kiribati</td>\n",
       "      <td>0.605767</td>\n",
       "      <td>-0.401830</td>\n",
       "      <td>-0.493149</td>\n",
       "      <td>-0.366930</td>\n",
       "      <td>-0.799597</td>\n",
       "      <td>-0.489479</td>\n",
       "      <td>-1.108231</td>\n",
       "      <td>0.589251</td>\n",
       "      <td>-0.626021</td>\n",
       "      <td>-1.822827</td>\n",
       "      <td>0.419473</td>\n",
       "      <td>-0.310253</td>\n",
       "      <td>0.052943</td>\n",
       "      <td>3</td>\n",
       "    </tr>\n",
       "    <tr>\n",
       "      <th>84</th>\n",
       "      <td>Lao</td>\n",
       "      <td>1.007464</td>\n",
       "      <td>-0.390403</td>\n",
       "      <td>-0.558327</td>\n",
       "      <td>-0.409653</td>\n",
       "      <td>-0.682884</td>\n",
       "      <td>-0.417522</td>\n",
       "      <td>-0.759649</td>\n",
       "      <td>0.133459</td>\n",
       "      <td>-0.645117</td>\n",
       "      <td>-1.678371</td>\n",
       "      <td>0.267596</td>\n",
       "      <td>-0.209074</td>\n",
       "      <td>0.114274</td>\n",
       "      <td>3</td>\n",
       "    </tr>\n",
       "    <tr>\n",
       "      <th>87</th>\n",
       "      <td>Lesotho</td>\n",
       "      <td>1.523223</td>\n",
       "      <td>-0.387208</td>\n",
       "      <td>-0.514521</td>\n",
       "      <td>-0.367529</td>\n",
       "      <td>-0.765880</td>\n",
       "      <td>-0.466809</td>\n",
       "      <td>-2.704962</td>\n",
       "      <td>0.232544</td>\n",
       "      <td>-0.643480</td>\n",
       "      <td>-2.525607</td>\n",
       "      <td>1.372915</td>\n",
       "      <td>-0.348774</td>\n",
       "      <td>0.046644</td>\n",
       "      <td>3</td>\n",
       "    </tr>\n",
       "    <tr>\n",
       "      <th>88</th>\n",
       "      <td>Liberia</td>\n",
       "      <td>1.265343</td>\n",
       "      <td>-0.409381</td>\n",
       "      <td>-0.565195</td>\n",
       "      <td>-0.427274</td>\n",
       "      <td>-0.853026</td>\n",
       "      <td>-0.493646</td>\n",
       "      <td>-1.096986</td>\n",
       "      <td>1.368722</td>\n",
       "      <td>-0.689473</td>\n",
       "      <td>-2.340502</td>\n",
       "      <td>1.081302</td>\n",
       "      <td>-0.289255</td>\n",
       "      <td>-0.154131</td>\n",
       "      <td>3</td>\n",
       "    </tr>\n",
       "    <tr>\n",
       "      <th>93</th>\n",
       "      <td>Madagascar</td>\n",
       "      <td>0.593369</td>\n",
       "      <td>-0.407111</td>\n",
       "      <td>-0.577972</td>\n",
       "      <td>-0.435786</td>\n",
       "      <td>-0.817234</td>\n",
       "      <td>-0.477531</td>\n",
       "      <td>-1.096986</td>\n",
       "      <td>1.091283</td>\n",
       "      <td>-0.684781</td>\n",
       "      <td>-2.043472</td>\n",
       "      <td>0.610808</td>\n",
       "      <td>-0.247208</td>\n",
       "      <td>0.002976</td>\n",
       "      <td>3</td>\n",
       "    </tr>\n",
       "    <tr>\n",
       "      <th>94</th>\n",
       "      <td>Malawi</td>\n",
       "      <td>1.295099</td>\n",
       "      <td>-0.407033</td>\n",
       "      <td>-0.569823</td>\n",
       "      <td>-0.436969</td>\n",
       "      <td>-0.835908</td>\n",
       "      <td>-0.460698</td>\n",
       "      <td>-1.962819</td>\n",
       "      <td>1.560287</td>\n",
       "      <td>-0.682272</td>\n",
       "      <td>-2.682692</td>\n",
       "      <td>1.552484</td>\n",
       "      <td>-0.266836</td>\n",
       "      <td>-0.180964</td>\n",
       "      <td>3</td>\n",
       "    </tr>\n",
       "    <tr>\n",
       "      <th>97</th>\n",
       "      <td>Mali</td>\n",
       "      <td>2.448117</td>\n",
       "      <td>-0.403875</td>\n",
       "      <td>-0.567042</td>\n",
       "      <td>-0.430965</td>\n",
       "      <td>-0.792335</td>\n",
       "      <td>-0.482224</td>\n",
       "      <td>-1.243166</td>\n",
       "      <td>2.379391</td>\n",
       "      <td>-0.668686</td>\n",
       "      <td>-3.006927</td>\n",
       "      <td>2.247820</td>\n",
       "      <td>-0.279825</td>\n",
       "      <td>-0.535536</td>\n",
       "      <td>3</td>\n",
       "    </tr>\n",
       "    <tr>\n",
       "      <th>99</th>\n",
       "      <td>Mauritania</td>\n",
       "      <td>1.466192</td>\n",
       "      <td>-0.379006</td>\n",
       "      <td>-0.557238</td>\n",
       "      <td>-0.397935</td>\n",
       "      <td>-0.717120</td>\n",
       "      <td>-0.310835</td>\n",
       "      <td>-0.264887</td>\n",
       "      <td>1.342299</td>\n",
       "      <td>-0.641843</td>\n",
       "      <td>-1.983866</td>\n",
       "      <td>0.915931</td>\n",
       "      <td>-0.108164</td>\n",
       "      <td>-0.183993</td>\n",
       "      <td>3</td>\n",
       "    </tr>\n",
       "    <tr>\n",
       "      <th>106</th>\n",
       "      <td>Mozambique</td>\n",
       "      <td>1.555458</td>\n",
       "      <td>-0.405512</td>\n",
       "      <td>-0.574497</td>\n",
       "      <td>-0.434699</td>\n",
       "      <td>-0.841718</td>\n",
       "      <td>-0.481286</td>\n",
       "      <td>-1.805395</td>\n",
       "      <td>1.725429</td>\n",
       "      <td>-0.684454</td>\n",
       "      <td>-2.764480</td>\n",
       "      <td>1.695584</td>\n",
       "      <td>-0.286826</td>\n",
       "      <td>-0.251196</td>\n",
       "      <td>3</td>\n",
       "    </tr>\n",
       "    <tr>\n",
       "      <th>108</th>\n",
       "      <td>Namibia</td>\n",
       "      <td>0.439633</td>\n",
       "      <td>-0.274832</td>\n",
       "      <td>-0.391278</td>\n",
       "      <td>-0.233707</td>\n",
       "      <td>-0.450496</td>\n",
       "      <td>-0.347619</td>\n",
       "      <td>-1.344367</td>\n",
       "      <td>0.430714</td>\n",
       "      <td>-0.424152</td>\n",
       "      <td>-1.435118</td>\n",
       "      <td>0.562388</td>\n",
       "      <td>-0.204044</td>\n",
       "      <td>0.071467</td>\n",
       "      <td>3</td>\n",
       "    </tr>\n",
       "    <tr>\n",
       "      <th>112</th>\n",
       "      <td>Niger</td>\n",
       "      <td>2.100972</td>\n",
       "      <td>-0.408557</td>\n",
       "      <td>-0.576647</td>\n",
       "      <td>-0.436243</td>\n",
       "      <td>-0.847112</td>\n",
       "      <td>-0.501533</td>\n",
       "      <td>-1.321878</td>\n",
       "      <td>3.000326</td>\n",
       "      <td>-0.688328</td>\n",
       "      <td>-3.146675</td>\n",
       "      <td>2.388724</td>\n",
       "      <td>-0.280381</td>\n",
       "      <td>-0.596090</td>\n",
       "      <td>3</td>\n",
       "    </tr>\n",
       "    <tr>\n",
       "      <th>113</th>\n",
       "      <td>Nigeria</td>\n",
       "      <td>2.274544</td>\n",
       "      <td>-0.380059</td>\n",
       "      <td>-0.521038</td>\n",
       "      <td>-0.420299</td>\n",
       "      <td>-0.622194</td>\n",
       "      <td>1.611143</td>\n",
       "      <td>-1.130720</td>\n",
       "      <td>1.910388</td>\n",
       "      <td>-0.580191</td>\n",
       "      <td>-2.236288</td>\n",
       "      <td>2.407204</td>\n",
       "      <td>1.529682</td>\n",
       "      <td>-0.282444</td>\n",
       "      <td>3</td>\n",
       "    </tr>\n",
       "    <tr>\n",
       "      <th>116</th>\n",
       "      <td>Pakistan</td>\n",
       "      <td>1.334772</td>\n",
       "      <td>-0.405044</td>\n",
       "      <td>-0.573914</td>\n",
       "      <td>-0.434143</td>\n",
       "      <td>-0.667323</td>\n",
       "      <td>-0.410101</td>\n",
       "      <td>-0.590980</td>\n",
       "      <td>0.595857</td>\n",
       "      <td>-0.650573</td>\n",
       "      <td>-1.868580</td>\n",
       "      <td>0.577866</td>\n",
       "      <td>-0.179775</td>\n",
       "      <td>-0.034006</td>\n",
       "      <td>3</td>\n",
       "    </tr>\n",
       "    <tr>\n",
       "      <th>126</th>\n",
       "      <td>Rwanda</td>\n",
       "      <td>0.628084</td>\n",
       "      <td>-0.409097</td>\n",
       "      <td>-0.553799</td>\n",
       "      <td>-0.436377</td>\n",
       "      <td>-0.819309</td>\n",
       "      <td>-0.496439</td>\n",
       "      <td>-0.669692</td>\n",
       "      <td>1.031832</td>\n",
       "      <td>-0.676597</td>\n",
       "      <td>-1.887532</td>\n",
       "      <td>0.423020</td>\n",
       "      <td>-0.263124</td>\n",
       "      <td>-0.020031</td>\n",
       "      <td>3</td>\n",
       "    </tr>\n",
       "    <tr>\n",
       "      <th>129</th>\n",
       "      <td>Senegal</td>\n",
       "      <td>0.707431</td>\n",
       "      <td>-0.399002</td>\n",
       "      <td>-0.555195</td>\n",
       "      <td>-0.420463</td>\n",
       "      <td>-0.776255</td>\n",
       "      <td>-0.493109</td>\n",
       "      <td>-0.737160</td>\n",
       "      <td>1.395144</td>\n",
       "      <td>-0.652755</td>\n",
       "      <td>-2.003681</td>\n",
       "      <td>0.686818</td>\n",
       "      <td>-0.252205</td>\n",
       "      <td>-0.102581</td>\n",
       "      <td>3</td>\n",
       "    </tr>\n",
       "    <tr>\n",
       "      <th>132</th>\n",
       "      <td>Sierra Leone</td>\n",
       "      <td>3.018427</td>\n",
       "      <td>-0.409126</td>\n",
       "      <td>-0.557599</td>\n",
       "      <td>-0.438500</td>\n",
       "      <td>-0.826052</td>\n",
       "      <td>-0.449244</td>\n",
       "      <td>-1.749172</td>\n",
       "      <td>1.487624</td>\n",
       "      <td>-0.685545</td>\n",
       "      <td>-3.106943</td>\n",
       "      <td>2.305749</td>\n",
       "      <td>-0.307477</td>\n",
       "      <td>-0.431004</td>\n",
       "      <td>3</td>\n",
       "    </tr>\n",
       "    <tr>\n",
       "      <th>136</th>\n",
       "      <td>Solomon Islands</td>\n",
       "      <td>-0.252178</td>\n",
       "      <td>-0.377473</td>\n",
       "      <td>-0.525388</td>\n",
       "      <td>-0.376653</td>\n",
       "      <td>-0.797004</td>\n",
       "      <td>-0.432425</td>\n",
       "      <td>-0.995785</td>\n",
       "      <td>0.853478</td>\n",
       "      <td>-0.636933</td>\n",
       "      <td>-1.598602</td>\n",
       "      <td>0.081083</td>\n",
       "      <td>-0.219766</td>\n",
       "      <td>0.160461</td>\n",
       "      <td>3</td>\n",
       "    </tr>\n",
       "    <tr>\n",
       "      <th>137</th>\n",
       "      <td>South Africa</td>\n",
       "      <td>0.382602</td>\n",
       "      <td>-0.297016</td>\n",
       "      <td>-0.225324</td>\n",
       "      <td>-0.312262</td>\n",
       "      <td>-0.266867</td>\n",
       "      <td>-0.104776</td>\n",
       "      <td>-1.827884</td>\n",
       "      <td>-0.236460</td>\n",
       "      <td>-0.310123</td>\n",
       "      <td>-1.197835</td>\n",
       "      <td>0.487088</td>\n",
       "      <td>0.014299</td>\n",
       "      <td>0.039231</td>\n",
       "      <td>3</td>\n",
       "    </tr>\n",
       "    <tr>\n",
       "      <th>142</th>\n",
       "      <td>Sudan</td>\n",
       "      <td>0.952912</td>\n",
       "      <td>-0.396634</td>\n",
       "      <td>-0.534691</td>\n",
       "      <td>-0.430554</td>\n",
       "      <td>-0.714526</td>\n",
       "      <td>-0.255461</td>\n",
       "      <td>-0.478534</td>\n",
       "      <td>1.276242</td>\n",
       "      <td>-0.626567</td>\n",
       "      <td>-1.871288</td>\n",
       "      <td>0.712264</td>\n",
       "      <td>-0.041401</td>\n",
       "      <td>-0.128031</td>\n",
       "      <td>3</td>\n",
       "    </tr>\n",
       "    <tr>\n",
       "      <th>147</th>\n",
       "      <td>Tanzania</td>\n",
       "      <td>0.833891</td>\n",
       "      <td>-0.405552</td>\n",
       "      <td>-0.563194</td>\n",
       "      <td>-0.433971</td>\n",
       "      <td>-0.780923</td>\n",
       "      <td>-0.452476</td>\n",
       "      <td>-1.265655</td>\n",
       "      <td>1.639555</td>\n",
       "      <td>-0.669014</td>\n",
       "      <td>-2.299592</td>\n",
       "      <td>1.084929</td>\n",
       "      <td>-0.219065</td>\n",
       "      <td>-0.153029</td>\n",
       "      <td>3</td>\n",
       "    </tr>\n",
       "    <tr>\n",
       "      <th>149</th>\n",
       "      <td>Timor-Leste</td>\n",
       "      <td>0.603287</td>\n",
       "      <td>-0.408449</td>\n",
       "      <td>-0.404358</td>\n",
       "      <td>-0.379826</td>\n",
       "      <td>-0.793372</td>\n",
       "      <td>0.325508</td>\n",
       "      <td>0.061206</td>\n",
       "      <td>2.168010</td>\n",
       "      <td>-0.510901</td>\n",
       "      <td>-1.651689</td>\n",
       "      <td>0.916764</td>\n",
       "      <td>0.432019</td>\n",
       "      <td>-0.317656</td>\n",
       "      <td>3</td>\n",
       "    </tr>\n",
       "    <tr>\n",
       "      <th>150</th>\n",
       "      <td>Togo</td>\n",
       "      <td>1.290139</td>\n",
       "      <td>-0.401941</td>\n",
       "      <td>-0.565891</td>\n",
       "      <td>-0.428850</td>\n",
       "      <td>-0.826571</td>\n",
       "      <td>-0.504259</td>\n",
       "      <td>-1.333123</td>\n",
       "      <td>1.269636</td>\n",
       "      <td>-0.680689</td>\n",
       "      <td>-2.384972</td>\n",
       "      <td>1.146577</td>\n",
       "      <td>-0.300756</td>\n",
       "      <td>-0.136465</td>\n",
       "      <td>3</td>\n",
       "    </tr>\n",
       "    <tr>\n",
       "      <th>155</th>\n",
       "      <td>Uganda</td>\n",
       "      <td>1.059536</td>\n",
       "      <td>-0.407195</td>\n",
       "      <td>-0.556855</td>\n",
       "      <td>-0.436290</td>\n",
       "      <td>-0.809453</td>\n",
       "      <td>-0.454108</td>\n",
       "      <td>-1.546770</td>\n",
       "      <td>2.115164</td>\n",
       "      <td>-0.674852</td>\n",
       "      <td>-2.612561</td>\n",
       "      <td>1.541214</td>\n",
       "      <td>-0.228951</td>\n",
       "      <td>-0.277747</td>\n",
       "      <td>3</td>\n",
       "    </tr>\n",
       "    <tr>\n",
       "      <th>165</th>\n",
       "      <td>Yemen</td>\n",
       "      <td>0.447072</td>\n",
       "      <td>-0.390991</td>\n",
       "      <td>-0.548945</td>\n",
       "      <td>-0.417225</td>\n",
       "      <td>-0.656948</td>\n",
       "      <td>-0.238765</td>\n",
       "      <td>-0.343599</td>\n",
       "      <td>1.137523</td>\n",
       "      <td>-0.635842</td>\n",
       "      <td>-1.608573</td>\n",
       "      <td>0.346818</td>\n",
       "      <td>0.000531</td>\n",
       "      <td>-0.010569</td>\n",
       "      <td>3</td>\n",
       "    </tr>\n",
       "    <tr>\n",
       "      <th>166</th>\n",
       "      <td>Zambia</td>\n",
       "      <td>1.111607</td>\n",
       "      <td>-0.382801</td>\n",
       "      <td>-0.538878</td>\n",
       "      <td>-0.417191</td>\n",
       "      <td>-0.719195</td>\n",
       "      <td>-0.330436</td>\n",
       "      <td>-2.086510</td>\n",
       "      <td>1.619738</td>\n",
       "      <td>-0.627658</td>\n",
       "      <td>-2.566169</td>\n",
       "      <td>1.610271</td>\n",
       "      <td>-0.141650</td>\n",
       "      <td>-0.181316</td>\n",
       "      <td>3</td>\n",
       "    </tr>\n",
       "  </tbody>\n",
       "</table>\n",
       "</div>"
      ],
      "text/plain": [
       "                      country  child_mort   exports    health   imports  \\\n",
       "0                 Afghanistan    1.287660 -0.409779 -0.563346 -0.430979   \n",
       "3                      Angola    2.001787 -0.290501 -0.530767 -0.344915   \n",
       "17                      Benin    1.803418 -0.402819 -0.569363 -0.428690   \n",
       "21                   Botswana    0.352847 -0.258821 -0.294038 -0.226419   \n",
       "25               Burkina Faso    1.927399 -0.406713 -0.565101 -0.436288   \n",
       "26                    Burundi    1.371966 -0.411709 -0.571740 -0.441702   \n",
       "28                   Cameroon    1.729030 -0.396675 -0.549309 -0.423814   \n",
       "31   Central African Republic    2.745670 -0.409928 -0.576761 -0.439824   \n",
       "32                       Chad    2.770466 -0.394490 -0.564058 -0.421333   \n",
       "36                    Comoros    1.238068 -0.405796 -0.567362 -0.420832   \n",
       "37           Congo, Dem. Rep.    1.927399 -0.405218 -0.571949 -0.436596   \n",
       "38                Congo, Rep.    0.635522 -0.283126 -0.549197 -0.345975   \n",
       "40              Cote d'Ivoire    1.803418 -0.378510 -0.550721 -0.411948   \n",
       "49          Equatorial Guinea    1.803418  0.403429 -0.161348  0.236802   \n",
       "50                    Eritrea    0.419796 -0.411571 -0.579498 -0.440224   \n",
       "55                      Gabon    0.630563 -0.131962 -0.416609 -0.335441   \n",
       "56                     Gambia    1.042178 -0.405414 -0.568863 -0.431545   \n",
       "59                      Ghana    0.903320 -0.391355 -0.548655 -0.406984   \n",
       "63                     Guinea    1.753826 -0.401932 -0.568881 -0.428829   \n",
       "64              Guinea-Bissau    1.877807 -0.408321 -0.560804 -0.434769   \n",
       "66                      Haiti    4.208640 -0.407220 -0.561221 -0.418742   \n",
       "80                      Kenya    0.593369 -0.401719 -0.561117 -0.425771   \n",
       "81                   Kiribati    0.605767 -0.401830 -0.493149 -0.366930   \n",
       "84                        Lao    1.007464 -0.390403 -0.558327 -0.409653   \n",
       "87                    Lesotho    1.523223 -0.387208 -0.514521 -0.367529   \n",
       "88                    Liberia    1.265343 -0.409381 -0.565195 -0.427274   \n",
       "93                 Madagascar    0.593369 -0.407111 -0.577972 -0.435786   \n",
       "94                     Malawi    1.295099 -0.407033 -0.569823 -0.436969   \n",
       "97                       Mali    2.448117 -0.403875 -0.567042 -0.430965   \n",
       "99                 Mauritania    1.466192 -0.379006 -0.557238 -0.397935   \n",
       "106                Mozambique    1.555458 -0.405512 -0.574497 -0.434699   \n",
       "108                   Namibia    0.439633 -0.274832 -0.391278 -0.233707   \n",
       "112                     Niger    2.100972 -0.408557 -0.576647 -0.436243   \n",
       "113                   Nigeria    2.274544 -0.380059 -0.521038 -0.420299   \n",
       "116                  Pakistan    1.334772 -0.405044 -0.573914 -0.434143   \n",
       "126                    Rwanda    0.628084 -0.409097 -0.553799 -0.436377   \n",
       "129                   Senegal    0.707431 -0.399002 -0.555195 -0.420463   \n",
       "132              Sierra Leone    3.018427 -0.409126 -0.557599 -0.438500   \n",
       "136           Solomon Islands   -0.252178 -0.377473 -0.525388 -0.376653   \n",
       "137              South Africa    0.382602 -0.297016 -0.225324 -0.312262   \n",
       "142                     Sudan    0.952912 -0.396634 -0.534691 -0.430554   \n",
       "147                  Tanzania    0.833891 -0.405552 -0.563194 -0.433971   \n",
       "149               Timor-Leste    0.603287 -0.408449 -0.404358 -0.379826   \n",
       "150                      Togo    1.290139 -0.401941 -0.565891 -0.428850   \n",
       "155                    Uganda    1.059536 -0.407195 -0.556855 -0.436290   \n",
       "165                     Yemen    0.447072 -0.390991 -0.548945 -0.417225   \n",
       "166                    Zambia    1.111607 -0.382801 -0.538878 -0.417191   \n",
       "\n",
       "       income  inflation  life_expec  total_fer      gdpp       PC1       PC2  \\\n",
       "0   -0.805822  -0.463617   -1.614237   1.897176 -0.677143 -2.644408  1.575935   \n",
       "3   -0.583289   0.182628   -1.175698   2.121770 -0.514720 -2.417752  2.141078   \n",
       "17  -0.794929  -0.503428   -0.984541   1.593315 -0.665958 -2.501027  1.427697   \n",
       "21  -0.199433  -0.013647   -1.513036  -0.044895 -0.360863 -1.096249  0.490077   \n",
       "25  -0.815159  -0.475033   -1.423079   1.930205 -0.675943 -2.791493  1.833528   \n",
       "26  -0.849706  -0.484435   -1.445568   2.187827 -0.694711 -2.733072  1.673460   \n",
       "28  -0.751356  -0.487403   -1.490547   1.428173 -0.635842 -2.557005  1.536619   \n",
       "31  -0.843274  -0.501453   -2.592516   1.494230 -0.682981 -3.331588  2.500083   \n",
       "32  -0.789223  -0.459141   -1.580503   2.405814 -0.658375 -3.208073  2.576287   \n",
       "36  -0.816196  -0.483256   -0.523513   1.190368 -0.665358 -2.060010  0.759459   \n",
       "37  -0.857746  -0.448506   -1.468058   2.372786 -0.689092 -2.952898  2.066336   \n",
       "38  -0.620119  -0.012982   -1.141965   1.322482 -0.557822 -1.834585  0.989436   \n",
       "40  -0.749800  -0.451756   -1.602993   1.533864 -0.640752 -2.632248  1.689465   \n",
       "49   0.858764   3.216612   -1.085742   1.494230  0.225648 -0.117133  3.153742   \n",
       "50  -0.815678  -0.460372   -0.995785   1.097889 -0.681017 -1.956749  0.486146   \n",
       "55  -0.090501   0.761724   -0.860850   0.747787 -0.229921 -0.979230  0.956709   \n",
       "56  -0.803228  -0.488151   -0.568491   1.824514 -0.676652 -2.202978  0.983378   \n",
       "59  -0.730607  -0.319008   -0.939562   0.873295 -0.635842 -1.911793  0.669366   \n",
       "63  -0.827608  -0.418005   -1.411835   1.580104 -0.671960 -2.622918  1.585705   \n",
       "64  -0.817234  -0.495082   -1.681705   1.388539 -0.677470 -2.710540  1.645229   \n",
       "66  -0.811528  -0.477727   -4.324181   0.252361 -0.671196 -3.962651  3.364705   \n",
       "80  -0.760693  -0.491613   -0.872095   0.939352 -0.654556 -1.881766  0.460307   \n",
       "81  -0.799597  -0.489479   -1.108231   0.589251 -0.626021 -1.822827  0.419473   \n",
       "84  -0.682884  -0.417522   -0.759649   0.133459 -0.645117 -1.678371  0.267596   \n",
       "87  -0.765880  -0.466809   -2.704962   0.232544 -0.643480 -2.525607  1.372915   \n",
       "88  -0.853026  -0.493646   -1.096986   1.368722 -0.689473 -2.340502  1.081302   \n",
       "93  -0.817234  -0.477531   -1.096986   1.091283 -0.684781 -2.043472  0.610808   \n",
       "94  -0.835908  -0.460698   -1.962819   1.560287 -0.682272 -2.682692  1.552484   \n",
       "97  -0.792335  -0.482224   -1.243166   2.379391 -0.668686 -3.006927  2.247820   \n",
       "99  -0.717120  -0.310835   -0.264887   1.342299 -0.641843 -1.983866  0.915931   \n",
       "106 -0.841718  -0.481286   -1.805395   1.725429 -0.684454 -2.764480  1.695584   \n",
       "108 -0.450496  -0.347619   -1.344367   0.430714 -0.424152 -1.435118  0.562388   \n",
       "112 -0.847112  -0.501533   -1.321878   3.000326 -0.688328 -3.146675  2.388724   \n",
       "113 -0.622194   1.611143   -1.130720   1.910388 -0.580191 -2.236288  2.407204   \n",
       "116 -0.667323  -0.410101   -0.590980   0.595857 -0.650573 -1.868580  0.577866   \n",
       "126 -0.819309  -0.496439   -0.669692   1.031832 -0.676597 -1.887532  0.423020   \n",
       "129 -0.776255  -0.493109   -0.737160   1.395144 -0.652755 -2.003681  0.686818   \n",
       "132 -0.826052  -0.449244   -1.749172   1.487624 -0.685545 -3.106943  2.305749   \n",
       "136 -0.797004  -0.432425   -0.995785   0.853478 -0.636933 -1.598602  0.081083   \n",
       "137 -0.266867  -0.104776   -1.827884  -0.236460 -0.310123 -1.197835  0.487088   \n",
       "142 -0.714526  -0.255461   -0.478534   1.276242 -0.626567 -1.871288  0.712264   \n",
       "147 -0.780923  -0.452476   -1.265655   1.639555 -0.669014 -2.299592  1.084929   \n",
       "149 -0.793372   0.325508    0.061206   2.168010 -0.510901 -1.651689  0.916764   \n",
       "150 -0.826571  -0.504259   -1.333123   1.269636 -0.680689 -2.384972  1.146577   \n",
       "155 -0.809453  -0.454108   -1.546770   2.115164 -0.674852 -2.612561  1.541214   \n",
       "165 -0.656948  -0.238765   -0.343599   1.137523 -0.635842 -1.608573  0.346818   \n",
       "166 -0.719195  -0.330436   -2.086510   1.619738 -0.627658 -2.566169  1.610271   \n",
       "\n",
       "          PC3       PC4  ClusterID  \n",
       "0   -0.249473 -0.261199          3  \n",
       "3    0.285958 -0.367783          3  \n",
       "17  -0.292876 -0.288600          3  \n",
       "21   0.102767  0.118712          3  \n",
       "25  -0.275499 -0.365727          3  \n",
       "26  -0.264246 -0.327126          3  \n",
       "28  -0.288374 -0.256071          3  \n",
       "31  -0.359718 -0.369074          3  \n",
       "32  -0.281492 -0.577330          3  \n",
       "36  -0.266253 -0.130132          3  \n",
       "37  -0.251938 -0.438119          3  \n",
       "38   0.137533  0.006473          3  \n",
       "40  -0.266666 -0.267300          3  \n",
       "49   2.795850 -0.005877          3  \n",
       "50  -0.221944  0.022529          3  \n",
       "55   0.849288  0.014858          3  \n",
       "56  -0.242634 -0.228048          3  \n",
       "59  -0.122377 -0.011514          3  \n",
       "63  -0.235285 -0.258035          3  \n",
       "64  -0.310929 -0.249210          3  \n",
       "66  -0.452650 -0.306463          3  \n",
       "80  -0.253441  0.008139          3  \n",
       "81  -0.310253  0.052943          3  \n",
       "84  -0.209074  0.114274          3  \n",
       "87  -0.348774  0.046644          3  \n",
       "88  -0.289255 -0.154131          3  \n",
       "93  -0.247208  0.002976          3  \n",
       "94  -0.266836 -0.180964          3  \n",
       "97  -0.279825 -0.535536          3  \n",
       "99  -0.108164 -0.183993          3  \n",
       "106 -0.286826 -0.251196          3  \n",
       "108 -0.204044  0.071467          3  \n",
       "112 -0.280381 -0.596090          3  \n",
       "113  1.529682 -0.282444          3  \n",
       "116 -0.179775 -0.034006          3  \n",
       "126 -0.263124 -0.020031          3  \n",
       "129 -0.252205 -0.102581          3  \n",
       "132 -0.307477 -0.431004          3  \n",
       "136 -0.219766  0.160461          3  \n",
       "137  0.014299  0.039231          3  \n",
       "142 -0.041401 -0.128031          3  \n",
       "147 -0.219065 -0.153029          3  \n",
       "149  0.432019 -0.317656          3  \n",
       "150 -0.300756 -0.136465          3  \n",
       "155 -0.228951 -0.277747          3  \n",
       "165  0.000531 -0.010569          3  \n",
       "166 -0.141650 -0.181316          3  "
      ]
     },
     "execution_count": 835,
     "metadata": {},
     "output_type": "execute_result"
    }
   ],
   "source": [
    "df_reqd4"
   ]
  },
  {
   "cell_type": "code",
   "execution_count": 836,
   "metadata": {},
   "outputs": [],
   "source": [
    "country4=set(df_reqd4['country'])"
   ]
  },
  {
   "cell_type": "code",
   "execution_count": 837,
   "metadata": {},
   "outputs": [
    {
     "data": {
      "text/plain": [
       "{'Afghanistan',\n",
       " 'Angola',\n",
       " 'Benin',\n",
       " 'Botswana',\n",
       " 'Burkina Faso',\n",
       " 'Burundi',\n",
       " 'Cameroon',\n",
       " 'Central African Republic',\n",
       " 'Chad',\n",
       " 'Comoros',\n",
       " 'Congo, Dem. Rep.',\n",
       " 'Congo, Rep.',\n",
       " \"Cote d'Ivoire\",\n",
       " 'Equatorial Guinea',\n",
       " 'Eritrea',\n",
       " 'Gabon',\n",
       " 'Gambia',\n",
       " 'Ghana',\n",
       " 'Guinea',\n",
       " 'Guinea-Bissau',\n",
       " 'Haiti',\n",
       " 'Kenya',\n",
       " 'Kiribati',\n",
       " 'Lao',\n",
       " 'Lesotho',\n",
       " 'Liberia',\n",
       " 'Madagascar',\n",
       " 'Malawi',\n",
       " 'Mali',\n",
       " 'Mauritania',\n",
       " 'Mozambique',\n",
       " 'Namibia',\n",
       " 'Niger',\n",
       " 'Nigeria',\n",
       " 'Pakistan',\n",
       " 'Rwanda',\n",
       " 'Senegal',\n",
       " 'Sierra Leone',\n",
       " 'Solomon Islands',\n",
       " 'South Africa',\n",
       " 'Sudan',\n",
       " 'Tanzania',\n",
       " 'Timor-Leste',\n",
       " 'Togo',\n",
       " 'Uganda',\n",
       " 'Yemen',\n",
       " 'Zambia'}"
      ]
     },
     "execution_count": 837,
     "metadata": {},
     "output_type": "execute_result"
    }
   ],
   "source": [
    "country4"
   ]
  },
  {
   "cell_type": "markdown",
   "metadata": {},
   "source": [
    "These are the group pf countries which are in direst need of aid."
   ]
  },
  {
   "cell_type": "markdown",
   "metadata": {},
   "source": [
    "Lets repeat the K-means with k=5"
   ]
  },
  {
   "cell_type": "code",
   "execution_count": 838,
   "metadata": {},
   "outputs": [
    {
     "data": {
      "text/plain": [
       "KMeans(algorithm='auto', copy_x=True, init='k-means++', max_iter=50,\n",
       "    n_clusters=5, n_init=10, n_jobs=1, precompute_distances='auto',\n",
       "    random_state=0, tol=0.0001, verbose=0)"
      ]
     },
     "execution_count": 838,
     "metadata": {},
     "output_type": "execute_result"
    }
   ],
   "source": [
    "# Kmeans with K=5\n",
    "model_clus5 = KMeans(n_clusters = 5, max_iter=50, random_state=0)\n",
    "model_clus5.fit(pcs_df)"
   ]
  },
  {
   "cell_type": "code",
   "execution_count": 839,
   "metadata": {},
   "outputs": [
    {
     "data": {
      "text/plain": [
       "array([0, 3, 3, 0, 3, 3, 3, 1, 1, 3, 3, 3, 3, 3, 3, 1, 3, 0, 3, 3, 3, 0,\n",
       "       3, 4, 3, 0, 0, 3, 0, 1, 3, 0, 0, 3, 3, 3, 0, 0, 0, 3, 0, 3, 1, 3,\n",
       "       1, 3, 3, 3, 3, 4, 0, 3, 3, 1, 1, 0, 0, 3, 1, 0, 1, 3, 3, 0, 0, 3,\n",
       "       0, 3, 1, 3, 3, 3, 3, 1, 1, 1, 3, 1, 3, 3, 0, 0, 4, 3, 0, 3, 3, 0,\n",
       "       0, 3, 3, 2, 3, 0, 0, 3, 3, 0, 1, 0, 3, 3, 3, 3, 3, 3, 0, 3, 0, 3,\n",
       "       1, 1, 0, 0, 4, 4, 0, 3, 3, 3, 3, 3, 3, 4, 3, 3, 0, 3, 4, 0, 3, 3,\n",
       "       0, 1, 3, 1, 0, 0, 3, 1, 3, 3, 0, 3, 1, 1, 3, 0, 3, 0, 0, 3, 3, 3,\n",
       "       3, 0, 3, 4, 1, 1, 3, 3, 3, 4, 3, 0, 0])"
      ]
     },
     "execution_count": 839,
     "metadata": {},
     "output_type": "execute_result"
    }
   ],
   "source": [
    "model_clus5.labels_"
   ]
  },
  {
   "cell_type": "code",
   "execution_count": 840,
   "metadata": {},
   "outputs": [],
   "source": [
    "# analysis of clusters formed\n",
    "f_df = pd.concat([df, pcs_df], axis=1)\n",
    "final_df = pd.concat([f_df, pd.Series(model_clus5.labels_).rename('ClusterID')], axis=1)"
   ]
  },
  {
   "cell_type": "code",
   "execution_count": 841,
   "metadata": {},
   "outputs": [
    {
     "name": "stdout",
     "output_type": "stream",
     "text": [
      "<class 'pandas.core.frame.DataFrame'>\n",
      "RangeIndex: 167 entries, 0 to 166\n",
      "Data columns (total 15 columns):\n",
      "country       167 non-null object\n",
      "child_mort    167 non-null float64\n",
      "exports       167 non-null float64\n",
      "health        167 non-null float64\n",
      "imports       167 non-null float64\n",
      "income        167 non-null float64\n",
      "inflation     167 non-null float64\n",
      "life_expec    167 non-null float64\n",
      "total_fer     167 non-null float64\n",
      "gdpp          167 non-null float64\n",
      "PC1           167 non-null float64\n",
      "PC2           167 non-null float64\n",
      "PC3           167 non-null float64\n",
      "PC4           167 non-null float64\n",
      "ClusterID     167 non-null int32\n",
      "dtypes: float64(13), int32(1), object(1)\n",
      "memory usage: 19.0+ KB\n"
     ]
    }
   ],
   "source": [
    "final_df.info()"
   ]
  },
  {
   "cell_type": "code",
   "execution_count": 842,
   "metadata": {},
   "outputs": [
    {
     "data": {
      "image/png": "[encoded data removed]",
      "text/plain": [
       "<Figure size 576x432 with 1 Axes>"
      ]
     },
     "metadata": {
      "needs_background": "light"
     },
     "output_type": "display_data"
    }
   ],
   "source": [
    "%matplotlib inline\n",
    "fig = plt.figure(figsize = (8,6))\n",
    "sns.scatterplot(final_df['PC1'], final_df['PC2'], hue=final_df['ClusterID'], palette=\"Dark2_r\")\n",
    "plt.xlabel('Principal Component 1')\n",
    "plt.ylabel('Principal Component 2')\n",
    "plt.tight_layout()\n",
    "plt.show()"
   ]
  },
  {
   "cell_type": "code",
   "execution_count": 843,
   "metadata": {},
   "outputs": [
    {
     "data": {
      "text/plain": [
       "46"
      ]
     },
     "execution_count": 843,
     "metadata": {},
     "output_type": "execute_result"
    }
   ],
   "source": [
    "len(final_df[(final_df['ClusterID']==0)])"
   ]
  },
  {
   "cell_type": "markdown",
   "metadata": {},
   "source": [
    "Cluster 0 seems to be our choice with low PC1 and high PC2."
   ]
  },
  {
   "cell_type": "code",
   "execution_count": 844,
   "metadata": {},
   "outputs": [
    {
     "data": {
      "text/plain": [
       "25"
      ]
     },
     "execution_count": 844,
     "metadata": {},
     "output_type": "execute_result"
    }
   ],
   "source": [
    "len(final_df[(final_df['ClusterID']==1)])"
   ]
  },
  {
   "cell_type": "code",
   "execution_count": 845,
   "metadata": {},
   "outputs": [
    {
     "data": {
      "text/plain": [
       "1"
      ]
     },
     "execution_count": 845,
     "metadata": {},
     "output_type": "execute_result"
    }
   ],
   "source": [
    "len(final_df[(final_df['ClusterID']==2)])"
   ]
  },
  {
   "cell_type": "code",
   "execution_count": 846,
   "metadata": {},
   "outputs": [
    {
     "data": {
      "text/html": [
       "<div>\n",
       "<style scoped>\n",
       "    .dataframe tbody tr th:only-of-type {\n",
       "        vertical-align: middle;\n",
       "    }\n",
       "\n",
       "    .dataframe tbody tr th {\n",
       "        vertical-align: top;\n",
       "    }\n",
       "\n",
       "    .dataframe thead th {\n",
       "        text-align: right;\n",
       "    }\n",
       "</style>\n",
       "<table border=\"1\" class=\"dataframe\">\n",
       "  <thead>\n",
       "    <tr style=\"text-align: right;\">\n",
       "      <th></th>\n",
       "      <th>country</th>\n",
       "      <th>child_mort</th>\n",
       "      <th>exports</th>\n",
       "      <th>health</th>\n",
       "      <th>imports</th>\n",
       "      <th>income</th>\n",
       "      <th>inflation</th>\n",
       "      <th>life_expec</th>\n",
       "      <th>total_fer</th>\n",
       "      <th>gdpp</th>\n",
       "      <th>PC1</th>\n",
       "      <th>PC2</th>\n",
       "      <th>PC3</th>\n",
       "      <th>PC4</th>\n",
       "      <th>ClusterID</th>\n",
       "    </tr>\n",
       "  </thead>\n",
       "  <tbody>\n",
       "    <tr>\n",
       "      <th>91</th>\n",
       "      <td>Luxembourg</td>\n",
       "      <td>-0.879519</td>\n",
       "      <td>9.810309</td>\n",
       "      <td>3.94234</td>\n",
       "      <td>9.687546</td>\n",
       "      <td>3.867364</td>\n",
       "      <td>2.816798</td>\n",
       "      <td>1.208153</td>\n",
       "      <td>-0.870606</td>\n",
       "      <td>5.021405</td>\n",
       "      <td>13.092921</td>\n",
       "      <td>7.644253</td>\n",
       "      <td>-2.848881</td>\n",
       "      <td>4.08324</td>\n",
       "      <td>2</td>\n",
       "    </tr>\n",
       "  </tbody>\n",
       "</table>\n",
       "</div>"
      ],
      "text/plain": [
       "       country  child_mort   exports   health   imports    income  inflation  \\\n",
       "91  Luxembourg   -0.879519  9.810309  3.94234  9.687546  3.867364   2.816798   \n",
       "\n",
       "    life_expec  total_fer      gdpp        PC1       PC2       PC3      PC4  \\\n",
       "91    1.208153  -0.870606  5.021405  13.092921  7.644253 -2.848881  4.08324   \n",
       "\n",
       "    ClusterID  \n",
       "91          2  "
      ]
     },
     "execution_count": 846,
     "metadata": {},
     "output_type": "execute_result"
    }
   ],
   "source": [
    "final_df[(final_df['ClusterID']==2)]"
   ]
  },
  {
   "cell_type": "markdown",
   "metadata": {},
   "source": [
    "This seems to be an outlier. So it has been clustered seperately"
   ]
  },
  {
   "cell_type": "code",
   "execution_count": 847,
   "metadata": {},
   "outputs": [
    {
     "data": {
      "text/plain": [
       "86"
      ]
     },
     "execution_count": 847,
     "metadata": {},
     "output_type": "execute_result"
    }
   ],
   "source": [
    "len(final_df[(final_df['ClusterID']==3)])"
   ]
  },
  {
   "cell_type": "code",
   "execution_count": 848,
   "metadata": {},
   "outputs": [
    {
     "data": {
      "text/plain": [
       "9"
      ]
     },
     "execution_count": 848,
     "metadata": {},
     "output_type": "execute_result"
    }
   ],
   "source": [
    "len(final_df[(final_df['ClusterID']==4)])"
   ]
  },
  {
   "cell_type": "code",
   "execution_count": 849,
   "metadata": {},
   "outputs": [],
   "source": [
    "km_clust_PC1 = pd.DataFrame(final_df.groupby([\"ClusterID\"]).PC1.mean())\n",
    "km_clust_PC2 = pd.DataFrame(final_df.groupby([\"ClusterID\"]).PC2.mean())\n",
    "km_clust_PC3 = pd.DataFrame(final_df.groupby([\"ClusterID\"]).PC3.mean())\n",
    "km_clust_PC4 = pd.DataFrame(final_df.groupby([\"ClusterID\"]).PC4.mean())\n",
    "km_clust_child_mort = pd.DataFrame(final_df.groupby([\"ClusterID\"]).child_mort.mean())\n",
    "km_clust_health = pd.DataFrame(final_df.groupby([\"ClusterID\"]).health.mean())\n",
    "km_clust_total_fer =  pd.DataFrame(final_df.groupby([\"ClusterID\"]).total_fer.mean())\n",
    "km_clust_income = pd.DataFrame(final_df.groupby([\"ClusterID\"]).income.mean())\n",
    "km_clust_life_expec = pd.DataFrame(final_df.groupby([\"ClusterID\"]).life_expec.mean())"
   ]
  },
  {
   "cell_type": "code",
   "execution_count": 850,
   "metadata": {},
   "outputs": [
    {
     "data": {
      "text/html": [
       "<div>\n",
       "<style scoped>\n",
       "    .dataframe tbody tr th:only-of-type {\n",
       "        vertical-align: middle;\n",
       "    }\n",
       "\n",
       "    .dataframe tbody tr th {\n",
       "        vertical-align: top;\n",
       "    }\n",
       "\n",
       "    .dataframe thead th {\n",
       "        text-align: right;\n",
       "    }\n",
       "</style>\n",
       "<table border=\"1\" class=\"dataframe\">\n",
       "  <thead>\n",
       "    <tr style=\"text-align: right;\">\n",
       "      <th></th>\n",
       "      <th>ClusterID</th>\n",
       "      <th>PC1_mean</th>\n",
       "      <th>PC2_mean</th>\n",
       "      <th>PC3_mean</th>\n",
       "      <th>PC4_mean</th>\n",
       "    </tr>\n",
       "  </thead>\n",
       "  <tbody>\n",
       "    <tr>\n",
       "      <th>0</th>\n",
       "      <td>0</td>\n",
       "      <td>-2.289432</td>\n",
       "      <td>1.279428</td>\n",
       "      <td>-0.136272</td>\n",
       "      <td>-0.174344</td>\n",
       "    </tr>\n",
       "    <tr>\n",
       "      <th>1</th>\n",
       "      <td>1</td>\n",
       "      <td>3.207689</td>\n",
       "      <td>-0.085527</td>\n",
       "      <td>-0.714612</td>\n",
       "      <td>-0.839307</td>\n",
       "    </tr>\n",
       "    <tr>\n",
       "      <th>2</th>\n",
       "      <td>2</td>\n",
       "      <td>13.092921</td>\n",
       "      <td>7.644253</td>\n",
       "      <td>-2.848881</td>\n",
       "      <td>4.083240</td>\n",
       "    </tr>\n",
       "    <tr>\n",
       "      <th>3</th>\n",
       "      <td>3</td>\n",
       "      <td>-0.176651</td>\n",
       "      <td>-0.873902</td>\n",
       "      <td>-0.017870</td>\n",
       "      <td>0.285379</td>\n",
       "    </tr>\n",
       "    <tr>\n",
       "      <th>4</th>\n",
       "      <td>4</td>\n",
       "      <td>3.024522</td>\n",
       "      <td>1.199529</td>\n",
       "      <td>3.168837</td>\n",
       "      <td>0.041853</td>\n",
       "    </tr>\n",
       "  </tbody>\n",
       "</table>\n",
       "</div>"
      ],
      "text/plain": [
       "   ClusterID   PC1_mean  PC2_mean  PC3_mean  PC4_mean\n",
       "0          0  -2.289432  1.279428 -0.136272 -0.174344\n",
       "1          1   3.207689 -0.085527 -0.714612 -0.839307\n",
       "2          2  13.092921  7.644253 -2.848881  4.083240\n",
       "3          3  -0.176651 -0.873902 -0.017870  0.285379\n",
       "4          4   3.024522  1.199529  3.168837  0.041853"
      ]
     },
     "execution_count": 850,
     "metadata": {},
     "output_type": "execute_result"
    }
   ],
   "source": [
    "df1 = pd.concat([pd.Series([0,1,2,3,4]), km_clust_PC1, km_clust_PC2,km_clust_PC3,km_clust_PC4], axis=1)\n",
    "df1.columns = [\"ClusterID\", \"PC1_mean\", \"PC2_mean\",\"PC3_mean\",\"PC4_mean\"]\n",
    "df1"
   ]
  },
  {
   "cell_type": "code",
   "execution_count": 851,
   "metadata": {},
   "outputs": [
    {
     "data": {
      "text/html": [
       "<div>\n",
       "<style scoped>\n",
       "    .dataframe tbody tr th:only-of-type {\n",
       "        vertical-align: middle;\n",
       "    }\n",
       "\n",
       "    .dataframe tbody tr th {\n",
       "        vertical-align: top;\n",
       "    }\n",
       "\n",
       "    .dataframe thead th {\n",
       "        text-align: right;\n",
       "    }\n",
       "</style>\n",
       "<table border=\"1\" class=\"dataframe\">\n",
       "  <thead>\n",
       "    <tr style=\"text-align: right;\">\n",
       "      <th></th>\n",
       "      <th>ClusterID</th>\n",
       "      <th>child_mort_mean</th>\n",
       "      <th>health_mean</th>\n",
       "      <th>total_fer_mean</th>\n",
       "      <th>income_mean</th>\n",
       "      <th>life_expec_mean</th>\n",
       "    </tr>\n",
       "  </thead>\n",
       "  <tbody>\n",
       "    <tr>\n",
       "      <th>0</th>\n",
       "      <td>0</td>\n",
       "      <td>1.341672</td>\n",
       "      <td>-0.533916</td>\n",
       "      <td>1.353356</td>\n",
       "      <td>-0.730705</td>\n",
       "      <td>-1.295967</td>\n",
       "    </tr>\n",
       "    <tr>\n",
       "      <th>1</th>\n",
       "      <td>1</td>\n",
       "      <td>-0.841730</td>\n",
       "      <td>1.798575</td>\n",
       "      <td>-0.789752</td>\n",
       "      <td>1.184730</td>\n",
       "      <td>1.161375</td>\n",
       "    </tr>\n",
       "    <tr>\n",
       "      <th>2</th>\n",
       "      <td>2</td>\n",
       "      <td>-0.879519</td>\n",
       "      <td>3.942340</td>\n",
       "      <td>-0.870606</td>\n",
       "      <td>3.867364</td>\n",
       "      <td>1.208153</td>\n",
       "    </tr>\n",
       "    <tr>\n",
       "      <th>3</th>\n",
       "      <td>3</td>\n",
       "      <td>-0.420388</td>\n",
       "      <td>-0.322945</td>\n",
       "      <td>-0.460746</td>\n",
       "      <td>-0.232131</td>\n",
       "      <td>0.282959</td>\n",
       "    </tr>\n",
       "    <tr>\n",
       "      <th>4</th>\n",
       "      <td>4</td>\n",
       "      <td>-0.404536</td>\n",
       "      <td>0.380742</td>\n",
       "      <td>-0.223982</td>\n",
       "      <td>2.232230</td>\n",
       "      <td>0.559715</td>\n",
       "    </tr>\n",
       "  </tbody>\n",
       "</table>\n",
       "</div>"
      ],
      "text/plain": [
       "   ClusterID  child_mort_mean  health_mean  total_fer_mean  income_mean  \\\n",
       "0          0         1.341672    -0.533916        1.353356    -0.730705   \n",
       "1          1        -0.841730     1.798575       -0.789752     1.184730   \n",
       "2          2        -0.879519     3.942340       -0.870606     3.867364   \n",
       "3          3        -0.420388    -0.322945       -0.460746    -0.232131   \n",
       "4          4        -0.404536     0.380742       -0.223982     2.232230   \n",
       "\n",
       "   life_expec_mean  \n",
       "0        -1.295967  \n",
       "1         1.161375  \n",
       "2         1.208153  \n",
       "3         0.282959  \n",
       "4         0.559715  "
      ]
     },
     "execution_count": 851,
     "metadata": {},
     "output_type": "execute_result"
    }
   ],
   "source": [
    "df2 = pd.concat([pd.Series([0,1,2,3,4]),km_clust_child_mort,km_clust_health,km_clust_total_fer,km_clust_income,km_clust_life_expec], axis=1)\n",
    "df2.columns = [\"ClusterID\",\"child_mort_mean\",\"health_mean\",\"total_fer_mean\",\"income_mean\",\"life_expec_mean\"]\n",
    "df2"
   ]
  },
  {
   "cell_type": "code",
   "execution_count": 852,
   "metadata": {},
   "outputs": [
    {
     "data": {
      "text/plain": [
       "<matplotlib.axes._subplots.AxesSubplot at 0xc802f886d8>"
      ]
     },
     "execution_count": 852,
     "metadata": {},
     "output_type": "execute_result"
    },
    {
     "data": {
      "image/png": "[encoded data removed]",
      "text/plain": [
       "<Figure size 432x288 with 1 Axes>"
      ]
     },
     "metadata": {
      "needs_background": "light"
     },
     "output_type": "display_data"
    }
   ],
   "source": [
    "sns.barplot(x=df1.ClusterID, y=df1.PC1_mean)"
   ]
  },
  {
   "cell_type": "code",
   "execution_count": 853,
   "metadata": {},
   "outputs": [
    {
     "data": {
      "text/plain": [
       "<matplotlib.axes._subplots.AxesSubplot at 0xc802fb7eb8>"
      ]
     },
     "execution_count": 853,
     "metadata": {},
     "output_type": "execute_result"
    },
    {
     "data": {
      "image/png": "[encoded data removed]",
      "text/plain": [
       "<Figure size 432x288 with 1 Axes>"
      ]
     },
     "metadata": {
      "needs_background": "light"
     },
     "output_type": "display_data"
    }
   ],
   "source": [
    "sns.barplot(x=df1.ClusterID, y=df1.PC2_mean)"
   ]
  },
  {
   "cell_type": "code",
   "execution_count": 854,
   "metadata": {},
   "outputs": [
    {
     "data": {
      "text/plain": [
       "<matplotlib.axes._subplots.AxesSubplot at 0xc803017320>"
      ]
     },
     "execution_count": 854,
     "metadata": {},
     "output_type": "execute_result"
    },
    {
     "data": {
      "image/png": "[encoded data removed]",
      "text/plain": [
       "<Figure size 432x288 with 1 Axes>"
      ]
     },
     "metadata": {
      "needs_background": "light"
     },
     "output_type": "display_data"
    }
   ],
   "source": [
    "sns.barplot(x=df1.ClusterID, y=df1.PC3_mean)"
   ]
  },
  {
   "cell_type": "code",
   "execution_count": 855,
   "metadata": {},
   "outputs": [
    {
     "data": {
      "text/plain": [
       "<matplotlib.axes._subplots.AxesSubplot at 0xc8031034a8>"
      ]
     },
     "execution_count": 855,
     "metadata": {},
     "output_type": "execute_result"
    },
    {
     "data": {
      "image/png": "[encoded data removed]",
      "text/plain": [
       "<Figure size 432x288 with 1 Axes>"
      ]
     },
     "metadata": {
      "needs_background": "light"
     },
     "output_type": "display_data"
    }
   ],
   "source": [
    "sns.barplot(x=df1.ClusterID, y=df1.PC4_mean)"
   ]
  },
  {
   "cell_type": "code",
   "execution_count": 856,
   "metadata": {},
   "outputs": [
    {
     "data": {
      "text/plain": [
       "<matplotlib.axes._subplots.AxesSubplot at 0xc80413ce10>"
      ]
     },
     "execution_count": 856,
     "metadata": {},
     "output_type": "execute_result"
    },
    {
     "data": {
      "image/png": "[encoded data removed]",
      "text/plain": [
       "<Figure size 432x288 with 1 Axes>"
      ]
     },
     "metadata": {
      "needs_background": "light"
     },
     "output_type": "display_data"
    }
   ],
   "source": [
    "sns.barplot(x=df2.ClusterID, y=df2.child_mort_mean)"
   ]
  },
  {
   "cell_type": "code",
   "execution_count": 857,
   "metadata": {},
   "outputs": [
    {
     "data": {
      "text/plain": [
       "<matplotlib.axes._subplots.AxesSubplot at 0xc8041a1748>"
      ]
     },
     "execution_count": 857,
     "metadata": {},
     "output_type": "execute_result"
    },
    {
     "data": {
      "image/png": "[encoded data removed]",
      "text/plain": [
       "<Figure size 432x288 with 1 Axes>"
      ]
     },
     "metadata": {
      "needs_background": "light"
     },
     "output_type": "display_data"
    }
   ],
   "source": [
    "sns.barplot(x=df2.ClusterID, y=df2.health_mean)"
   ]
  },
  {
   "cell_type": "code",
   "execution_count": 858,
   "metadata": {},
   "outputs": [
    {
     "data": {
      "text/plain": [
       "<matplotlib.axes._subplots.AxesSubplot at 0xc8042062b0>"
      ]
     },
     "execution_count": 858,
     "metadata": {},
     "output_type": "execute_result"
    },
    {
     "data": {
      "image/png": "[encoded data removed]",
      "text/plain": [
       "<Figure size 432x288 with 1 Axes>"
      ]
     },
     "metadata": {
      "needs_background": "light"
     },
     "output_type": "display_data"
    }
   ],
   "source": [
    "sns.barplot(x=df2.ClusterID, y=df2.total_fer_mean)"
   ]
  },
  {
   "cell_type": "code",
   "execution_count": 859,
   "metadata": {},
   "outputs": [
    {
     "data": {
      "text/plain": [
       "<matplotlib.axes._subplots.AxesSubplot at 0xc804199b38>"
      ]
     },
     "execution_count": 859,
     "metadata": {},
     "output_type": "execute_result"
    },
    {
     "data": {
      "image/png": "[encoded data removed]",
      "text/plain": [
       "<Figure size 432x288 with 1 Axes>"
      ]
     },
     "metadata": {
      "needs_background": "light"
     },
     "output_type": "display_data"
    }
   ],
   "source": [
    "sns.barplot(x=df2.ClusterID, y=df2.income_mean)"
   ]
  },
  {
   "cell_type": "code",
   "execution_count": 860,
   "metadata": {},
   "outputs": [
    {
     "data": {
      "text/plain": [
       "<matplotlib.axes._subplots.AxesSubplot at 0xc8042c6ef0>"
      ]
     },
     "execution_count": 860,
     "metadata": {},
     "output_type": "execute_result"
    },
    {
     "data": {
      "image/png": "[encoded data removed]",
      "text/plain": [
       "<Figure size 432x288 with 1 Axes>"
      ]
     },
     "metadata": {
      "needs_background": "light"
     },
     "output_type": "display_data"
    }
   ],
   "source": [
    "sns.barplot(x=df2.ClusterID, y=df2.life_expec_mean)"
   ]
  },
  {
   "cell_type": "markdown",
   "metadata": {},
   "source": [
    "Cluster 0 has high child_mort and  total_fert and low income, health and life_expec. So cluster 0 is our preferred choice."
   ]
  },
  {
   "cell_type": "code",
   "execution_count": 861,
   "metadata": {},
   "outputs": [],
   "source": [
    "df5=final_df[(final_df.ClusterID == 0)]"
   ]
  },
  {
   "cell_type": "code",
   "execution_count": 862,
   "metadata": {},
   "outputs": [
    {
     "data": {
      "text/plain": [
       "46"
      ]
     },
     "execution_count": 862,
     "metadata": {},
     "output_type": "execute_result"
    }
   ],
   "source": [
    "len(df5)"
   ]
  },
  {
   "cell_type": "code",
   "execution_count": 863,
   "metadata": {},
   "outputs": [
    {
     "data": {
      "text/html": [
       "<div>\n",
       "<style scoped>\n",
       "    .dataframe tbody tr th:only-of-type {\n",
       "        vertical-align: middle;\n",
       "    }\n",
       "\n",
       "    .dataframe tbody tr th {\n",
       "        vertical-align: top;\n",
       "    }\n",
       "\n",
       "    .dataframe thead th {\n",
       "        text-align: right;\n",
       "    }\n",
       "</style>\n",
       "<table border=\"1\" class=\"dataframe\">\n",
       "  <thead>\n",
       "    <tr style=\"text-align: right;\">\n",
       "      <th></th>\n",
       "      <th>country</th>\n",
       "      <th>child_mort</th>\n",
       "      <th>exports</th>\n",
       "      <th>health</th>\n",
       "      <th>imports</th>\n",
       "      <th>income</th>\n",
       "      <th>inflation</th>\n",
       "      <th>life_expec</th>\n",
       "      <th>total_fer</th>\n",
       "      <th>gdpp</th>\n",
       "      <th>PC1</th>\n",
       "      <th>PC2</th>\n",
       "      <th>PC3</th>\n",
       "      <th>PC4</th>\n",
       "      <th>ClusterID</th>\n",
       "    </tr>\n",
       "  </thead>\n",
       "  <tbody>\n",
       "    <tr>\n",
       "      <th>0</th>\n",
       "      <td>Afghanistan</td>\n",
       "      <td>1.287660</td>\n",
       "      <td>-0.409779</td>\n",
       "      <td>-0.563346</td>\n",
       "      <td>-0.430979</td>\n",
       "      <td>-0.805822</td>\n",
       "      <td>-0.463617</td>\n",
       "      <td>-1.614237</td>\n",
       "      <td>1.897176</td>\n",
       "      <td>-0.677143</td>\n",
       "      <td>-2.644408</td>\n",
       "      <td>1.575935</td>\n",
       "      <td>-0.249473</td>\n",
       "      <td>-0.261199</td>\n",
       "      <td>0</td>\n",
       "    </tr>\n",
       "    <tr>\n",
       "      <th>3</th>\n",
       "      <td>Angola</td>\n",
       "      <td>2.001787</td>\n",
       "      <td>-0.290501</td>\n",
       "      <td>-0.530767</td>\n",
       "      <td>-0.344915</td>\n",
       "      <td>-0.583289</td>\n",
       "      <td>0.182628</td>\n",
       "      <td>-1.175698</td>\n",
       "      <td>2.121770</td>\n",
       "      <td>-0.514720</td>\n",
       "      <td>-2.417752</td>\n",
       "      <td>2.141078</td>\n",
       "      <td>0.285958</td>\n",
       "      <td>-0.367783</td>\n",
       "      <td>0</td>\n",
       "    </tr>\n",
       "    <tr>\n",
       "      <th>17</th>\n",
       "      <td>Benin</td>\n",
       "      <td>1.803418</td>\n",
       "      <td>-0.402819</td>\n",
       "      <td>-0.569363</td>\n",
       "      <td>-0.428690</td>\n",
       "      <td>-0.794929</td>\n",
       "      <td>-0.503428</td>\n",
       "      <td>-0.984541</td>\n",
       "      <td>1.593315</td>\n",
       "      <td>-0.665958</td>\n",
       "      <td>-2.501027</td>\n",
       "      <td>1.427697</td>\n",
       "      <td>-0.292876</td>\n",
       "      <td>-0.288600</td>\n",
       "      <td>0</td>\n",
       "    </tr>\n",
       "    <tr>\n",
       "      <th>21</th>\n",
       "      <td>Botswana</td>\n",
       "      <td>0.352847</td>\n",
       "      <td>-0.258821</td>\n",
       "      <td>-0.294038</td>\n",
       "      <td>-0.226419</td>\n",
       "      <td>-0.199433</td>\n",
       "      <td>-0.013647</td>\n",
       "      <td>-1.513036</td>\n",
       "      <td>-0.044895</td>\n",
       "      <td>-0.360863</td>\n",
       "      <td>-1.096249</td>\n",
       "      <td>0.490077</td>\n",
       "      <td>0.102767</td>\n",
       "      <td>0.118712</td>\n",
       "      <td>0</td>\n",
       "    </tr>\n",
       "    <tr>\n",
       "      <th>25</th>\n",
       "      <td>Burkina Faso</td>\n",
       "      <td>1.927399</td>\n",
       "      <td>-0.406713</td>\n",
       "      <td>-0.565101</td>\n",
       "      <td>-0.436288</td>\n",
       "      <td>-0.815159</td>\n",
       "      <td>-0.475033</td>\n",
       "      <td>-1.423079</td>\n",
       "      <td>1.930205</td>\n",
       "      <td>-0.675943</td>\n",
       "      <td>-2.791493</td>\n",
       "      <td>1.833528</td>\n",
       "      <td>-0.275499</td>\n",
       "      <td>-0.365727</td>\n",
       "      <td>0</td>\n",
       "    </tr>\n",
       "  </tbody>\n",
       "</table>\n",
       "</div>"
      ],
      "text/plain": [
       "         country  child_mort   exports    health   imports    income  \\\n",
       "0    Afghanistan    1.287660 -0.409779 -0.563346 -0.430979 -0.805822   \n",
       "3         Angola    2.001787 -0.290501 -0.530767 -0.344915 -0.583289   \n",
       "17         Benin    1.803418 -0.402819 -0.569363 -0.428690 -0.794929   \n",
       "21      Botswana    0.352847 -0.258821 -0.294038 -0.226419 -0.199433   \n",
       "25  Burkina Faso    1.927399 -0.406713 -0.565101 -0.436288 -0.815159   \n",
       "\n",
       "    inflation  life_expec  total_fer      gdpp       PC1       PC2       PC3  \\\n",
       "0   -0.463617   -1.614237   1.897176 -0.677143 -2.644408  1.575935 -0.249473   \n",
       "3    0.182628   -1.175698   2.121770 -0.514720 -2.417752  2.141078  0.285958   \n",
       "17  -0.503428   -0.984541   1.593315 -0.665958 -2.501027  1.427697 -0.292876   \n",
       "21  -0.013647   -1.513036  -0.044895 -0.360863 -1.096249  0.490077  0.102767   \n",
       "25  -0.475033   -1.423079   1.930205 -0.675943 -2.791493  1.833528 -0.275499   \n",
       "\n",
       "         PC4  ClusterID  \n",
       "0  -0.261199          0  \n",
       "3  -0.367783          0  \n",
       "17 -0.288600          0  \n",
       "21  0.118712          0  \n",
       "25 -0.365727          0  "
      ]
     },
     "execution_count": 863,
     "metadata": {},
     "output_type": "execute_result"
    }
   ],
   "source": [
    "df5.head()"
   ]
  },
  {
   "cell_type": "code",
   "execution_count": 864,
   "metadata": {},
   "outputs": [
    {
     "data": {
      "text/html": [
       "<div>\n",
       "<style scoped>\n",
       "    .dataframe tbody tr th:only-of-type {\n",
       "        vertical-align: middle;\n",
       "    }\n",
       "\n",
       "    .dataframe tbody tr th {\n",
       "        vertical-align: top;\n",
       "    }\n",
       "\n",
       "    .dataframe thead th {\n",
       "        text-align: right;\n",
       "    }\n",
       "</style>\n",
       "<table border=\"1\" class=\"dataframe\">\n",
       "  <thead>\n",
       "    <tr style=\"text-align: right;\">\n",
       "      <th></th>\n",
       "      <th>country</th>\n",
       "      <th>child_mort</th>\n",
       "      <th>exports</th>\n",
       "      <th>health</th>\n",
       "      <th>imports</th>\n",
       "      <th>income</th>\n",
       "      <th>inflation</th>\n",
       "      <th>life_expec</th>\n",
       "      <th>total_fer</th>\n",
       "      <th>gdpp</th>\n",
       "      <th>PC1</th>\n",
       "      <th>PC2</th>\n",
       "      <th>PC3</th>\n",
       "      <th>PC4</th>\n",
       "      <th>ClusterID</th>\n",
       "    </tr>\n",
       "  </thead>\n",
       "  <tbody>\n",
       "    <tr>\n",
       "      <th>149</th>\n",
       "      <td>Timor-Leste</td>\n",
       "      <td>0.603287</td>\n",
       "      <td>-0.408449</td>\n",
       "      <td>-0.404358</td>\n",
       "      <td>-0.379826</td>\n",
       "      <td>-0.793372</td>\n",
       "      <td>0.325508</td>\n",
       "      <td>0.061206</td>\n",
       "      <td>2.168010</td>\n",
       "      <td>-0.510901</td>\n",
       "      <td>-1.651689</td>\n",
       "      <td>0.916764</td>\n",
       "      <td>0.432019</td>\n",
       "      <td>-0.317656</td>\n",
       "      <td>0</td>\n",
       "    </tr>\n",
       "    <tr>\n",
       "      <th>150</th>\n",
       "      <td>Togo</td>\n",
       "      <td>1.290139</td>\n",
       "      <td>-0.401941</td>\n",
       "      <td>-0.565891</td>\n",
       "      <td>-0.428850</td>\n",
       "      <td>-0.826571</td>\n",
       "      <td>-0.504259</td>\n",
       "      <td>-1.333123</td>\n",
       "      <td>1.269636</td>\n",
       "      <td>-0.680689</td>\n",
       "      <td>-2.384972</td>\n",
       "      <td>1.146577</td>\n",
       "      <td>-0.300756</td>\n",
       "      <td>-0.136465</td>\n",
       "      <td>0</td>\n",
       "    </tr>\n",
       "    <tr>\n",
       "      <th>155</th>\n",
       "      <td>Uganda</td>\n",
       "      <td>1.059536</td>\n",
       "      <td>-0.407195</td>\n",
       "      <td>-0.556855</td>\n",
       "      <td>-0.436290</td>\n",
       "      <td>-0.809453</td>\n",
       "      <td>-0.454108</td>\n",
       "      <td>-1.546770</td>\n",
       "      <td>2.115164</td>\n",
       "      <td>-0.674852</td>\n",
       "      <td>-2.612561</td>\n",
       "      <td>1.541214</td>\n",
       "      <td>-0.228951</td>\n",
       "      <td>-0.277747</td>\n",
       "      <td>0</td>\n",
       "    </tr>\n",
       "    <tr>\n",
       "      <th>165</th>\n",
       "      <td>Yemen</td>\n",
       "      <td>0.447072</td>\n",
       "      <td>-0.390991</td>\n",
       "      <td>-0.548945</td>\n",
       "      <td>-0.417225</td>\n",
       "      <td>-0.656948</td>\n",
       "      <td>-0.238765</td>\n",
       "      <td>-0.343599</td>\n",
       "      <td>1.137523</td>\n",
       "      <td>-0.635842</td>\n",
       "      <td>-1.608573</td>\n",
       "      <td>0.346818</td>\n",
       "      <td>0.000531</td>\n",
       "      <td>-0.010569</td>\n",
       "      <td>0</td>\n",
       "    </tr>\n",
       "    <tr>\n",
       "      <th>166</th>\n",
       "      <td>Zambia</td>\n",
       "      <td>1.111607</td>\n",
       "      <td>-0.382801</td>\n",
       "      <td>-0.538878</td>\n",
       "      <td>-0.417191</td>\n",
       "      <td>-0.719195</td>\n",
       "      <td>-0.330436</td>\n",
       "      <td>-2.086510</td>\n",
       "      <td>1.619738</td>\n",
       "      <td>-0.627658</td>\n",
       "      <td>-2.566169</td>\n",
       "      <td>1.610271</td>\n",
       "      <td>-0.141650</td>\n",
       "      <td>-0.181316</td>\n",
       "      <td>0</td>\n",
       "    </tr>\n",
       "  </tbody>\n",
       "</table>\n",
       "</div>"
      ],
      "text/plain": [
       "         country  child_mort   exports    health   imports    income  \\\n",
       "149  Timor-Leste    0.603287 -0.408449 -0.404358 -0.379826 -0.793372   \n",
       "150         Togo    1.290139 -0.401941 -0.565891 -0.428850 -0.826571   \n",
       "155       Uganda    1.059536 -0.407195 -0.556855 -0.436290 -0.809453   \n",
       "165        Yemen    0.447072 -0.390991 -0.548945 -0.417225 -0.656948   \n",
       "166       Zambia    1.111607 -0.382801 -0.538878 -0.417191 -0.719195   \n",
       "\n",
       "     inflation  life_expec  total_fer      gdpp       PC1       PC2       PC3  \\\n",
       "149   0.325508    0.061206   2.168010 -0.510901 -1.651689  0.916764  0.432019   \n",
       "150  -0.504259   -1.333123   1.269636 -0.680689 -2.384972  1.146577 -0.300756   \n",
       "155  -0.454108   -1.546770   2.115164 -0.674852 -2.612561  1.541214 -0.228951   \n",
       "165  -0.238765   -0.343599   1.137523 -0.635842 -1.608573  0.346818  0.000531   \n",
       "166  -0.330436   -2.086510   1.619738 -0.627658 -2.566169  1.610271 -0.141650   \n",
       "\n",
       "          PC4  ClusterID  \n",
       "149 -0.317656          0  \n",
       "150 -0.136465          0  \n",
       "155 -0.277747          0  \n",
       "165 -0.010569          0  \n",
       "166 -0.181316          0  "
      ]
     },
     "execution_count": 864,
     "metadata": {},
     "output_type": "execute_result"
    }
   ],
   "source": [
    "df5.tail()"
   ]
  },
  {
   "cell_type": "markdown",
   "metadata": {},
   "source": [
    "All these countries require help. So the countries obtained are fairly good."
   ]
  },
  {
   "cell_type": "code",
   "execution_count": 865,
   "metadata": {},
   "outputs": [
    {
     "data": {
      "text/plain": [
       "{'Afghanistan',\n",
       " 'Angola',\n",
       " 'Benin',\n",
       " 'Botswana',\n",
       " 'Burkina Faso',\n",
       " 'Burundi',\n",
       " 'Cameroon',\n",
       " 'Central African Republic',\n",
       " 'Chad',\n",
       " 'Comoros',\n",
       " 'Congo, Dem. Rep.',\n",
       " 'Congo, Rep.',\n",
       " \"Cote d'Ivoire\",\n",
       " 'Eritrea',\n",
       " 'Gabon',\n",
       " 'Gambia',\n",
       " 'Ghana',\n",
       " 'Guinea',\n",
       " 'Guinea-Bissau',\n",
       " 'Haiti',\n",
       " 'Kenya',\n",
       " 'Kiribati',\n",
       " 'Lao',\n",
       " 'Lesotho',\n",
       " 'Liberia',\n",
       " 'Madagascar',\n",
       " 'Malawi',\n",
       " 'Mali',\n",
       " 'Mauritania',\n",
       " 'Mozambique',\n",
       " 'Namibia',\n",
       " 'Niger',\n",
       " 'Nigeria',\n",
       " 'Pakistan',\n",
       " 'Rwanda',\n",
       " 'Senegal',\n",
       " 'Sierra Leone',\n",
       " 'Solomon Islands',\n",
       " 'South Africa',\n",
       " 'Sudan',\n",
       " 'Tanzania',\n",
       " 'Timor-Leste',\n",
       " 'Togo',\n",
       " 'Uganda',\n",
       " 'Yemen',\n",
       " 'Zambia'}"
      ]
     },
     "execution_count": 865,
     "metadata": {},
     "output_type": "execute_result"
    }
   ],
   "source": [
    "country5=set(df5['country'])\n",
    "country5"
   ]
  },
  {
   "cell_type": "markdown",
   "metadata": {},
   "source": [
    "Analyse the countries obtained with k=4 and k=5."
   ]
  },
  {
   "cell_type": "code",
   "execution_count": 866,
   "metadata": {},
   "outputs": [],
   "source": [
    "common=country4.intersection(country5)"
   ]
  },
  {
   "cell_type": "code",
   "execution_count": 867,
   "metadata": {},
   "outputs": [
    {
     "data": {
      "text/plain": [
       "46"
      ]
     },
     "execution_count": 867,
     "metadata": {},
     "output_type": "execute_result"
    }
   ],
   "source": [
    "len(common)"
   ]
  },
  {
   "cell_type": "markdown",
   "metadata": {},
   "source": [
    "country not present in cluster with k=5 but present in k=4"
   ]
  },
  {
   "cell_type": "code",
   "execution_count": 868,
   "metadata": {},
   "outputs": [
    {
     "data": {
      "text/plain": [
       "{'Equatorial Guinea'}"
      ]
     },
     "execution_count": 868,
     "metadata": {},
     "output_type": "execute_result"
    }
   ],
   "source": [
    "country4-common"
   ]
  },
  {
   "cell_type": "code",
   "execution_count": 869,
   "metadata": {},
   "outputs": [
    {
     "data": {
      "text/html": [
       "<div>\n",
       "<style scoped>\n",
       "    .dataframe tbody tr th:only-of-type {\n",
       "        vertical-align: middle;\n",
       "    }\n",
       "\n",
       "    .dataframe tbody tr th {\n",
       "        vertical-align: top;\n",
       "    }\n",
       "\n",
       "    .dataframe thead th {\n",
       "        text-align: right;\n",
       "    }\n",
       "</style>\n",
       "<table border=\"1\" class=\"dataframe\">\n",
       "  <thead>\n",
       "    <tr style=\"text-align: right;\">\n",
       "      <th></th>\n",
       "      <th>country</th>\n",
       "      <th>child_mort</th>\n",
       "      <th>exports</th>\n",
       "      <th>health</th>\n",
       "      <th>imports</th>\n",
       "      <th>income</th>\n",
       "      <th>inflation</th>\n",
       "      <th>life_expec</th>\n",
       "      <th>total_fer</th>\n",
       "      <th>gdpp</th>\n",
       "      <th>PC1</th>\n",
       "      <th>PC2</th>\n",
       "      <th>PC3</th>\n",
       "      <th>PC4</th>\n",
       "      <th>ClusterID</th>\n",
       "    </tr>\n",
       "  </thead>\n",
       "  <tbody>\n",
       "    <tr>\n",
       "      <th>49</th>\n",
       "      <td>Equatorial Guinea</td>\n",
       "      <td>1.803418</td>\n",
       "      <td>0.403429</td>\n",
       "      <td>-0.161348</td>\n",
       "      <td>0.236802</td>\n",
       "      <td>0.858764</td>\n",
       "      <td>3.216612</td>\n",
       "      <td>-1.085742</td>\n",
       "      <td>1.49423</td>\n",
       "      <td>0.225648</td>\n",
       "      <td>-0.117133</td>\n",
       "      <td>3.153742</td>\n",
       "      <td>2.79585</td>\n",
       "      <td>-0.005877</td>\n",
       "      <td>4</td>\n",
       "    </tr>\n",
       "  </tbody>\n",
       "</table>\n",
       "</div>"
      ],
      "text/plain": [
       "              country  child_mort   exports    health   imports    income  \\\n",
       "49  Equatorial Guinea    1.803418  0.403429 -0.161348  0.236802  0.858764   \n",
       "\n",
       "    inflation  life_expec  total_fer      gdpp       PC1       PC2      PC3  \\\n",
       "49   3.216612   -1.085742    1.49423  0.225648 -0.117133  3.153742  2.79585   \n",
       "\n",
       "         PC4  ClusterID  \n",
       "49 -0.005877          4  "
      ]
     },
     "execution_count": 869,
     "metadata": {},
     "output_type": "execute_result"
    }
   ],
   "source": [
    "final_df[(final_df.country == \"Equatorial Guinea\")]"
   ]
  },
  {
   "cell_type": "markdown",
   "metadata": {},
   "source": [
    "The results of clustering with k=5 and k=4 are more or less the same. There is only one country (Equitorial Guinea) which is extra in k=4. On analysis it is found that thie scountry does not require the aid as its income and gdpp is much better than the countries in the same cluster. So we take country5 as the set of countries."
   ]
  },
  {
   "cell_type": "markdown",
   "metadata": {},
   "source": [
    "## Hierarchichal Clustering"
   ]
  },
  {
   "cell_type": "code",
   "execution_count": 870,
   "metadata": {},
   "outputs": [
    {
     "data": {
      "image/png": "[encoded data removed]",
      "text/plain": [
       "<Figure size 432x288 with 1 Axes>"
      ]
     },
     "metadata": {
      "needs_background": "light"
     },
     "output_type": "display_data"
    }
   ],
   "source": [
    "mergings = linkage(pcs_df, method = \"single\", metric='euclidean')\n",
    "dendrogram(mergings)\n",
    "plt.show()"
   ]
  },
  {
   "cell_type": "markdown",
   "metadata": {},
   "source": [
    "The dendrogram with single linkage is not very clear. So let us try complete linkage"
   ]
  },
  {
   "cell_type": "code",
   "execution_count": 871,
   "metadata": {},
   "outputs": [
    {
     "data": {
      "image/png": "[encoded data removed]",
      "text/plain": [
       "<Figure size 1080x720 with 1 Axes>"
      ]
     },
     "metadata": {
      "needs_background": "light"
     },
     "output_type": "display_data"
    }
   ],
   "source": [
    "plt.figure(figsize=(15,10))\n",
    "mergings = linkage(pcs_df, method = \"complete\", metric='euclidean')\n",
    "dendrogram(mergings)\n",
    "plt.show()"
   ]
  },
  {
   "cell_type": "markdown",
   "metadata": {},
   "source": [
    "The dendrogram can be cut at 3 or 4. 3 will be too less So taking no of clusters as 4"
   ]
  },
  {
   "cell_type": "code",
   "execution_count": 872,
   "metadata": {},
   "outputs": [],
   "source": [
    "clusterCut = pd.Series(cut_tree(mergings, n_clusters = 4).reshape(-1,))"
   ]
  },
  {
   "cell_type": "code",
   "execution_count": 873,
   "metadata": {},
   "outputs": [],
   "source": [
    "#Add the cluster Id to the df\n",
    "df_hc = pd.concat([f_df, clusterCut.rename('ClusterID')], axis=1)"
   ]
  },
  {
   "cell_type": "code",
   "execution_count": 874,
   "metadata": {},
   "outputs": [
    {
     "data": {
      "text/html": [
       "<div>\n",
       "<style scoped>\n",
       "    .dataframe tbody tr th:only-of-type {\n",
       "        vertical-align: middle;\n",
       "    }\n",
       "\n",
       "    .dataframe tbody tr th {\n",
       "        vertical-align: top;\n",
       "    }\n",
       "\n",
       "    .dataframe thead th {\n",
       "        text-align: right;\n",
       "    }\n",
       "</style>\n",
       "<table border=\"1\" class=\"dataframe\">\n",
       "  <thead>\n",
       "    <tr style=\"text-align: right;\">\n",
       "      <th></th>\n",
       "      <th>country</th>\n",
       "      <th>child_mort</th>\n",
       "      <th>exports</th>\n",
       "      <th>health</th>\n",
       "      <th>imports</th>\n",
       "      <th>income</th>\n",
       "      <th>inflation</th>\n",
       "      <th>life_expec</th>\n",
       "      <th>total_fer</th>\n",
       "      <th>gdpp</th>\n",
       "      <th>PC1</th>\n",
       "      <th>PC2</th>\n",
       "      <th>PC3</th>\n",
       "      <th>PC4</th>\n",
       "      <th>ClusterID</th>\n",
       "    </tr>\n",
       "  </thead>\n",
       "  <tbody>\n",
       "    <tr>\n",
       "      <th>0</th>\n",
       "      <td>Afghanistan</td>\n",
       "      <td>1.287660</td>\n",
       "      <td>-0.409779</td>\n",
       "      <td>-0.563346</td>\n",
       "      <td>-0.430979</td>\n",
       "      <td>-0.805822</td>\n",
       "      <td>-0.463617</td>\n",
       "      <td>-1.614237</td>\n",
       "      <td>1.897176</td>\n",
       "      <td>-0.677143</td>\n",
       "      <td>-2.644408</td>\n",
       "      <td>1.575935</td>\n",
       "      <td>-0.249473</td>\n",
       "      <td>-0.261199</td>\n",
       "      <td>0</td>\n",
       "    </tr>\n",
       "    <tr>\n",
       "      <th>1</th>\n",
       "      <td>Albania</td>\n",
       "      <td>-0.537333</td>\n",
       "      <td>-0.349141</td>\n",
       "      <td>-0.437901</td>\n",
       "      <td>-0.312737</td>\n",
       "      <td>-0.374243</td>\n",
       "      <td>-0.348601</td>\n",
       "      <td>0.645924</td>\n",
       "      <td>-0.857394</td>\n",
       "      <td>-0.484167</td>\n",
       "      <td>-0.163437</td>\n",
       "      <td>-1.435221</td>\n",
       "      <td>-0.092994</td>\n",
       "      <td>0.416566</td>\n",
       "      <td>1</td>\n",
       "    </tr>\n",
       "    <tr>\n",
       "      <th>2</th>\n",
       "      <td>Algeria</td>\n",
       "      <td>-0.272015</td>\n",
       "      <td>-0.317571</td>\n",
       "      <td>-0.483372</td>\n",
       "      <td>-0.352660</td>\n",
       "      <td>-0.220182</td>\n",
       "      <td>0.119046</td>\n",
       "      <td>0.668413</td>\n",
       "      <td>-0.038289</td>\n",
       "      <td>-0.463980</td>\n",
       "      <td>-0.330999</td>\n",
       "      <td>-0.789770</td>\n",
       "      <td>0.373888</td>\n",
       "      <td>0.265957</td>\n",
       "      <td>1</td>\n",
       "    </tr>\n",
       "    <tr>\n",
       "      <th>3</th>\n",
       "      <td>Angola</td>\n",
       "      <td>2.001787</td>\n",
       "      <td>-0.290501</td>\n",
       "      <td>-0.530767</td>\n",
       "      <td>-0.344915</td>\n",
       "      <td>-0.583289</td>\n",
       "      <td>0.182628</td>\n",
       "      <td>-1.175698</td>\n",
       "      <td>2.121770</td>\n",
       "      <td>-0.514720</td>\n",
       "      <td>-2.417752</td>\n",
       "      <td>2.141078</td>\n",
       "      <td>0.285958</td>\n",
       "      <td>-0.367783</td>\n",
       "      <td>0</td>\n",
       "    </tr>\n",
       "    <tr>\n",
       "      <th>4</th>\n",
       "      <td>Antigua and Barbuda</td>\n",
       "      <td>-0.693548</td>\n",
       "      <td>-0.104019</td>\n",
       "      <td>-0.178234</td>\n",
       "      <td>0.040613</td>\n",
       "      <td>0.101427</td>\n",
       "      <td>-0.355568</td>\n",
       "      <td>0.702147</td>\n",
       "      <td>-0.540321</td>\n",
       "      <td>-0.041692</td>\n",
       "      <td>0.469776</td>\n",
       "      <td>-1.021416</td>\n",
       "      <td>-0.205063</td>\n",
       "      <td>0.260684</td>\n",
       "      <td>1</td>\n",
       "    </tr>\n",
       "  </tbody>\n",
       "</table>\n",
       "</div>"
      ],
      "text/plain": [
       "               country  child_mort   exports    health   imports    income  \\\n",
       "0          Afghanistan    1.287660 -0.409779 -0.563346 -0.430979 -0.805822   \n",
       "1              Albania   -0.537333 -0.349141 -0.437901 -0.312737 -0.374243   \n",
       "2              Algeria   -0.272015 -0.317571 -0.483372 -0.352660 -0.220182   \n",
       "3               Angola    2.001787 -0.290501 -0.530767 -0.344915 -0.583289   \n",
       "4  Antigua and Barbuda   -0.693548 -0.104019 -0.178234  0.040613  0.101427   \n",
       "\n",
       "   inflation  life_expec  total_fer      gdpp       PC1       PC2       PC3  \\\n",
       "0  -0.463617   -1.614237   1.897176 -0.677143 -2.644408  1.575935 -0.249473   \n",
       "1  -0.348601    0.645924  -0.857394 -0.484167 -0.163437 -1.435221 -0.092994   \n",
       "2   0.119046    0.668413  -0.038289 -0.463980 -0.330999 -0.789770  0.373888   \n",
       "3   0.182628   -1.175698   2.121770 -0.514720 -2.417752  2.141078  0.285958   \n",
       "4  -0.355568    0.702147  -0.540321 -0.041692  0.469776 -1.021416 -0.205063   \n",
       "\n",
       "        PC4  ClusterID  \n",
       "0 -0.261199          0  \n",
       "1  0.416566          1  \n",
       "2  0.265957          1  \n",
       "3 -0.367783          0  \n",
       "4  0.260684          1  "
      ]
     },
     "execution_count": 874,
     "metadata": {},
     "output_type": "execute_result"
    }
   ],
   "source": [
    "df_hc.head()"
   ]
  },
  {
   "cell_type": "code",
   "execution_count": 875,
   "metadata": {},
   "outputs": [
    {
     "data": {
      "image/png": "[encoded data removed]",
      "text/plain": [
       "<Figure size 576x432 with 1 Axes>"
      ]
     },
     "metadata": {
      "needs_background": "light"
     },
     "output_type": "display_data"
    }
   ],
   "source": [
    "#Analyse the scatter plot\n",
    "%matplotlib inline\n",
    "fig = plt.figure(figsize = (8,6))\n",
    "sns.scatterplot(df_hc['PC1'], df_hc['PC2'], hue=df_hc['ClusterID'], palette=\"Dark2_r\")\n",
    "plt.xlabel('Principal Component 1')\n",
    "plt.ylabel('Principal Component 2')\n",
    "plt.tight_layout()\n",
    "plt.show()"
   ]
  },
  {
   "cell_type": "markdown",
   "metadata": {},
   "source": [
    "Cluster 0 seems to be our choice with low PC1 and high PC2"
   ]
  },
  {
   "cell_type": "code",
   "execution_count": 876,
   "metadata": {},
   "outputs": [
    {
     "data": {
      "text/plain": [
       "22"
      ]
     },
     "execution_count": 876,
     "metadata": {},
     "output_type": "execute_result"
    }
   ],
   "source": [
    "len(final_df[(df_hc['ClusterID']==0)])"
   ]
  },
  {
   "cell_type": "code",
   "execution_count": 877,
   "metadata": {},
   "outputs": [
    {
     "data": {
      "text/plain": [
       "127"
      ]
     },
     "execution_count": 877,
     "metadata": {},
     "output_type": "execute_result"
    }
   ],
   "source": [
    "len(final_df[(df_hc['ClusterID']==1)])"
   ]
  },
  {
   "cell_type": "code",
   "execution_count": 878,
   "metadata": {},
   "outputs": [
    {
     "data": {
      "text/plain": [
       "17"
      ]
     },
     "execution_count": 878,
     "metadata": {},
     "output_type": "execute_result"
    }
   ],
   "source": [
    "len(final_df[(df_hc['ClusterID']==2)])"
   ]
  },
  {
   "cell_type": "code",
   "execution_count": 879,
   "metadata": {},
   "outputs": [
    {
     "data": {
      "text/plain": [
       "1"
      ]
     },
     "execution_count": 879,
     "metadata": {},
     "output_type": "execute_result"
    }
   ],
   "source": [
    "len(final_df[(df_hc['ClusterID']==3)])"
   ]
  },
  {
   "cell_type": "code",
   "execution_count": 880,
   "metadata": {},
   "outputs": [
    {
     "data": {
      "text/html": [
       "<div>\n",
       "<style scoped>\n",
       "    .dataframe tbody tr th:only-of-type {\n",
       "        vertical-align: middle;\n",
       "    }\n",
       "\n",
       "    .dataframe tbody tr th {\n",
       "        vertical-align: top;\n",
       "    }\n",
       "\n",
       "    .dataframe thead th {\n",
       "        text-align: right;\n",
       "    }\n",
       "</style>\n",
       "<table border=\"1\" class=\"dataframe\">\n",
       "  <thead>\n",
       "    <tr style=\"text-align: right;\">\n",
       "      <th></th>\n",
       "      <th>country</th>\n",
       "      <th>child_mort</th>\n",
       "      <th>exports</th>\n",
       "      <th>health</th>\n",
       "      <th>imports</th>\n",
       "      <th>income</th>\n",
       "      <th>inflation</th>\n",
       "      <th>life_expec</th>\n",
       "      <th>total_fer</th>\n",
       "      <th>gdpp</th>\n",
       "      <th>PC1</th>\n",
       "      <th>PC2</th>\n",
       "      <th>PC3</th>\n",
       "      <th>PC4</th>\n",
       "      <th>ClusterID</th>\n",
       "    </tr>\n",
       "  </thead>\n",
       "  <tbody>\n",
       "    <tr>\n",
       "      <th>91</th>\n",
       "      <td>Luxembourg</td>\n",
       "      <td>-0.879519</td>\n",
       "      <td>9.810309</td>\n",
       "      <td>3.94234</td>\n",
       "      <td>9.687546</td>\n",
       "      <td>3.867364</td>\n",
       "      <td>2.816798</td>\n",
       "      <td>1.208153</td>\n",
       "      <td>-0.870606</td>\n",
       "      <td>5.021405</td>\n",
       "      <td>13.092921</td>\n",
       "      <td>7.644253</td>\n",
       "      <td>-2.848881</td>\n",
       "      <td>4.08324</td>\n",
       "      <td>2</td>\n",
       "    </tr>\n",
       "  </tbody>\n",
       "</table>\n",
       "</div>"
      ],
      "text/plain": [
       "       country  child_mort   exports   health   imports    income  inflation  \\\n",
       "91  Luxembourg   -0.879519  9.810309  3.94234  9.687546  3.867364   2.816798   \n",
       "\n",
       "    life_expec  total_fer      gdpp        PC1       PC2       PC3      PC4  \\\n",
       "91    1.208153  -0.870606  5.021405  13.092921  7.644253 -2.848881  4.08324   \n",
       "\n",
       "    ClusterID  \n",
       "91          2  "
      ]
     },
     "execution_count": 880,
     "metadata": {},
     "output_type": "execute_result"
    }
   ],
   "source": [
    "final_df[(df_hc['ClusterID']==3)]"
   ]
  },
  {
   "cell_type": "markdown",
   "metadata": {},
   "source": [
    "Luxembourg is an outlier and has been clustered seperately."
   ]
  },
  {
   "cell_type": "markdown",
   "metadata": {},
   "source": [
    "Take the mean of the PCs and some original features, cluster wise"
   ]
  },
  {
   "cell_type": "code",
   "execution_count": 881,
   "metadata": {},
   "outputs": [],
   "source": [
    "hc_clust_PC1 = pd.DataFrame(df_hc.groupby([\"ClusterID\"]).PC1.mean())\n",
    "hc_clust_PC2 = pd.DataFrame(df_hc.groupby([\"ClusterID\"]).PC2.mean())\n",
    "hc_clust_PC3 = pd.DataFrame(df_hc.groupby([\"ClusterID\"]).PC3.mean())\n",
    "hc_clust_PC4 = pd.DataFrame(df_hc.groupby([\"ClusterID\"]).PC4.mean())\n",
    "hc_clust_child_mort = pd.DataFrame(df_hc.groupby([\"ClusterID\"]).child_mort.mean())\n",
    "hc_clust_health = pd.DataFrame(df_hc.groupby([\"ClusterID\"]).health.mean())\n",
    "hc_clust_total_fer =  pd.DataFrame(df_hc.groupby([\"ClusterID\"]).total_fer.mean())\n",
    "hc_clust_income = pd.DataFrame(df_hc.groupby([\"ClusterID\"]).income.mean())\n",
    "hc_clust_life_expec = pd.DataFrame(df_hc.groupby([\"ClusterID\"]).life_expec.mean())"
   ]
  },
  {
   "cell_type": "code",
   "execution_count": 882,
   "metadata": {},
   "outputs": [
    {
     "data": {
      "text/html": [
       "<div>\n",
       "<style scoped>\n",
       "    .dataframe tbody tr th:only-of-type {\n",
       "        vertical-align: middle;\n",
       "    }\n",
       "\n",
       "    .dataframe tbody tr th {\n",
       "        vertical-align: top;\n",
       "    }\n",
       "\n",
       "    .dataframe thead th {\n",
       "        text-align: right;\n",
       "    }\n",
       "</style>\n",
       "<table border=\"1\" class=\"dataframe\">\n",
       "  <thead>\n",
       "    <tr style=\"text-align: right;\">\n",
       "      <th></th>\n",
       "      <th>ClusterID</th>\n",
       "      <th>PC1_mean</th>\n",
       "      <th>PC2_mean</th>\n",
       "      <th>PC3_mean</th>\n",
       "      <th>PC4_mean</th>\n",
       "    </tr>\n",
       "  </thead>\n",
       "  <tbody>\n",
       "    <tr>\n",
       "      <th>0</th>\n",
       "      <td>0</td>\n",
       "      <td>-2.805182</td>\n",
       "      <td>1.942641</td>\n",
       "      <td>-0.175192</td>\n",
       "      <td>-0.319168</td>\n",
       "    </tr>\n",
       "    <tr>\n",
       "      <th>1</th>\n",
       "      <td>1</td>\n",
       "      <td>-0.178107</td>\n",
       "      <td>-0.469262</td>\n",
       "      <td>0.110149</td>\n",
       "      <td>0.163919</td>\n",
       "    </tr>\n",
       "    <tr>\n",
       "      <th>2</th>\n",
       "      <td>2</td>\n",
       "      <td>4.190628</td>\n",
       "      <td>0.541994</td>\n",
       "      <td>-0.428581</td>\n",
       "      <td>-1.051720</td>\n",
       "    </tr>\n",
       "    <tr>\n",
       "      <th>3</th>\n",
       "      <td>3</td>\n",
       "      <td>13.092921</td>\n",
       "      <td>7.644253</td>\n",
       "      <td>-2.848881</td>\n",
       "      <td>4.083240</td>\n",
       "    </tr>\n",
       "  </tbody>\n",
       "</table>\n",
       "</div>"
      ],
      "text/plain": [
       "   ClusterID   PC1_mean  PC2_mean  PC3_mean  PC4_mean\n",
       "0          0  -2.805182  1.942641 -0.175192 -0.319168\n",
       "1          1  -0.178107 -0.469262  0.110149  0.163919\n",
       "2          2   4.190628  0.541994 -0.428581 -1.051720\n",
       "3          3  13.092921  7.644253 -2.848881  4.083240"
      ]
     },
     "execution_count": 882,
     "metadata": {},
     "output_type": "execute_result"
    }
   ],
   "source": [
    "df3 = pd.concat([pd.Series([0,1,2,3]), hc_clust_PC1, hc_clust_PC2,hc_clust_PC3,hc_clust_PC4], axis=1)\n",
    "df3.columns = [\"ClusterID\", \"PC1_mean\", \"PC2_mean\",\"PC3_mean\",\"PC4_mean\"]\n",
    "df3"
   ]
  },
  {
   "cell_type": "code",
   "execution_count": 883,
   "metadata": {},
   "outputs": [
    {
     "data": {
      "text/html": [
       "<div>\n",
       "<style scoped>\n",
       "    .dataframe tbody tr th:only-of-type {\n",
       "        vertical-align: middle;\n",
       "    }\n",
       "\n",
       "    .dataframe tbody tr th {\n",
       "        vertical-align: top;\n",
       "    }\n",
       "\n",
       "    .dataframe thead th {\n",
       "        text-align: right;\n",
       "    }\n",
       "</style>\n",
       "<table border=\"1\" class=\"dataframe\">\n",
       "  <thead>\n",
       "    <tr style=\"text-align: right;\">\n",
       "      <th></th>\n",
       "      <th>ClusterID</th>\n",
       "      <th>child_mort_mean</th>\n",
       "      <th>health_mean</th>\n",
       "      <th>total_fer_mean</th>\n",
       "      <th>income_mean</th>\n",
       "      <th>life_expec_mean</th>\n",
       "    </tr>\n",
       "  </thead>\n",
       "  <tbody>\n",
       "    <tr>\n",
       "      <th>0</th>\n",
       "      <td>0</td>\n",
       "      <td>1.981612</td>\n",
       "      <td>-0.558224</td>\n",
       "      <td>1.737139</td>\n",
       "      <td>-0.788933</td>\n",
       "      <td>-1.743039</td>\n",
       "    </tr>\n",
       "    <tr>\n",
       "      <th>1</th>\n",
       "      <td>1</td>\n",
       "      <td>-0.224121</td>\n",
       "      <td>-0.241889</td>\n",
       "      <td>-0.192873</td>\n",
       "      <td>-0.127923</td>\n",
       "      <td>0.138324</td>\n",
       "    </tr>\n",
       "    <tr>\n",
       "      <th>2</th>\n",
       "      <td>2</td>\n",
       "      <td>-0.838387</td>\n",
       "      <td>2.297561</td>\n",
       "      <td>-0.755977</td>\n",
       "      <td>1.749139</td>\n",
       "      <td>1.151269</td>\n",
       "    </tr>\n",
       "    <tr>\n",
       "      <th>3</th>\n",
       "      <td>3</td>\n",
       "      <td>-0.879519</td>\n",
       "      <td>3.942340</td>\n",
       "      <td>-0.870606</td>\n",
       "      <td>3.867364</td>\n",
       "      <td>1.208153</td>\n",
       "    </tr>\n",
       "  </tbody>\n",
       "</table>\n",
       "</div>"
      ],
      "text/plain": [
       "   ClusterID  child_mort_mean  health_mean  total_fer_mean  income_mean  \\\n",
       "0          0         1.981612    -0.558224        1.737139    -0.788933   \n",
       "1          1        -0.224121    -0.241889       -0.192873    -0.127923   \n",
       "2          2        -0.838387     2.297561       -0.755977     1.749139   \n",
       "3          3        -0.879519     3.942340       -0.870606     3.867364   \n",
       "\n",
       "   life_expec_mean  \n",
       "0        -1.743039  \n",
       "1         0.138324  \n",
       "2         1.151269  \n",
       "3         1.208153  "
      ]
     },
     "execution_count": 883,
     "metadata": {},
     "output_type": "execute_result"
    }
   ],
   "source": [
    "df4 = pd.concat([pd.Series([0,1,2,3]),hc_clust_child_mort,hc_clust_health,hc_clust_total_fer,hc_clust_income,hc_clust_life_expec], axis=1)\n",
    "df4.columns = [\"ClusterID\",\"child_mort_mean\",\"health_mean\",\"total_fer_mean\",\"income_mean\",\"life_expec_mean\"]\n",
    "df4"
   ]
  },
  {
   "cell_type": "markdown",
   "metadata": {},
   "source": [
    "#### Plot the various mean values to choose the Cluster"
   ]
  },
  {
   "cell_type": "code",
   "execution_count": 884,
   "metadata": {},
   "outputs": [
    {
     "data": {
      "text/plain": [
       "<matplotlib.axes._subplots.AxesSubplot at 0xc80159b6d8>"
      ]
     },
     "execution_count": 884,
     "metadata": {},
     "output_type": "execute_result"
    },
    {
     "data": {
      "image/png": "[encoded data removed]",
      "text/plain": [
       "<Figure size 432x288 with 1 Axes>"
      ]
     },
     "metadata": {
      "needs_background": "light"
     },
     "output_type": "display_data"
    }
   ],
   "source": [
    "sns.barplot(x=df3.ClusterID, y=df3.PC1_mean)"
   ]
  },
  {
   "cell_type": "code",
   "execution_count": 885,
   "metadata": {},
   "outputs": [
    {
     "data": {
      "text/plain": [
       "<matplotlib.axes._subplots.AxesSubplot at 0xc8014941d0>"
      ]
     },
     "execution_count": 885,
     "metadata": {},
     "output_type": "execute_result"
    },
    {
     "data": {
      "image/png": "[encoded data removed]",
      "text/plain": [
       "<Figure size 432x288 with 1 Axes>"
      ]
     },
     "metadata": {
      "needs_background": "light"
     },
     "output_type": "display_data"
    }
   ],
   "source": [
    "sns.barplot(x=df3.ClusterID, y=df3.PC2_mean)"
   ]
  },
  {
   "cell_type": "code",
   "execution_count": 886,
   "metadata": {},
   "outputs": [
    {
     "data": {
      "text/plain": [
       "<matplotlib.axes._subplots.AxesSubplot at 0xc800fe34a8>"
      ]
     },
     "execution_count": 886,
     "metadata": {},
     "output_type": "execute_result"
    },
    {
     "data": {
      "image/png": "[encoded data removed]",
      "text/plain": [
       "<Figure size 432x288 with 1 Axes>"
      ]
     },
     "metadata": {
      "needs_background": "light"
     },
     "output_type": "display_data"
    }
   ],
   "source": [
    "sns.barplot(x=df3.ClusterID, y=df3.PC3_mean)"
   ]
  },
  {
   "cell_type": "code",
   "execution_count": 887,
   "metadata": {},
   "outputs": [
    {
     "data": {
      "text/plain": [
       "<matplotlib.axes._subplots.AxesSubplot at 0xc87dc736d8>"
      ]
     },
     "execution_count": 887,
     "metadata": {},
     "output_type": "execute_result"
    },
    {
     "data": {
      "image/png": "[encoded data removed]",
      "text/plain": [
       "<Figure size 432x288 with 1 Axes>"
      ]
     },
     "metadata": {
      "needs_background": "light"
     },
     "output_type": "display_data"
    }
   ],
   "source": [
    "sns.barplot(x=df3.ClusterID, y=df3.PC4_mean)"
   ]
  },
  {
   "cell_type": "code",
   "execution_count": 888,
   "metadata": {},
   "outputs": [
    {
     "data": {
      "text/plain": [
       "<matplotlib.axes._subplots.AxesSubplot at 0xc87f8b70b8>"
      ]
     },
     "execution_count": 888,
     "metadata": {},
     "output_type": "execute_result"
    },
    {
     "data": {
      "image/png": "[encoded data removed]",
      "text/plain": [
       "<Figure size 432x288 with 1 Axes>"
      ]
     },
     "metadata": {
      "needs_background": "light"
     },
     "output_type": "display_data"
    }
   ],
   "source": [
    "sns.barplot(x=df4.ClusterID, y=df4.child_mort_mean)"
   ]
  },
  {
   "cell_type": "code",
   "execution_count": 889,
   "metadata": {},
   "outputs": [
    {
     "data": {
      "text/plain": [
       "<matplotlib.axes._subplots.AxesSubplot at 0xc87dcd10f0>"
      ]
     },
     "execution_count": 889,
     "metadata": {},
     "output_type": "execute_result"
    },
    {
     "data": {
      "image/png": "[encoded data removed]",
      "text/plain": [
       "<Figure size 432x288 with 1 Axes>"
      ]
     },
     "metadata": {
      "needs_background": "light"
     },
     "output_type": "display_data"
    }
   ],
   "source": [
    "sns.barplot(x=df4.ClusterID, y=df4.health_mean)"
   ]
  },
  {
   "cell_type": "code",
   "execution_count": 890,
   "metadata": {},
   "outputs": [
    {
     "data": {
      "text/plain": [
       "<matplotlib.axes._subplots.AxesSubplot at 0xc8015f04a8>"
      ]
     },
     "execution_count": 890,
     "metadata": {},
     "output_type": "execute_result"
    },
    {
     "data": {
      "image/png": "[encoded data removed]",
      "text/plain": [
       "<Figure size 432x288 with 1 Axes>"
      ]
     },
     "metadata": {
      "needs_background": "light"
     },
     "output_type": "display_data"
    }
   ],
   "source": [
    "sns.barplot(x=df4.ClusterID, y=df4.total_fer_mean)"
   ]
  },
  {
   "cell_type": "code",
   "execution_count": 891,
   "metadata": {},
   "outputs": [
    {
     "data": {
      "text/plain": [
       "<matplotlib.axes._subplots.AxesSubplot at 0xc80161a128>"
      ]
     },
     "execution_count": 891,
     "metadata": {},
     "output_type": "execute_result"
    },
    {
     "data": {
      "image/png": "[encoded data removed]",
      "text/plain": [
       "<Figure size 432x288 with 1 Axes>"
      ]
     },
     "metadata": {
      "needs_background": "light"
     },
     "output_type": "display_data"
    }
   ],
   "source": [
    "sns.barplot(x=df4.ClusterID, y=df4.income_mean)"
   ]
  },
  {
   "cell_type": "code",
   "execution_count": 892,
   "metadata": {},
   "outputs": [
    {
     "data": {
      "text/plain": [
       "<matplotlib.axes._subplots.AxesSubplot at 0xc8044de748>"
      ]
     },
     "execution_count": 892,
     "metadata": {},
     "output_type": "execute_result"
    },
    {
     "data": {
      "image/png": "[encoded data removed]",
      "text/plain": [
       "<Figure size 432x288 with 1 Axes>"
      ]
     },
     "metadata": {
      "needs_background": "light"
     },
     "output_type": "display_data"
    }
   ],
   "source": [
    "sns.barplot(x=df4.ClusterID, y=df4.life_expec_mean)"
   ]
  },
  {
   "cell_type": "markdown",
   "metadata": {},
   "source": [
    "Cluster 0 has high child_mort and total_fert and low income, health and life_expect. So cluster 0 is most suitable.\n"
   ]
  },
  {
   "cell_type": "code",
   "execution_count": 893,
   "metadata": {},
   "outputs": [],
   "source": [
    "df_help = df_hc[(df_hc.ClusterID==0)]"
   ]
  },
  {
   "cell_type": "code",
   "execution_count": 894,
   "metadata": {},
   "outputs": [
    {
     "data": {
      "text/plain": [
       "22"
      ]
     },
     "execution_count": 894,
     "metadata": {},
     "output_type": "execute_result"
    }
   ],
   "source": [
    "len(df_help)"
   ]
  },
  {
   "cell_type": "code",
   "execution_count": 895,
   "metadata": {},
   "outputs": [],
   "source": [
    "countryhc = set(df_help['country'])"
   ]
  },
  {
   "cell_type": "code",
   "execution_count": 896,
   "metadata": {},
   "outputs": [],
   "source": [
    "com=countryhc.intersection(country5)"
   ]
  },
  {
   "cell_type": "code",
   "execution_count": 897,
   "metadata": {},
   "outputs": [
    {
     "data": {
      "text/plain": [
       "22"
      ]
     },
     "execution_count": 897,
     "metadata": {},
     "output_type": "execute_result"
    }
   ],
   "source": [
    "len(com)"
   ]
  },
  {
   "cell_type": "markdown",
   "metadata": {},
   "source": [
    "countries missing in the cluster obtained through HC are -"
   ]
  },
  {
   "cell_type": "code",
   "execution_count": 898,
   "metadata": {},
   "outputs": [
    {
     "data": {
      "text/plain": [
       "{'Botswana',\n",
       " 'Comoros',\n",
       " 'Congo, Rep.',\n",
       " 'Eritrea',\n",
       " 'Gabon',\n",
       " 'Gambia',\n",
       " 'Ghana',\n",
       " 'Kenya',\n",
       " 'Kiribati',\n",
       " 'Lao',\n",
       " 'Liberia',\n",
       " 'Madagascar',\n",
       " 'Mauritania',\n",
       " 'Namibia',\n",
       " 'Pakistan',\n",
       " 'Rwanda',\n",
       " 'Senegal',\n",
       " 'Solomon Islands',\n",
       " 'South Africa',\n",
       " 'Sudan',\n",
       " 'Tanzania',\n",
       " 'Timor-Leste',\n",
       " 'Togo',\n",
       " 'Yemen'}"
      ]
     },
     "execution_count": 898,
     "metadata": {},
     "output_type": "execute_result"
    }
   ],
   "source": [
    "country5-com"
   ]
  },
  {
   "cell_type": "code",
   "execution_count": 899,
   "metadata": {},
   "outputs": [
    {
     "data": {
      "text/html": [
       "<div>\n",
       "<style scoped>\n",
       "    .dataframe tbody tr th:only-of-type {\n",
       "        vertical-align: middle;\n",
       "    }\n",
       "\n",
       "    .dataframe tbody tr th {\n",
       "        vertical-align: top;\n",
       "    }\n",
       "\n",
       "    .dataframe thead th {\n",
       "        text-align: right;\n",
       "    }\n",
       "</style>\n",
       "<table border=\"1\" class=\"dataframe\">\n",
       "  <thead>\n",
       "    <tr style=\"text-align: right;\">\n",
       "      <th></th>\n",
       "      <th>country</th>\n",
       "      <th>child_mort</th>\n",
       "      <th>exports</th>\n",
       "      <th>health</th>\n",
       "      <th>imports</th>\n",
       "      <th>income</th>\n",
       "      <th>inflation</th>\n",
       "      <th>life_expec</th>\n",
       "      <th>total_fer</th>\n",
       "      <th>gdpp</th>\n",
       "      <th>PC1</th>\n",
       "      <th>PC2</th>\n",
       "      <th>PC3</th>\n",
       "      <th>PC4</th>\n",
       "      <th>ClusterID</th>\n",
       "    </tr>\n",
       "  </thead>\n",
       "  <tbody>\n",
       "    <tr>\n",
       "      <th>150</th>\n",
       "      <td>Togo</td>\n",
       "      <td>1.290139</td>\n",
       "      <td>-0.401941</td>\n",
       "      <td>-0.565891</td>\n",
       "      <td>-0.42885</td>\n",
       "      <td>-0.826571</td>\n",
       "      <td>-0.504259</td>\n",
       "      <td>-1.333123</td>\n",
       "      <td>1.269636</td>\n",
       "      <td>-0.680689</td>\n",
       "      <td>-2.384972</td>\n",
       "      <td>1.146577</td>\n",
       "      <td>-0.300756</td>\n",
       "      <td>-0.136465</td>\n",
       "      <td>0</td>\n",
       "    </tr>\n",
       "  </tbody>\n",
       "</table>\n",
       "</div>"
      ],
      "text/plain": [
       "    country  child_mort   exports    health  imports    income  inflation  \\\n",
       "150    Togo    1.290139 -0.401941 -0.565891 -0.42885 -0.826571  -0.504259   \n",
       "\n",
       "     life_expec  total_fer      gdpp       PC1       PC2       PC3       PC4  \\\n",
       "150   -1.333123   1.269636 -0.680689 -2.384972  1.146577 -0.300756 -0.136465   \n",
       "\n",
       "     ClusterID  \n",
       "150          0  "
      ]
     },
     "execution_count": 899,
     "metadata": {},
     "output_type": "execute_result"
    }
   ],
   "source": [
    "final_df[final_df.country == 'Togo']"
   ]
  },
  {
   "cell_type": "code",
   "execution_count": 900,
   "metadata": {},
   "outputs": [
    {
     "data": {
      "text/html": [
       "<div>\n",
       "<style scoped>\n",
       "    .dataframe tbody tr th:only-of-type {\n",
       "        vertical-align: middle;\n",
       "    }\n",
       "\n",
       "    .dataframe tbody tr th {\n",
       "        vertical-align: top;\n",
       "    }\n",
       "\n",
       "    .dataframe thead th {\n",
       "        text-align: right;\n",
       "    }\n",
       "</style>\n",
       "<table border=\"1\" class=\"dataframe\">\n",
       "  <thead>\n",
       "    <tr style=\"text-align: right;\">\n",
       "      <th></th>\n",
       "      <th>country</th>\n",
       "      <th>child_mort</th>\n",
       "      <th>exports</th>\n",
       "      <th>health</th>\n",
       "      <th>imports</th>\n",
       "      <th>income</th>\n",
       "      <th>inflation</th>\n",
       "      <th>life_expec</th>\n",
       "      <th>total_fer</th>\n",
       "      <th>gdpp</th>\n",
       "      <th>PC1</th>\n",
       "      <th>PC2</th>\n",
       "      <th>PC3</th>\n",
       "      <th>PC4</th>\n",
       "      <th>ClusterID</th>\n",
       "    </tr>\n",
       "  </thead>\n",
       "  <tbody>\n",
       "    <tr>\n",
       "      <th>116</th>\n",
       "      <td>Pakistan</td>\n",
       "      <td>1.334772</td>\n",
       "      <td>-0.405044</td>\n",
       "      <td>-0.573914</td>\n",
       "      <td>-0.434143</td>\n",
       "      <td>-0.667323</td>\n",
       "      <td>-0.410101</td>\n",
       "      <td>-0.59098</td>\n",
       "      <td>0.595857</td>\n",
       "      <td>-0.650573</td>\n",
       "      <td>-1.86858</td>\n",
       "      <td>0.577866</td>\n",
       "      <td>-0.179775</td>\n",
       "      <td>-0.034006</td>\n",
       "      <td>0</td>\n",
       "    </tr>\n",
       "  </tbody>\n",
       "</table>\n",
       "</div>"
      ],
      "text/plain": [
       "      country  child_mort   exports    health   imports    income  inflation  \\\n",
       "116  Pakistan    1.334772 -0.405044 -0.573914 -0.434143 -0.667323  -0.410101   \n",
       "\n",
       "     life_expec  total_fer      gdpp      PC1       PC2       PC3       PC4  \\\n",
       "116    -0.59098   0.595857 -0.650573 -1.86858  0.577866 -0.179775 -0.034006   \n",
       "\n",
       "     ClusterID  \n",
       "116          0  "
      ]
     },
     "execution_count": 900,
     "metadata": {},
     "output_type": "execute_result"
    }
   ],
   "source": [
    "final_df[final_df.country == 'Pakistan']"
   ]
  },
  {
   "cell_type": "code",
   "execution_count": 901,
   "metadata": {},
   "outputs": [
    {
     "data": {
      "text/html": [
       "<div>\n",
       "<style scoped>\n",
       "    .dataframe tbody tr th:only-of-type {\n",
       "        vertical-align: middle;\n",
       "    }\n",
       "\n",
       "    .dataframe tbody tr th {\n",
       "        vertical-align: top;\n",
       "    }\n",
       "\n",
       "    .dataframe thead th {\n",
       "        text-align: right;\n",
       "    }\n",
       "</style>\n",
       "<table border=\"1\" class=\"dataframe\">\n",
       "  <thead>\n",
       "    <tr style=\"text-align: right;\">\n",
       "      <th></th>\n",
       "      <th>child_mort</th>\n",
       "      <th>exports</th>\n",
       "      <th>health</th>\n",
       "      <th>imports</th>\n",
       "      <th>income</th>\n",
       "      <th>inflation</th>\n",
       "      <th>life_expec</th>\n",
       "      <th>total_fer</th>\n",
       "      <th>gdpp</th>\n",
       "      <th>PC1</th>\n",
       "      <th>PC2</th>\n",
       "      <th>PC3</th>\n",
       "      <th>PC4</th>\n",
       "      <th>ClusterID</th>\n",
       "    </tr>\n",
       "  </thead>\n",
       "  <tbody>\n",
       "    <tr>\n",
       "      <th>count</th>\n",
       "      <td>46.000000</td>\n",
       "      <td>46.000000</td>\n",
       "      <td>46.000000</td>\n",
       "      <td>46.000000</td>\n",
       "      <td>46.000000</td>\n",
       "      <td>46.000000</td>\n",
       "      <td>46.000000</td>\n",
       "      <td>46.000000</td>\n",
       "      <td>46.000000</td>\n",
       "      <td>46.000000</td>\n",
       "      <td>46.000000</td>\n",
       "      <td>46.000000</td>\n",
       "      <td>46.000000</td>\n",
       "      <td>46.0</td>\n",
       "    </tr>\n",
       "    <tr>\n",
       "      <th>mean</th>\n",
       "      <td>1.341672</td>\n",
       "      <td>-0.381711</td>\n",
       "      <td>-0.533916</td>\n",
       "      <td>-0.406346</td>\n",
       "      <td>-0.730705</td>\n",
       "      <td>-0.317487</td>\n",
       "      <td>-1.295967</td>\n",
       "      <td>1.353356</td>\n",
       "      <td>-0.624240</td>\n",
       "      <td>-2.289432</td>\n",
       "      <td>1.279428</td>\n",
       "      <td>-0.136272</td>\n",
       "      <td>-0.174344</td>\n",
       "      <td>0.0</td>\n",
       "    </tr>\n",
       "    <tr>\n",
       "      <th>std</th>\n",
       "      <td>0.842603</td>\n",
       "      <td>0.054217</td>\n",
       "      <td>0.072888</td>\n",
       "      <td>0.049109</td>\n",
       "      <td>0.167759</td>\n",
       "      <td>0.382717</td>\n",
       "      <td>0.720574</td>\n",
       "      <td>0.697889</td>\n",
       "      <td>0.102239</td>\n",
       "      <td>0.619485</td>\n",
       "      <td>0.754258</td>\n",
       "      <td>0.337675</td>\n",
       "      <td>0.190179</td>\n",
       "      <td>0.0</td>\n",
       "    </tr>\n",
       "    <tr>\n",
       "      <th>min</th>\n",
       "      <td>-0.252178</td>\n",
       "      <td>-0.411709</td>\n",
       "      <td>-0.579498</td>\n",
       "      <td>-0.441702</td>\n",
       "      <td>-0.857746</td>\n",
       "      <td>-0.504259</td>\n",
       "      <td>-4.324181</td>\n",
       "      <td>-0.236460</td>\n",
       "      <td>-0.694711</td>\n",
       "      <td>-3.962651</td>\n",
       "      <td>0.081083</td>\n",
       "      <td>-0.452650</td>\n",
       "      <td>-0.596090</td>\n",
       "      <td>0.0</td>\n",
       "    </tr>\n",
       "    <tr>\n",
       "      <th>1%</th>\n",
       "      <td>0.020083</td>\n",
       "      <td>-0.411647</td>\n",
       "      <td>-0.578811</td>\n",
       "      <td>-0.441037</td>\n",
       "      <td>-0.855622</td>\n",
       "      <td>-0.503885</td>\n",
       "      <td>-3.595532</td>\n",
       "      <td>-0.150256</td>\n",
       "      <td>-0.692354</td>\n",
       "      <td>-3.678673</td>\n",
       "      <td>0.165014</td>\n",
       "      <td>-0.410831</td>\n",
       "      <td>-0.587648</td>\n",
       "      <td>0.0</td>\n",
       "    </tr>\n",
       "    <tr>\n",
       "      <th>5%</th>\n",
       "      <td>0.391901</td>\n",
       "      <td>-0.409890</td>\n",
       "      <td>-0.576732</td>\n",
       "      <td>-0.439493</td>\n",
       "      <td>-0.849058</td>\n",
       "      <td>-0.501513</td>\n",
       "      <td>-2.466014</td>\n",
       "      <td>0.158230</td>\n",
       "      <td>-0.688901</td>\n",
       "      <td>-3.192723</td>\n",
       "      <td>0.364982</td>\n",
       "      <td>-0.339313</td>\n",
       "      <td>-0.511182</td>\n",
       "      <td>0.0</td>\n",
       "    </tr>\n",
       "    <tr>\n",
       "      <th>25%</th>\n",
       "      <td>0.631803</td>\n",
       "      <td>-0.407174</td>\n",
       "      <td>-0.568488</td>\n",
       "      <td>-0.434752</td>\n",
       "      <td>-0.817234</td>\n",
       "      <td>-0.486661</td>\n",
       "      <td>-1.572070</td>\n",
       "      <td>0.962472</td>\n",
       "      <td>-0.677389</td>\n",
       "      <td>-2.673121</td>\n",
       "      <td>0.625447</td>\n",
       "      <td>-0.281214</td>\n",
       "      <td>-0.287061</td>\n",
       "      <td>0.0</td>\n",
       "    </tr>\n",
       "    <tr>\n",
       "      <th>50%</th>\n",
       "      <td>1.276501</td>\n",
       "      <td>-0.402380</td>\n",
       "      <td>-0.559566</td>\n",
       "      <td>-0.426523</td>\n",
       "      <td>-0.794151</td>\n",
       "      <td>-0.459756</td>\n",
       "      <td>-1.254411</td>\n",
       "      <td>1.391842</td>\n",
       "      <td>-0.661866</td>\n",
       "      <td>-2.320047</td>\n",
       "      <td>1.115753</td>\n",
       "      <td>-0.250706</td>\n",
       "      <td>-0.181140</td>\n",
       "      <td>0.0</td>\n",
       "    </tr>\n",
       "    <tr>\n",
       "      <th>75%</th>\n",
       "      <td>1.803418</td>\n",
       "      <td>-0.388007</td>\n",
       "      <td>-0.541322</td>\n",
       "      <td>-0.407651</td>\n",
       "      <td>-0.717639</td>\n",
       "      <td>-0.334732</td>\n",
       "      <td>-0.888962</td>\n",
       "      <td>1.799743</td>\n",
       "      <td>-0.635842</td>\n",
       "      <td>-1.873907</td>\n",
       "      <td>1.685464</td>\n",
       "      <td>-0.151181</td>\n",
       "      <td>-0.000410</td>\n",
       "      <td>0.0</td>\n",
       "    </tr>\n",
       "    <tr>\n",
       "      <th>95%</th>\n",
       "      <td>2.764267</td>\n",
       "      <td>-0.276906</td>\n",
       "      <td>-0.394548</td>\n",
       "      <td>-0.318057</td>\n",
       "      <td>-0.312775</td>\n",
       "      <td>0.289788</td>\n",
       "      <td>-0.377333</td>\n",
       "      <td>2.377740</td>\n",
       "      <td>-0.376685</td>\n",
       "      <td>-1.257156</td>\n",
       "      <td>2.476863</td>\n",
       "      <td>0.395504</td>\n",
       "      <td>0.103572</td>\n",
       "      <td>0.0</td>\n",
       "    </tr>\n",
       "    <tr>\n",
       "      <th>99%</th>\n",
       "      <td>3.673044</td>\n",
       "      <td>-0.189049</td>\n",
       "      <td>-0.256246</td>\n",
       "      <td>-0.229699</td>\n",
       "      <td>-0.139521</td>\n",
       "      <td>1.228905</td>\n",
       "      <td>-0.085536</td>\n",
       "      <td>2.732796</td>\n",
       "      <td>-0.266012</td>\n",
       "      <td>-1.031889</td>\n",
       "      <td>3.009917</td>\n",
       "      <td>1.223505</td>\n",
       "      <td>0.141674</td>\n",
       "      <td>0.0</td>\n",
       "    </tr>\n",
       "    <tr>\n",
       "      <th>max</th>\n",
       "      <td>4.208640</td>\n",
       "      <td>-0.131962</td>\n",
       "      <td>-0.225324</td>\n",
       "      <td>-0.226419</td>\n",
       "      <td>-0.090501</td>\n",
       "      <td>1.611143</td>\n",
       "      <td>0.061206</td>\n",
       "      <td>3.000326</td>\n",
       "      <td>-0.229921</td>\n",
       "      <td>-0.979230</td>\n",
       "      <td>3.364705</td>\n",
       "      <td>1.529682</td>\n",
       "      <td>0.160461</td>\n",
       "      <td>0.0</td>\n",
       "    </tr>\n",
       "  </tbody>\n",
       "</table>\n",
       "</div>"
      ],
      "text/plain": [
       "       child_mort    exports     health    imports     income  inflation  \\\n",
       "count   46.000000  46.000000  46.000000  46.000000  46.000000  46.000000   \n",
       "mean     1.341672  -0.381711  -0.533916  -0.406346  -0.730705  -0.317487   \n",
       "std      0.842603   0.054217   0.072888   0.049109   0.167759   0.382717   \n",
       "min     -0.252178  -0.411709  -0.579498  -0.441702  -0.857746  -0.504259   \n",
       "1%       0.020083  -0.411647  -0.578811  -0.441037  -0.855622  -0.503885   \n",
       "5%       0.391901  -0.409890  -0.576732  -0.439493  -0.849058  -0.501513   \n",
       "25%      0.631803  -0.407174  -0.568488  -0.434752  -0.817234  -0.486661   \n",
       "50%      1.276501  -0.402380  -0.559566  -0.426523  -0.794151  -0.459756   \n",
       "75%      1.803418  -0.388007  -0.541322  -0.407651  -0.717639  -0.334732   \n",
       "95%      2.764267  -0.276906  -0.394548  -0.318057  -0.312775   0.289788   \n",
       "99%      3.673044  -0.189049  -0.256246  -0.229699  -0.139521   1.228905   \n",
       "max      4.208640  -0.131962  -0.225324  -0.226419  -0.090501   1.611143   \n",
       "\n",
       "       life_expec  total_fer       gdpp        PC1        PC2        PC3  \\\n",
       "count   46.000000  46.000000  46.000000  46.000000  46.000000  46.000000   \n",
       "mean    -1.295967   1.353356  -0.624240  -2.289432   1.279428  -0.136272   \n",
       "std      0.720574   0.697889   0.102239   0.619485   0.754258   0.337675   \n",
       "min     -4.324181  -0.236460  -0.694711  -3.962651   0.081083  -0.452650   \n",
       "1%      -3.595532  -0.150256  -0.692354  -3.678673   0.165014  -0.410831   \n",
       "5%      -2.466014   0.158230  -0.688901  -3.192723   0.364982  -0.339313   \n",
       "25%     -1.572070   0.962472  -0.677389  -2.673121   0.625447  -0.281214   \n",
       "50%     -1.254411   1.391842  -0.661866  -2.320047   1.115753  -0.250706   \n",
       "75%     -0.888962   1.799743  -0.635842  -1.873907   1.685464  -0.151181   \n",
       "95%     -0.377333   2.377740  -0.376685  -1.257156   2.476863   0.395504   \n",
       "99%     -0.085536   2.732796  -0.266012  -1.031889   3.009917   1.223505   \n",
       "max      0.061206   3.000326  -0.229921  -0.979230   3.364705   1.529682   \n",
       "\n",
       "             PC4  ClusterID  \n",
       "count  46.000000       46.0  \n",
       "mean   -0.174344        0.0  \n",
       "std     0.190179        0.0  \n",
       "min    -0.596090        0.0  \n",
       "1%     -0.587648        0.0  \n",
       "5%     -0.511182        0.0  \n",
       "25%    -0.287061        0.0  \n",
       "50%    -0.181140        0.0  \n",
       "75%    -0.000410        0.0  \n",
       "95%     0.103572        0.0  \n",
       "99%     0.141674        0.0  \n",
       "max     0.160461        0.0  "
      ]
     },
     "execution_count": 901,
     "metadata": {},
     "output_type": "execute_result"
    }
   ],
   "source": [
    "df5.describe(percentiles=(.01,.05,.25,.50,.75,.95,.99))"
   ]
  },
  {
   "cell_type": "code",
   "execution_count": 902,
   "metadata": {},
   "outputs": [
    {
     "data": {
      "text/html": [
       "<div>\n",
       "<style scoped>\n",
       "    .dataframe tbody tr th:only-of-type {\n",
       "        vertical-align: middle;\n",
       "    }\n",
       "\n",
       "    .dataframe tbody tr th {\n",
       "        vertical-align: top;\n",
       "    }\n",
       "\n",
       "    .dataframe thead th {\n",
       "        text-align: right;\n",
       "    }\n",
       "</style>\n",
       "<table border=\"1\" class=\"dataframe\">\n",
       "  <thead>\n",
       "    <tr style=\"text-align: right;\">\n",
       "      <th></th>\n",
       "      <th>country</th>\n",
       "      <th>child_mort</th>\n",
       "      <th>exports</th>\n",
       "      <th>health</th>\n",
       "      <th>imports</th>\n",
       "      <th>income</th>\n",
       "      <th>inflation</th>\n",
       "      <th>life_expec</th>\n",
       "      <th>total_fer</th>\n",
       "      <th>gdpp</th>\n",
       "      <th>PC1</th>\n",
       "      <th>PC2</th>\n",
       "      <th>PC3</th>\n",
       "      <th>PC4</th>\n",
       "      <th>ClusterID</th>\n",
       "    </tr>\n",
       "  </thead>\n",
       "  <tbody>\n",
       "    <tr>\n",
       "      <th>21</th>\n",
       "      <td>Botswana</td>\n",
       "      <td>0.352847</td>\n",
       "      <td>-0.258821</td>\n",
       "      <td>-0.294038</td>\n",
       "      <td>-0.226419</td>\n",
       "      <td>-0.199433</td>\n",
       "      <td>-0.013647</td>\n",
       "      <td>-1.513036</td>\n",
       "      <td>-0.044895</td>\n",
       "      <td>-0.360863</td>\n",
       "      <td>-1.096249</td>\n",
       "      <td>0.490077</td>\n",
       "      <td>0.102767</td>\n",
       "      <td>0.118712</td>\n",
       "      <td>0</td>\n",
       "    </tr>\n",
       "    <tr>\n",
       "      <th>136</th>\n",
       "      <td>Solomon Islands</td>\n",
       "      <td>-0.252178</td>\n",
       "      <td>-0.377473</td>\n",
       "      <td>-0.525388</td>\n",
       "      <td>-0.376653</td>\n",
       "      <td>-0.797004</td>\n",
       "      <td>-0.432425</td>\n",
       "      <td>-0.995785</td>\n",
       "      <td>0.853478</td>\n",
       "      <td>-0.636933</td>\n",
       "      <td>-1.598602</td>\n",
       "      <td>0.081083</td>\n",
       "      <td>-0.219766</td>\n",
       "      <td>0.160461</td>\n",
       "      <td>0</td>\n",
       "    </tr>\n",
       "    <tr>\n",
       "      <th>137</th>\n",
       "      <td>South Africa</td>\n",
       "      <td>0.382602</td>\n",
       "      <td>-0.297016</td>\n",
       "      <td>-0.225324</td>\n",
       "      <td>-0.312262</td>\n",
       "      <td>-0.266867</td>\n",
       "      <td>-0.104776</td>\n",
       "      <td>-1.827884</td>\n",
       "      <td>-0.236460</td>\n",
       "      <td>-0.310123</td>\n",
       "      <td>-1.197835</td>\n",
       "      <td>0.487088</td>\n",
       "      <td>0.014299</td>\n",
       "      <td>0.039231</td>\n",
       "      <td>0</td>\n",
       "    </tr>\n",
       "  </tbody>\n",
       "</table>\n",
       "</div>"
      ],
      "text/plain": [
       "             country  child_mort   exports    health   imports    income  \\\n",
       "21          Botswana    0.352847 -0.258821 -0.294038 -0.226419 -0.199433   \n",
       "136  Solomon Islands   -0.252178 -0.377473 -0.525388 -0.376653 -0.797004   \n",
       "137     South Africa    0.382602 -0.297016 -0.225324 -0.312262 -0.266867   \n",
       "\n",
       "     inflation  life_expec  total_fer      gdpp       PC1       PC2       PC3  \\\n",
       "21   -0.013647   -1.513036  -0.044895 -0.360863 -1.096249  0.490077  0.102767   \n",
       "136  -0.432425   -0.995785   0.853478 -0.636933 -1.598602  0.081083 -0.219766   \n",
       "137  -0.104776   -1.827884  -0.236460 -0.310123 -1.197835  0.487088  0.014299   \n",
       "\n",
       "          PC4  ClusterID  \n",
       "21   0.118712          0  \n",
       "136  0.160461          0  \n",
       "137  0.039231          0  "
      ]
     },
     "execution_count": 902,
     "metadata": {},
     "output_type": "execute_result"
    }
   ],
   "source": [
    "q = df5.child_mort.quantile(.05)\n",
    "df5.loc[(df.child_mort<q)]"
   ]
  },
  {
   "cell_type": "code",
   "execution_count": 903,
   "metadata": {},
   "outputs": [
    {
     "data": {
      "text/html": [
       "<div>\n",
       "<style scoped>\n",
       "    .dataframe tbody tr th:only-of-type {\n",
       "        vertical-align: middle;\n",
       "    }\n",
       "\n",
       "    .dataframe tbody tr th {\n",
       "        vertical-align: top;\n",
       "    }\n",
       "\n",
       "    .dataframe thead th {\n",
       "        text-align: right;\n",
       "    }\n",
       "</style>\n",
       "<table border=\"1\" class=\"dataframe\">\n",
       "  <thead>\n",
       "    <tr style=\"text-align: right;\">\n",
       "      <th></th>\n",
       "      <th>country</th>\n",
       "      <th>child_mort</th>\n",
       "      <th>exports</th>\n",
       "      <th>health</th>\n",
       "      <th>imports</th>\n",
       "      <th>income</th>\n",
       "      <th>inflation</th>\n",
       "      <th>life_expec</th>\n",
       "      <th>total_fer</th>\n",
       "      <th>gdpp</th>\n",
       "      <th>PC1</th>\n",
       "      <th>PC2</th>\n",
       "      <th>PC3</th>\n",
       "      <th>PC4</th>\n",
       "      <th>ClusterID</th>\n",
       "    </tr>\n",
       "  </thead>\n",
       "  <tbody>\n",
       "    <tr>\n",
       "      <th>21</th>\n",
       "      <td>Botswana</td>\n",
       "      <td>0.352847</td>\n",
       "      <td>-0.258821</td>\n",
       "      <td>-0.294038</td>\n",
       "      <td>-0.226419</td>\n",
       "      <td>-0.199433</td>\n",
       "      <td>-0.013647</td>\n",
       "      <td>-1.513036</td>\n",
       "      <td>-0.044895</td>\n",
       "      <td>-0.360863</td>\n",
       "      <td>-1.096249</td>\n",
       "      <td>0.490077</td>\n",
       "      <td>0.102767</td>\n",
       "      <td>0.118712</td>\n",
       "      <td>0</td>\n",
       "    </tr>\n",
       "    <tr>\n",
       "      <th>108</th>\n",
       "      <td>Namibia</td>\n",
       "      <td>0.439633</td>\n",
       "      <td>-0.274832</td>\n",
       "      <td>-0.391278</td>\n",
       "      <td>-0.233707</td>\n",
       "      <td>-0.450496</td>\n",
       "      <td>-0.347619</td>\n",
       "      <td>-1.344367</td>\n",
       "      <td>0.430714</td>\n",
       "      <td>-0.424152</td>\n",
       "      <td>-1.435118</td>\n",
       "      <td>0.562388</td>\n",
       "      <td>-0.204044</td>\n",
       "      <td>0.071467</td>\n",
       "      <td>0</td>\n",
       "    </tr>\n",
       "    <tr>\n",
       "      <th>137</th>\n",
       "      <td>South Africa</td>\n",
       "      <td>0.382602</td>\n",
       "      <td>-0.297016</td>\n",
       "      <td>-0.225324</td>\n",
       "      <td>-0.312262</td>\n",
       "      <td>-0.266867</td>\n",
       "      <td>-0.104776</td>\n",
       "      <td>-1.827884</td>\n",
       "      <td>-0.236460</td>\n",
       "      <td>-0.310123</td>\n",
       "      <td>-1.197835</td>\n",
       "      <td>0.487088</td>\n",
       "      <td>0.014299</td>\n",
       "      <td>0.039231</td>\n",
       "      <td>0</td>\n",
       "    </tr>\n",
       "  </tbody>\n",
       "</table>\n",
       "</div>"
      ],
      "text/plain": [
       "          country  child_mort   exports    health   imports    income  \\\n",
       "21       Botswana    0.352847 -0.258821 -0.294038 -0.226419 -0.199433   \n",
       "108       Namibia    0.439633 -0.274832 -0.391278 -0.233707 -0.450496   \n",
       "137  South Africa    0.382602 -0.297016 -0.225324 -0.312262 -0.266867   \n",
       "\n",
       "     inflation  life_expec  total_fer      gdpp       PC1       PC2       PC3  \\\n",
       "21   -0.013647   -1.513036  -0.044895 -0.360863 -1.096249  0.490077  0.102767   \n",
       "108  -0.347619   -1.344367   0.430714 -0.424152 -1.435118  0.562388 -0.204044   \n",
       "137  -0.104776   -1.827884  -0.236460 -0.310123 -1.197835  0.487088  0.014299   \n",
       "\n",
       "          PC4  ClusterID  \n",
       "21   0.118712          0  \n",
       "108  0.071467          0  \n",
       "137  0.039231          0  "
      ]
     },
     "execution_count": 903,
     "metadata": {},
     "output_type": "execute_result"
    }
   ],
   "source": [
    "q = df5.health.quantile(.95)\n",
    "df5.loc[(df.health>=q)]"
   ]
  },
  {
   "cell_type": "code",
   "execution_count": 904,
   "metadata": {},
   "outputs": [
    {
     "data": {
      "text/html": [
       "<div>\n",
       "<style scoped>\n",
       "    .dataframe tbody tr th:only-of-type {\n",
       "        vertical-align: middle;\n",
       "    }\n",
       "\n",
       "    .dataframe tbody tr th {\n",
       "        vertical-align: top;\n",
       "    }\n",
       "\n",
       "    .dataframe thead th {\n",
       "        text-align: right;\n",
       "    }\n",
       "</style>\n",
       "<table border=\"1\" class=\"dataframe\">\n",
       "  <thead>\n",
       "    <tr style=\"text-align: right;\">\n",
       "      <th></th>\n",
       "      <th>country</th>\n",
       "      <th>child_mort</th>\n",
       "      <th>exports</th>\n",
       "      <th>health</th>\n",
       "      <th>imports</th>\n",
       "      <th>income</th>\n",
       "      <th>inflation</th>\n",
       "      <th>life_expec</th>\n",
       "      <th>total_fer</th>\n",
       "      <th>gdpp</th>\n",
       "      <th>PC1</th>\n",
       "      <th>PC2</th>\n",
       "      <th>PC3</th>\n",
       "      <th>PC4</th>\n",
       "      <th>ClusterID</th>\n",
       "    </tr>\n",
       "  </thead>\n",
       "  <tbody>\n",
       "    <tr>\n",
       "      <th>21</th>\n",
       "      <td>Botswana</td>\n",
       "      <td>0.352847</td>\n",
       "      <td>-0.258821</td>\n",
       "      <td>-0.294038</td>\n",
       "      <td>-0.226419</td>\n",
       "      <td>-0.199433</td>\n",
       "      <td>-0.013647</td>\n",
       "      <td>-1.513036</td>\n",
       "      <td>-0.044895</td>\n",
       "      <td>-0.360863</td>\n",
       "      <td>-1.096249</td>\n",
       "      <td>0.490077</td>\n",
       "      <td>0.102767</td>\n",
       "      <td>0.118712</td>\n",
       "      <td>0</td>\n",
       "    </tr>\n",
       "    <tr>\n",
       "      <th>55</th>\n",
       "      <td>Gabon</td>\n",
       "      <td>0.630563</td>\n",
       "      <td>-0.131962</td>\n",
       "      <td>-0.416609</td>\n",
       "      <td>-0.335441</td>\n",
       "      <td>-0.090501</td>\n",
       "      <td>0.761724</td>\n",
       "      <td>-0.860850</td>\n",
       "      <td>0.747787</td>\n",
       "      <td>-0.229921</td>\n",
       "      <td>-0.979230</td>\n",
       "      <td>0.956709</td>\n",
       "      <td>0.849288</td>\n",
       "      <td>0.014858</td>\n",
       "      <td>0</td>\n",
       "    </tr>\n",
       "    <tr>\n",
       "      <th>137</th>\n",
       "      <td>South Africa</td>\n",
       "      <td>0.382602</td>\n",
       "      <td>-0.297016</td>\n",
       "      <td>-0.225324</td>\n",
       "      <td>-0.312262</td>\n",
       "      <td>-0.266867</td>\n",
       "      <td>-0.104776</td>\n",
       "      <td>-1.827884</td>\n",
       "      <td>-0.236460</td>\n",
       "      <td>-0.310123</td>\n",
       "      <td>-1.197835</td>\n",
       "      <td>0.487088</td>\n",
       "      <td>0.014299</td>\n",
       "      <td>0.039231</td>\n",
       "      <td>0</td>\n",
       "    </tr>\n",
       "  </tbody>\n",
       "</table>\n",
       "</div>"
      ],
      "text/plain": [
       "          country  child_mort   exports    health   imports    income  \\\n",
       "21       Botswana    0.352847 -0.258821 -0.294038 -0.226419 -0.199433   \n",
       "55          Gabon    0.630563 -0.131962 -0.416609 -0.335441 -0.090501   \n",
       "137  South Africa    0.382602 -0.297016 -0.225324 -0.312262 -0.266867   \n",
       "\n",
       "     inflation  life_expec  total_fer      gdpp       PC1       PC2       PC3  \\\n",
       "21   -0.013647   -1.513036  -0.044895 -0.360863 -1.096249  0.490077  0.102767   \n",
       "55    0.761724   -0.860850   0.747787 -0.229921 -0.979230  0.956709  0.849288   \n",
       "137  -0.104776   -1.827884  -0.236460 -0.310123 -1.197835  0.487088  0.014299   \n",
       "\n",
       "          PC4  ClusterID  \n",
       "21   0.118712          0  \n",
       "55   0.014858          0  \n",
       "137  0.039231          0  "
      ]
     },
     "execution_count": 904,
     "metadata": {},
     "output_type": "execute_result"
    }
   ],
   "source": [
    "q = df5.income.quantile(.95)\n",
    "df5.loc[(df.income>=q)]"
   ]
  },
  {
   "cell_type": "markdown",
   "metadata": {},
   "source": [
    "The countries which are not present in the cluster obtained by heirarchichal clustering has high child mort and low health, income and life expectancy. Therefore, the group of countries found through Kmeans with k=5 is the best set. So 46 countries listed in country5 needs the aid the most. Out of them, Botswana and South Africa can be put in the 2nd priority list which have comparitively higher income, better health spendings and lower child mortality rate."
   ]
  },
  {
   "cell_type": "code",
   "execution_count": 905,
   "metadata": {},
   "outputs": [
    {
     "data": {
      "text/plain": [
       "{'Afghanistan',\n",
       " 'Angola',\n",
       " 'Benin',\n",
       " 'Botswana',\n",
       " 'Burkina Faso',\n",
       " 'Burundi',\n",
       " 'Cameroon',\n",
       " 'Central African Republic',\n",
       " 'Chad',\n",
       " 'Comoros',\n",
       " 'Congo, Dem. Rep.',\n",
       " 'Congo, Rep.',\n",
       " \"Cote d'Ivoire\",\n",
       " 'Eritrea',\n",
       " 'Gabon',\n",
       " 'Gambia',\n",
       " 'Ghana',\n",
       " 'Guinea',\n",
       " 'Guinea-Bissau',\n",
       " 'Haiti',\n",
       " 'Kenya',\n",
       " 'Kiribati',\n",
       " 'Lao',\n",
       " 'Lesotho',\n",
       " 'Liberia',\n",
       " 'Madagascar',\n",
       " 'Malawi',\n",
       " 'Mali',\n",
       " 'Mauritania',\n",
       " 'Mozambique',\n",
       " 'Namibia',\n",
       " 'Niger',\n",
       " 'Nigeria',\n",
       " 'Pakistan',\n",
       " 'Rwanda',\n",
       " 'Senegal',\n",
       " 'Sierra Leone',\n",
       " 'Solomon Islands',\n",
       " 'South Africa',\n",
       " 'Sudan',\n",
       " 'Tanzania',\n",
       " 'Timor-Leste',\n",
       " 'Togo',\n",
       " 'Uganda',\n",
       " 'Yemen',\n",
       " 'Zambia'}"
      ]
     },
     "execution_count": 905,
     "metadata": {},
     "output_type": "execute_result"
    }
   ],
   "source": [
    "country5"
   ]
  }
 ],
 "metadata": {
  "kernelspec": {
   "display_name": "Python 3",
   "language": "python",
   "name": "python3"
  },
  "language_info": {
   "codemirror_mode": {
    "name": "ipython",
    "version": 3
   },
   "file_extension": ".py",
   "mimetype": "text/x-python",
   "name": "python",
   "nbconvert_exporter": "python",
   "pygments_lexer": "ipython3",
   "version": "3.7.0"
  }
 },
 "nbformat": 4,
 "nbformat_minor": 2
}
